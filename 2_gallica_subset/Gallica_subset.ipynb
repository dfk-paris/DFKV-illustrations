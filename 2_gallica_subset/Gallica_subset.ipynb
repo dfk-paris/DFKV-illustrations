{
 "cells": [
  {
   "cell_type": "markdown",
   "id": "3bdc5aa9",
   "metadata": {},
   "source": [
    "# Subset Data with Images from Gallica"
   ]
  },
  {
   "cell_type": "markdown",
   "id": "92a9df34",
   "metadata": {},
   "source": [
    "In this notebook we will, from the available tables, find all the documents which have a IIIF manifest at Gallica, and that contain images of interest.\n",
    "\n",
    "To know which images are interesting, we will use a the manual annotations gathered in `data/DFKV_id_illustration.csv`. All the IDs present in the dataframe have been marked at containing images.\n",
    "\n",
    "We will then filter the database (`data/DFKV_Master.csv`) to keep only these documents, and also only those that have a Gallica IIIF link."
   ]
  },
  {
   "cell_type": "markdown",
   "id": "7df48508",
   "metadata": {},
   "source": [
    "Let´s load the data."
   ]
  },
  {
   "cell_type": "code",
   "execution_count": 1,
   "id": "4bd4dcba",
   "metadata": {},
   "outputs": [],
   "source": [
    "# Basic imports\n",
    "import requests\n",
    "import pandas as pd\n",
    "import os\n",
    "from tqdm import tqdm"
   ]
  },
  {
   "cell_type": "code",
   "execution_count": 2,
   "id": "afb98da0",
   "metadata": {},
   "outputs": [],
   "source": [
    "docs_illus_df = pd.read_csv('data/DFKV_id_illustration.csv')"
   ]
  },
  {
   "cell_type": "code",
   "execution_count": 3,
   "id": "7a29073b",
   "metadata": {},
   "outputs": [
    {
     "data": {
      "text/html": [
       "<div>\n",
       "<style scoped>\n",
       "    .dataframe tbody tr th:only-of-type {\n",
       "        vertical-align: middle;\n",
       "    }\n",
       "\n",
       "    .dataframe tbody tr th {\n",
       "        vertical-align: top;\n",
       "    }\n",
       "\n",
       "    .dataframe thead th {\n",
       "        text-align: right;\n",
       "    }\n",
       "</style>\n",
       "<table border=\"1\" class=\"dataframe\">\n",
       "  <thead>\n",
       "    <tr style=\"text-align: right;\">\n",
       "      <th></th>\n",
       "      <th>id</th>\n",
       "      <th>PW_bemerkung_extern</th>\n",
       "      <th>PW_Abbildung</th>\n",
       "      <th>project_id</th>\n",
       "    </tr>\n",
       "  </thead>\n",
       "  <tbody>\n",
       "    <tr>\n",
       "      <th>0</th>\n",
       "      <td>10314</td>\n",
       "      <td>NaN</td>\n",
       "      <td>-1</td>\n",
       "      <td>2</td>\n",
       "    </tr>\n",
       "    <tr>\n",
       "      <th>1</th>\n",
       "      <td>10327</td>\n",
       "      <td>NaN</td>\n",
       "      <td>-1</td>\n",
       "      <td>2</td>\n",
       "    </tr>\n",
       "    <tr>\n",
       "      <th>2</th>\n",
       "      <td>10331</td>\n",
       "      <td>NaN</td>\n",
       "      <td>-1</td>\n",
       "      <td>2</td>\n",
       "    </tr>\n",
       "    <tr>\n",
       "      <th>3</th>\n",
       "      <td>10332</td>\n",
       "      <td>NaN</td>\n",
       "      <td>-1</td>\n",
       "      <td>2</td>\n",
       "    </tr>\n",
       "    <tr>\n",
       "      <th>4</th>\n",
       "      <td>10340</td>\n",
       "      <td>NaN</td>\n",
       "      <td>-1</td>\n",
       "      <td>2</td>\n",
       "    </tr>\n",
       "  </tbody>\n",
       "</table>\n",
       "</div>"
      ],
      "text/plain": [
       "      id PW_bemerkung_extern  PW_Abbildung  project_id\n",
       "0  10314                 NaN            -1           2\n",
       "1  10327                 NaN            -1           2\n",
       "2  10331                 NaN            -1           2\n",
       "3  10332                 NaN            -1           2\n",
       "4  10340                 NaN            -1           2"
      ]
     },
     "execution_count": 3,
     "metadata": {},
     "output_type": "execute_result"
    }
   ],
   "source": [
    "docs_illus_df.head()"
   ]
  },
  {
   "cell_type": "code",
   "execution_count": 4,
   "id": "2b9134ac",
   "metadata": {},
   "outputs": [],
   "source": [
    "master_df = pd.read_csv('data/DFKV_Master.csv')"
   ]
  },
  {
   "cell_type": "code",
   "execution_count": 5,
   "id": "6e1c5109",
   "metadata": {
    "scrolled": true
   },
   "outputs": [
    {
     "data": {
      "text/html": [
       "<div>\n",
       "<style scoped>\n",
       "    .dataframe tbody tr th:only-of-type {\n",
       "        vertical-align: middle;\n",
       "    }\n",
       "\n",
       "    .dataframe tbody tr th {\n",
       "        vertical-align: top;\n",
       "    }\n",
       "\n",
       "    .dataframe thead th {\n",
       "        text-align: right;\n",
       "    }\n",
       "</style>\n",
       "<table border=\"1\" class=\"dataframe\">\n",
       "  <thead>\n",
       "    <tr style=\"text-align: right;\">\n",
       "      <th></th>\n",
       "      <th>ID</th>\n",
       "      <th>Volume_ID</th>\n",
       "      <th>_journal-id</th>\n",
       "      <th>liens iiif</th>\n",
       "      <th>liens de citation (page)</th>\n",
       "      <th>liens de citation (volume)</th>\n",
       "      <th>bibliographie</th>\n",
       "    </tr>\n",
       "  </thead>\n",
       "  <tbody>\n",
       "    <tr>\n",
       "      <th>0</th>\n",
       "      <td>15573</td>\n",
       "      <td>8640</td>\n",
       "      <td>1411.0</td>\n",
       "      <td>NaN</td>\n",
       "      <td>NaN</td>\n",
       "      <td>https://gallica.bnf.fr/ark:/12148/bpt6k7522165...</td>\n",
       "      <td>supplément</td>\n",
       "    </tr>\n",
       "    <tr>\n",
       "      <th>1</th>\n",
       "      <td>14385</td>\n",
       "      <td>8640</td>\n",
       "      <td>1518.0</td>\n",
       "      <td>NaN</td>\n",
       "      <td>x</td>\n",
       "      <td>NaN</td>\n",
       "      <td>NaN</td>\n",
       "    </tr>\n",
       "    <tr>\n",
       "      <th>2</th>\n",
       "      <td>14389</td>\n",
       "      <td>8641</td>\n",
       "      <td>1568.0</td>\n",
       "      <td>NaN</td>\n",
       "      <td>NaN</td>\n",
       "      <td>https://gallica.bnf.fr/ark:/12148/bpt6k360915?...</td>\n",
       "      <td>NaN</td>\n",
       "    </tr>\n",
       "    <tr>\n",
       "      <th>3</th>\n",
       "      <td>14390</td>\n",
       "      <td>8642</td>\n",
       "      <td>1568.0</td>\n",
       "      <td>NaN</td>\n",
       "      <td>NaN</td>\n",
       "      <td>https://gallica.bnf.fr/ark:/12148/bpt6k36087x?...</td>\n",
       "      <td>NaN</td>\n",
       "    </tr>\n",
       "    <tr>\n",
       "      <th>4</th>\n",
       "      <td>14394</td>\n",
       "      <td>8643</td>\n",
       "      <td>1568.0</td>\n",
       "      <td>https://gallica.bnf.fr/iiif/ark:/12148/bpt6k36...</td>\n",
       "      <td>https://gallica.bnf.fr/ark:/12148/bpt6k36008s/...</td>\n",
       "      <td>NaN</td>\n",
       "      <td>NaN</td>\n",
       "    </tr>\n",
       "  </tbody>\n",
       "</table>\n",
       "</div>"
      ],
      "text/plain": [
       "      ID  Volume_ID  _journal-id  \\\n",
       "0  15573       8640       1411.0   \n",
       "1  14385       8640       1518.0   \n",
       "2  14389       8641       1568.0   \n",
       "3  14390       8642       1568.0   \n",
       "4  14394       8643       1568.0   \n",
       "\n",
       "                                          liens iiif  \\\n",
       "0                                                NaN   \n",
       "1                                                NaN   \n",
       "2                                                NaN   \n",
       "3                                                NaN   \n",
       "4  https://gallica.bnf.fr/iiif/ark:/12148/bpt6k36...   \n",
       "\n",
       "                            liens de citation (page)  \\\n",
       "0                                                NaN   \n",
       "1                                                  x   \n",
       "2                                                NaN   \n",
       "3                                                NaN   \n",
       "4  https://gallica.bnf.fr/ark:/12148/bpt6k36008s/...   \n",
       "\n",
       "                          liens de citation (volume) bibliographie  \n",
       "0  https://gallica.bnf.fr/ark:/12148/bpt6k7522165...    supplément  \n",
       "1                                                NaN           NaN  \n",
       "2  https://gallica.bnf.fr/ark:/12148/bpt6k360915?...           NaN  \n",
       "3  https://gallica.bnf.fr/ark:/12148/bpt6k36087x?...           NaN  \n",
       "4                                                NaN           NaN  "
      ]
     },
     "execution_count": 5,
     "metadata": {},
     "output_type": "execute_result"
    }
   ],
   "source": [
    "master_df.head()"
   ]
  },
  {
   "cell_type": "markdown",
   "id": "63617d03",
   "metadata": {},
   "source": [
    "## Filtering "
   ]
  },
  {
   "cell_type": "markdown",
   "id": "a49b0584",
   "metadata": {},
   "source": [
    "We now filter the master dataframe to only keep the desired documents (the ones that have illustrations in them and that have a gallica IIIF link)."
   ]
  },
  {
   "cell_type": "code",
   "execution_count": 6,
   "id": "9094e3e9",
   "metadata": {},
   "outputs": [],
   "source": [
    "docs_illus_df.rename(columns={'id':'ID'}, inplace=True)"
   ]
  },
  {
   "cell_type": "code",
   "execution_count": 7,
   "id": "633c6312",
   "metadata": {
    "scrolled": true
   },
   "outputs": [
    {
     "data": {
      "text/html": [
       "<div>\n",
       "<style scoped>\n",
       "    .dataframe tbody tr th:only-of-type {\n",
       "        vertical-align: middle;\n",
       "    }\n",
       "\n",
       "    .dataframe tbody tr th {\n",
       "        vertical-align: top;\n",
       "    }\n",
       "\n",
       "    .dataframe thead th {\n",
       "        text-align: right;\n",
       "    }\n",
       "</style>\n",
       "<table border=\"1\" class=\"dataframe\">\n",
       "  <thead>\n",
       "    <tr style=\"text-align: right;\">\n",
       "      <th></th>\n",
       "      <th>ID</th>\n",
       "      <th>PW_bemerkung_extern</th>\n",
       "      <th>liens iiif</th>\n",
       "      <th>bibliographie</th>\n",
       "    </tr>\n",
       "  </thead>\n",
       "  <tbody>\n",
       "    <tr>\n",
       "      <th>439</th>\n",
       "      <td>11426</td>\n",
       "      <td>NaN</td>\n",
       "      <td>https://digi.ub.uni-heidelberg.de/diglit/iiif/...</td>\n",
       "      <td>19.1927.12, S. 367-376</td>\n",
       "    </tr>\n",
       "    <tr>\n",
       "      <th>1105</th>\n",
       "      <td>13376</td>\n",
       "      <td>NaN</td>\n",
       "      <td>https://digi.ub.uni-heidelberg.de/diglit/iiif/...</td>\n",
       "      <td>64.1929, S. 204-207</td>\n",
       "    </tr>\n",
       "    <tr>\n",
       "      <th>243</th>\n",
       "      <td>10976</td>\n",
       "      <td>NaN</td>\n",
       "      <td>https://digi.ub.uni-heidelberg.de/diglit/iiif/...</td>\n",
       "      <td>44.1928/1929.8, S. 240-242</td>\n",
       "    </tr>\n",
       "    <tr>\n",
       "      <th>982</th>\n",
       "      <td>13059</td>\n",
       "      <td>NaN</td>\n",
       "      <td>https://digi.ub.uni-heidelberg.de/diglit/iiif/...</td>\n",
       "      <td>25.1909/10, S. 126-135</td>\n",
       "    </tr>\n",
       "    <tr>\n",
       "      <th>801</th>\n",
       "      <td>12431</td>\n",
       "      <td>NaN</td>\n",
       "      <td>https://digi.ub.uni-heidelberg.de/diglit/iiif/...</td>\n",
       "      <td>68.1931, S. 76-80</td>\n",
       "    </tr>\n",
       "  </tbody>\n",
       "</table>\n",
       "</div>"
      ],
      "text/plain": [
       "         ID PW_bemerkung_extern  \\\n",
       "439   11426                 NaN   \n",
       "1105  13376                 NaN   \n",
       "243   10976                 NaN   \n",
       "982   13059                 NaN   \n",
       "801   12431                 NaN   \n",
       "\n",
       "                                             liens iiif  \\\n",
       "439   https://digi.ub.uni-heidelberg.de/diglit/iiif/...   \n",
       "1105  https://digi.ub.uni-heidelberg.de/diglit/iiif/...   \n",
       "243   https://digi.ub.uni-heidelberg.de/diglit/iiif/...   \n",
       "982   https://digi.ub.uni-heidelberg.de/diglit/iiif/...   \n",
       "801   https://digi.ub.uni-heidelberg.de/diglit/iiif/...   \n",
       "\n",
       "                   bibliographie  \n",
       "439       19.1927.12, S. 367-376  \n",
       "1105         64.1929, S. 204-207  \n",
       "243   44.1928/1929.8, S. 240-242  \n",
       "982       25.1909/10, S. 126-135  \n",
       "801            68.1931, S. 76-80  "
      ]
     },
     "execution_count": 7,
     "metadata": {},
     "output_type": "execute_result"
    }
   ],
   "source": [
    "# Merging dataframes on ID, inner join\n",
    "illus = pd.merge(docs_illus_df, master_df, on=[\"ID\"])\n",
    "illus = illus.drop(columns=['Volume_ID', '_journal-id', 'liens de citation (page)', 'liens de citation (volume)', 'PW_Abbildung', 'project_id'])\n",
    "illus = illus.dropna(subset=['liens iiif'])\n",
    "illus.sample(5)"
   ]
  },
  {
   "cell_type": "code",
   "execution_count": 8,
   "id": "0ebb993a",
   "metadata": {
    "scrolled": true
   },
   "outputs": [
    {
     "data": {
      "text/html": [
       "<div>\n",
       "<style scoped>\n",
       "    .dataframe tbody tr th:only-of-type {\n",
       "        vertical-align: middle;\n",
       "    }\n",
       "\n",
       "    .dataframe tbody tr th {\n",
       "        vertical-align: top;\n",
       "    }\n",
       "\n",
       "    .dataframe thead th {\n",
       "        text-align: right;\n",
       "    }\n",
       "</style>\n",
       "<table border=\"1\" class=\"dataframe\">\n",
       "  <thead>\n",
       "    <tr style=\"text-align: right;\">\n",
       "      <th></th>\n",
       "      <th>ID</th>\n",
       "      <th>PW_bemerkung_extern</th>\n",
       "      <th>liens iiif</th>\n",
       "      <th>bibliographie</th>\n",
       "    </tr>\n",
       "  </thead>\n",
       "  <tbody>\n",
       "    <tr>\n",
       "      <th>1345</th>\n",
       "      <td>15503</td>\n",
       "      <td>NaN</td>\n",
       "      <td>https://gallica.bnf.fr/iiif/ark:/12148/bpt6k62...</td>\n",
       "      <td>p. 147</td>\n",
       "    </tr>\n",
       "    <tr>\n",
       "      <th>1390</th>\n",
       "      <td>15698</td>\n",
       "      <td>NaN</td>\n",
       "      <td>https://gallica.bnf.fr/iiif/ark:/12148/bpt6k61...</td>\n",
       "      <td>XVI, oct. 1912-mars 1913, p. 130-133</td>\n",
       "    </tr>\n",
       "    <tr>\n",
       "      <th>1327</th>\n",
       "      <td>15285</td>\n",
       "      <td>NaN</td>\n",
       "      <td>https://gallica.bnf.fr/iiif/ark:/12148/bpt6k20...</td>\n",
       "      <td>p. 311-324</td>\n",
       "    </tr>\n",
       "  </tbody>\n",
       "</table>\n",
       "</div>"
      ],
      "text/plain": [
       "         ID PW_bemerkung_extern  \\\n",
       "1345  15503                 NaN   \n",
       "1390  15698                 NaN   \n",
       "1327  15285                 NaN   \n",
       "\n",
       "                                             liens iiif  \\\n",
       "1345  https://gallica.bnf.fr/iiif/ark:/12148/bpt6k62...   \n",
       "1390  https://gallica.bnf.fr/iiif/ark:/12148/bpt6k61...   \n",
       "1327  https://gallica.bnf.fr/iiif/ark:/12148/bpt6k20...   \n",
       "\n",
       "                             bibliographie  \n",
       "1345                                p. 147  \n",
       "1390  XVI, oct. 1912-mars 1913, p. 130-133  \n",
       "1327                            p. 311-324  "
      ]
     },
     "execution_count": 8,
     "metadata": {},
     "output_type": "execute_result"
    }
   ],
   "source": [
    "gallica_iiif_df = illus[illus['liens iiif'].str.contains(\"https://gallica.bnf.fr/iiif\")]\n",
    "gallica_iiif_df.sample(3)"
   ]
  },
  {
   "cell_type": "code",
   "execution_count": 9,
   "id": "f682649b",
   "metadata": {},
   "outputs": [
    {
     "name": "stdout",
     "output_type": "stream",
     "text": [
      "Size of the Gallica with illustrations subset :  210\n"
     ]
    }
   ],
   "source": [
    "print('Size of the Gallica with illustrations subset : ', len(gallica_iiif_df.index))"
   ]
  },
  {
   "cell_type": "markdown",
   "id": "addfdb5d",
   "metadata": {},
   "source": [
    "## Working links for images"
   ]
  },
  {
   "cell_type": "markdown",
   "id": "959dcc9a",
   "metadata": {},
   "source": [
    "In the dataframe, we have the urls for the canvas, that look like this :\n",
    "\n",
    "https://gallica.bnf.fr/iiif/ark:/12148/bpt6k4226263w/canvas/f76\n",
    "\n",
    "We will want to request images, so we need to tweak a bit the url into something like :\n",
    "\n",
    "https://gallica.bnf.fr/iiif/ark:/12148/bpt6k4226263w/f76/full/full/0/native.jpg"
   ]
  },
  {
   "cell_type": "code",
   "execution_count": 10,
   "id": "f26f5bcd",
   "metadata": {},
   "outputs": [
    {
     "name": "stderr",
     "output_type": "stream",
     "text": [
      "C:\\Users\\emichelet\\AppData\\Local\\Temp\\ipykernel_7364\\2198790243.py:4: SettingWithCopyWarning: \n",
      "A value is trying to be set on a copy of a slice from a DataFrame.\n",
      "Try using .loc[row_indexer,col_indexer] = value instead\n",
      "\n",
      "See the caveats in the documentation: https://pandas.pydata.org/pandas-docs/stable/user_guide/indexing.html#returning-a-view-versus-a-copy\n",
      "  gallica_iiif_df['link_image'] = [PREFIX_URL + link.split('/')[5] + '/' + link.split('/')[6] + '/' + link.split('/')[8] + SUFFIX_URL_IMAGE for link in gallica_iiif_df['liens iiif']]\n"
     ]
    },
    {
     "data": {
      "text/html": [
       "<div>\n",
       "<style scoped>\n",
       "    .dataframe tbody tr th:only-of-type {\n",
       "        vertical-align: middle;\n",
       "    }\n",
       "\n",
       "    .dataframe tbody tr th {\n",
       "        vertical-align: top;\n",
       "    }\n",
       "\n",
       "    .dataframe thead th {\n",
       "        text-align: right;\n",
       "    }\n",
       "</style>\n",
       "<table border=\"1\" class=\"dataframe\">\n",
       "  <thead>\n",
       "    <tr style=\"text-align: right;\">\n",
       "      <th></th>\n",
       "      <th>ID</th>\n",
       "      <th>PW_bemerkung_extern</th>\n",
       "      <th>liens iiif</th>\n",
       "      <th>bibliographie</th>\n",
       "      <th>link_image</th>\n",
       "    </tr>\n",
       "  </thead>\n",
       "  <tbody>\n",
       "    <tr>\n",
       "      <th>1266</th>\n",
       "      <td>14920</td>\n",
       "      <td>NaN</td>\n",
       "      <td>https://gallica.bnf.fr/iiif/ark:/12148/bpt6k30...</td>\n",
       "      <td>3e année, n° 46, 15.4.1918, p. 361-362</td>\n",
       "      <td>https://gallica.bnf.fr/iiif/ark:/12148/bpt6k30...</td>\n",
       "    </tr>\n",
       "    <tr>\n",
       "      <th>1185</th>\n",
       "      <td>14324</td>\n",
       "      <td>NaN</td>\n",
       "      <td>https://gallica.bnf.fr/iiif/ark:/12148/bpt6k42...</td>\n",
       "      <td>p. 218-220</td>\n",
       "      <td>https://gallica.bnf.fr/iiif/ark:/12148/bpt6k42...</td>\n",
       "    </tr>\n",
       "    <tr>\n",
       "      <th>1649</th>\n",
       "      <td>16435</td>\n",
       "      <td>Article publié dans la rubrique \"Les Arts\".\\n\\...</td>\n",
       "      <td>https://gallica.bnf.fr/iiif/ark:/12148/bpt6k47...</td>\n",
       "      <td>1950</td>\n",
       "      <td>https://gallica.bnf.fr/iiif/ark:/12148/bpt6k47...</td>\n",
       "    </tr>\n",
       "  </tbody>\n",
       "</table>\n",
       "</div>"
      ],
      "text/plain": [
       "         ID                                PW_bemerkung_extern  \\\n",
       "1266  14920                                                NaN   \n",
       "1185  14324                                                NaN   \n",
       "1649  16435  Article publié dans la rubrique \"Les Arts\".\\n\\...   \n",
       "\n",
       "                                             liens iiif  \\\n",
       "1266  https://gallica.bnf.fr/iiif/ark:/12148/bpt6k30...   \n",
       "1185  https://gallica.bnf.fr/iiif/ark:/12148/bpt6k42...   \n",
       "1649  https://gallica.bnf.fr/iiif/ark:/12148/bpt6k47...   \n",
       "\n",
       "                               bibliographie  \\\n",
       "1266  3e année, n° 46, 15.4.1918, p. 361-362   \n",
       "1185                              p. 218-220   \n",
       "1649                                    1950   \n",
       "\n",
       "                                             link_image  \n",
       "1266  https://gallica.bnf.fr/iiif/ark:/12148/bpt6k30...  \n",
       "1185  https://gallica.bnf.fr/iiif/ark:/12148/bpt6k42...  \n",
       "1649  https://gallica.bnf.fr/iiif/ark:/12148/bpt6k47...  "
      ]
     },
     "execution_count": 10,
     "metadata": {},
     "output_type": "execute_result"
    }
   ],
   "source": [
    "# Modifying the urls\n",
    "PREFIX_URL = 'https://gallica.bnf.fr/iiif/ark:/'\n",
    "SUFFIX_URL_IMAGE = '/full/full/0/native.jpg'\n",
    "gallica_iiif_df['link_image'] = [PREFIX_URL + link.split('/')[5] + '/' + link.split('/')[6] + '/' + link.split('/')[8] + SUFFIX_URL_IMAGE for link in gallica_iiif_df['liens iiif']]\n",
    "gallica_iiif_df.sample(3)"
   ]
  },
  {
   "cell_type": "markdown",
   "id": "a983f4d1",
   "metadata": {},
   "source": [
    "## Length of documents"
   ]
  },
  {
   "cell_type": "markdown",
   "id": "a9f8fee3",
   "metadata": {},
   "source": [
    "Now, we might want the full document, not only one page of it. We will then need to know the number of pages it has. For that, we will look into the manifest.json of the document, and look at length of \"canvases\". This is an example of a manifest url : https://gallica.bnf.fr/iiif/ark:/12148/bpt6k9795256m/manifest.json\n",
    "\n",
    "\n",
    "### Length of one document\n",
    "\n",
    "Let's try to make a request for an example manifest."
   ]
  },
  {
   "cell_type": "code",
   "execution_count": 11,
   "id": "bcc3d080",
   "metadata": {},
   "outputs": [],
   "source": [
    "import requests"
   ]
  },
  {
   "cell_type": "code",
   "execution_count": 12,
   "id": "5d9f950f",
   "metadata": {},
   "outputs": [],
   "source": [
    "response = requests.get(\"https://gallica.bnf.fr/iiif/ark:/12148/bpt6k9795256m/manifest.json\")"
   ]
  },
  {
   "cell_type": "code",
   "execution_count": 13,
   "id": "7e4391c5",
   "metadata": {},
   "outputs": [
    {
     "name": "stdout",
     "output_type": "stream",
     "text": [
      "200\n"
     ]
    }
   ],
   "source": [
    "print(response.status_code)"
   ]
  },
  {
   "cell_type": "markdown",
   "id": "0269122b",
   "metadata": {},
   "source": [
    "The response status code is 200, which means that it has succeeded ! "
   ]
  },
  {
   "cell_type": "markdown",
   "id": "ecd6e47d",
   "metadata": {},
   "source": [
    "And of how many images is this specific document made of ?"
   ]
  },
  {
   "cell_type": "code",
   "execution_count": 15,
   "id": "04857254",
   "metadata": {
    "scrolled": true
   },
   "outputs": [
    {
     "data": {
      "text/plain": [
       "577"
      ]
     },
     "execution_count": 15,
     "metadata": {},
     "output_type": "execute_result"
    }
   ],
   "source": [
    "len(response.json()['sequences'][0]['canvases']) # number of images for the document"
   ]
  },
  {
   "cell_type": "markdown",
   "id": "ac136b44",
   "metadata": {},
   "source": [
    "### On all documents\n",
    "\n",
    "Let's repeat the operations for all the documents from Gallica, and add a new column to our dataframe describing the length of the documents. We start by finding the links to the manifests urls :"
   ]
  },
  {
   "cell_type": "code",
   "execution_count": 16,
   "id": "6b0f30e4",
   "metadata": {
    "scrolled": false
   },
   "outputs": [
    {
     "name": "stderr",
     "output_type": "stream",
     "text": [
      "C:\\Users\\emichelet\\AppData\\Local\\Temp\\ipykernel_10948\\4004410357.py:3: SettingWithCopyWarning: \n",
      "A value is trying to be set on a copy of a slice from a DataFrame.\n",
      "Try using .loc[row_indexer,col_indexer] = value instead\n",
      "\n",
      "See the caveats in the documentation: https://pandas.pydata.org/pandas-docs/stable/user_guide/indexing.html#returning-a-view-versus-a-copy\n",
      "  gallica_iiif_df['link_manifest'] = [PREFIX_URL + link.split('/')[5] + '/' + link.split('/')[6]  + SUFFIX_URL_MANIFEST for link in gallica_iiif_df['liens iiif']]\n"
     ]
    },
    {
     "data": {
      "text/html": [
       "<div>\n",
       "<style scoped>\n",
       "    .dataframe tbody tr th:only-of-type {\n",
       "        vertical-align: middle;\n",
       "    }\n",
       "\n",
       "    .dataframe tbody tr th {\n",
       "        vertical-align: top;\n",
       "    }\n",
       "\n",
       "    .dataframe thead th {\n",
       "        text-align: right;\n",
       "    }\n",
       "</style>\n",
       "<table border=\"1\" class=\"dataframe\">\n",
       "  <thead>\n",
       "    <tr style=\"text-align: right;\">\n",
       "      <th></th>\n",
       "      <th>ID</th>\n",
       "      <th>PW_bemerkung_extern</th>\n",
       "      <th>liens iiif</th>\n",
       "      <th>bibliographie</th>\n",
       "      <th>link_image</th>\n",
       "      <th>link_manifest</th>\n",
       "    </tr>\n",
       "  </thead>\n",
       "  <tbody>\n",
       "    <tr>\n",
       "      <th>1234</th>\n",
       "      <td>14549</td>\n",
       "      <td>NaN</td>\n",
       "      <td>https://gallica.bnf.fr/iiif/ark:/12148/bpt6k20...</td>\n",
       "      <td>p. 201 - 217</td>\n",
       "      <td>https://gallica.bnf.fr/iiif/ark:/12148/bpt6k20...</td>\n",
       "      <td>https://gallica.bnf.fr/iiif/ark:/12148/bpt6k20...</td>\n",
       "    </tr>\n",
       "    <tr>\n",
       "      <th>1383</th>\n",
       "      <td>15678</td>\n",
       "      <td>NaN</td>\n",
       "      <td>https://gallica.bnf.fr/iiif/ark:/12148/bpt6k61...</td>\n",
       "      <td>XV, avril-sept. 1912, p. 17-32</td>\n",
       "      <td>https://gallica.bnf.fr/iiif/ark:/12148/bpt6k61...</td>\n",
       "      <td>https://gallica.bnf.fr/iiif/ark:/12148/bpt6k61...</td>\n",
       "    </tr>\n",
       "    <tr>\n",
       "      <th>1203</th>\n",
       "      <td>14375</td>\n",
       "      <td>NaN</td>\n",
       "      <td>https://gallica.bnf.fr/iiif/ark:/12148/bpt6k97...</td>\n",
       "      <td>n° 1, p. 34-38 [Texte : p. 35]</td>\n",
       "      <td>https://gallica.bnf.fr/iiif/ark:/12148/bpt6k97...</td>\n",
       "      <td>https://gallica.bnf.fr/iiif/ark:/12148/bpt6k97...</td>\n",
       "    </tr>\n",
       "  </tbody>\n",
       "</table>\n",
       "</div>"
      ],
      "text/plain": [
       "         ID PW_bemerkung_extern  \\\n",
       "1234  14549                 NaN   \n",
       "1383  15678                 NaN   \n",
       "1203  14375                 NaN   \n",
       "\n",
       "                                             liens iiif  \\\n",
       "1234  https://gallica.bnf.fr/iiif/ark:/12148/bpt6k20...   \n",
       "1383  https://gallica.bnf.fr/iiif/ark:/12148/bpt6k61...   \n",
       "1203  https://gallica.bnf.fr/iiif/ark:/12148/bpt6k97...   \n",
       "\n",
       "                       bibliographie  \\\n",
       "1234                    p. 201 - 217   \n",
       "1383  XV, avril-sept. 1912, p. 17-32   \n",
       "1203  n° 1, p. 34-38 [Texte : p. 35]   \n",
       "\n",
       "                                             link_image  \\\n",
       "1234  https://gallica.bnf.fr/iiif/ark:/12148/bpt6k20...   \n",
       "1383  https://gallica.bnf.fr/iiif/ark:/12148/bpt6k61...   \n",
       "1203  https://gallica.bnf.fr/iiif/ark:/12148/bpt6k97...   \n",
       "\n",
       "                                          link_manifest  \n",
       "1234  https://gallica.bnf.fr/iiif/ark:/12148/bpt6k20...  \n",
       "1383  https://gallica.bnf.fr/iiif/ark:/12148/bpt6k61...  \n",
       "1203  https://gallica.bnf.fr/iiif/ark:/12148/bpt6k97...  "
      ]
     },
     "execution_count": 16,
     "metadata": {},
     "output_type": "execute_result"
    }
   ],
   "source": [
    "PREFIX_URL = 'https://gallica.bnf.fr/iiif/ark:/'\n",
    "SUFFIX_URL_MANIFEST = '/manifest.json'\n",
    "gallica_iiif_df['link_manifest'] = [PREFIX_URL + link.split('/')[5] + '/' + link.split('/')[6]  + SUFFIX_URL_MANIFEST for link in gallica_iiif_df['liens iiif']]\n",
    "gallica_iiif_df.sample(3)"
   ]
  },
  {
   "cell_type": "code",
   "execution_count": 17,
   "id": "be8102d6",
   "metadata": {},
   "outputs": [],
   "source": [
    "def get_length_document(request_url):\n",
    "    response = requests.get(request_url)\n",
    "    return len(response.json()['sequences'][0]['canvases']) if response.status_code == 200 else -1       "
   ]
  },
  {
   "cell_type": "code",
   "execution_count": 18,
   "id": "3bb57c58",
   "metadata": {},
   "outputs": [],
   "source": [
    "doc_len = [get_length_document(url) for url in gallica_iiif_df['link_manifest']]"
   ]
  },
  {
   "cell_type": "code",
   "execution_count": 19,
   "id": "f5807f39",
   "metadata": {},
   "outputs": [
    {
     "name": "stderr",
     "output_type": "stream",
     "text": [
      "C:\\Users\\emichelet\\AppData\\Local\\Temp\\ipykernel_10948\\1353157526.py:1: SettingWithCopyWarning: \n",
      "A value is trying to be set on a copy of a slice from a DataFrame.\n",
      "Try using .loc[row_indexer,col_indexer] = value instead\n",
      "\n",
      "See the caveats in the documentation: https://pandas.pydata.org/pandas-docs/stable/user_guide/indexing.html#returning-a-view-versus-a-copy\n",
      "  gallica_iiif_df['length'] = doc_len\n"
     ]
    }
   ],
   "source": [
    "gallica_iiif_df['length'] = doc_len"
   ]
  },
  {
   "cell_type": "markdown",
   "id": "553227cb",
   "metadata": {},
   "source": [
    "Let's drop the `liens iiif` column, as we won't need it anymore, and save the dataframe as as csv."
   ]
  },
  {
   "cell_type": "code",
   "execution_count": 20,
   "id": "143dc004",
   "metadata": {},
   "outputs": [],
   "source": [
    "gallica_iiif_df = gallica_iiif_df.drop(columns=['liens iiif'])"
   ]
  },
  {
   "cell_type": "code",
   "execution_count": 21,
   "id": "aa92168d",
   "metadata": {},
   "outputs": [
    {
     "data": {
      "text/html": [
       "<div>\n",
       "<style scoped>\n",
       "    .dataframe tbody tr th:only-of-type {\n",
       "        vertical-align: middle;\n",
       "    }\n",
       "\n",
       "    .dataframe tbody tr th {\n",
       "        vertical-align: top;\n",
       "    }\n",
       "\n",
       "    .dataframe thead th {\n",
       "        text-align: right;\n",
       "    }\n",
       "</style>\n",
       "<table border=\"1\" class=\"dataframe\">\n",
       "  <thead>\n",
       "    <tr style=\"text-align: right;\">\n",
       "      <th></th>\n",
       "      <th>ID</th>\n",
       "      <th>PW_bemerkung_extern</th>\n",
       "      <th>bibliographie</th>\n",
       "      <th>link_image</th>\n",
       "      <th>link_manifest</th>\n",
       "      <th>length</th>\n",
       "    </tr>\n",
       "  </thead>\n",
       "  <tbody>\n",
       "    <tr>\n",
       "      <th>1160</th>\n",
       "      <td>14254</td>\n",
       "      <td>NaN</td>\n",
       "      <td>9e année, 1934, n° 5-8, p. 178-184</td>\n",
       "      <td>https://gallica.bnf.fr/iiif/ark:/12148/bpt6k97...</td>\n",
       "      <td>https://gallica.bnf.fr/iiif/ark:/12148/bpt6k97...</td>\n",
       "      <td>312</td>\n",
       "    </tr>\n",
       "    <tr>\n",
       "      <th>1161</th>\n",
       "      <td>14256</td>\n",
       "      <td>NaN</td>\n",
       "      <td>9e année, 1934, n° 5-8, p. 193-196</td>\n",
       "      <td>https://gallica.bnf.fr/iiif/ark:/12148/bpt6k97...</td>\n",
       "      <td>https://gallica.bnf.fr/iiif/ark:/12148/bpt6k97...</td>\n",
       "      <td>312</td>\n",
       "    </tr>\n",
       "    <tr>\n",
       "      <th>1162</th>\n",
       "      <td>14267</td>\n",
       "      <td>NaN</td>\n",
       "      <td>n° 4, janvier 1930, s.p.</td>\n",
       "      <td>https://gallica.bnf.fr/iiif/ark:/12148/bpt6k61...</td>\n",
       "      <td>https://gallica.bnf.fr/iiif/ark:/12148/bpt6k61...</td>\n",
       "      <td>62</td>\n",
       "    </tr>\n",
       "    <tr>\n",
       "      <th>1163</th>\n",
       "      <td>14268</td>\n",
       "      <td>Bemerkenswerter Text, als Kopie vorhanden</td>\n",
       "      <td>n° 6, mai 1930, p. 6-10</td>\n",
       "      <td>https://gallica.bnf.fr/iiif/ark:/12148/bpt6k61...</td>\n",
       "      <td>https://gallica.bnf.fr/iiif/ark:/12148/bpt6k61...</td>\n",
       "      <td>68</td>\n",
       "    </tr>\n",
       "    <tr>\n",
       "      <th>1164</th>\n",
       "      <td>14279</td>\n",
       "      <td>NaN</td>\n",
       "      <td>p. 105-118</td>\n",
       "      <td>https://gallica.bnf.fr/iiif/ark:/12148/bpt6k61...</td>\n",
       "      <td>https://gallica.bnf.fr/iiif/ark:/12148/bpt6k61...</td>\n",
       "      <td>445</td>\n",
       "    </tr>\n",
       "  </tbody>\n",
       "</table>\n",
       "</div>"
      ],
      "text/plain": [
       "         ID                        PW_bemerkung_extern  \\\n",
       "1160  14254                                        NaN   \n",
       "1161  14256                                        NaN   \n",
       "1162  14267                                        NaN   \n",
       "1163  14268  Bemerkenswerter Text, als Kopie vorhanden   \n",
       "1164  14279                                        NaN   \n",
       "\n",
       "                           bibliographie  \\\n",
       "1160  9e année, 1934, n° 5-8, p. 178-184   \n",
       "1161  9e année, 1934, n° 5-8, p. 193-196   \n",
       "1162            n° 4, janvier 1930, s.p.   \n",
       "1163             n° 6, mai 1930, p. 6-10   \n",
       "1164                          p. 105-118   \n",
       "\n",
       "                                             link_image  \\\n",
       "1160  https://gallica.bnf.fr/iiif/ark:/12148/bpt6k97...   \n",
       "1161  https://gallica.bnf.fr/iiif/ark:/12148/bpt6k97...   \n",
       "1162  https://gallica.bnf.fr/iiif/ark:/12148/bpt6k61...   \n",
       "1163  https://gallica.bnf.fr/iiif/ark:/12148/bpt6k61...   \n",
       "1164  https://gallica.bnf.fr/iiif/ark:/12148/bpt6k61...   \n",
       "\n",
       "                                          link_manifest  length  \n",
       "1160  https://gallica.bnf.fr/iiif/ark:/12148/bpt6k97...     312  \n",
       "1161  https://gallica.bnf.fr/iiif/ark:/12148/bpt6k97...     312  \n",
       "1162  https://gallica.bnf.fr/iiif/ark:/12148/bpt6k61...      62  \n",
       "1163  https://gallica.bnf.fr/iiif/ark:/12148/bpt6k61...      68  \n",
       "1164  https://gallica.bnf.fr/iiif/ark:/12148/bpt6k61...     445  "
      ]
     },
     "execution_count": 21,
     "metadata": {},
     "output_type": "execute_result"
    }
   ],
   "source": [
    "gallica_iiif_df.head()"
   ]
  },
  {
   "cell_type": "code",
   "execution_count": 22,
   "id": "9a61848c",
   "metadata": {},
   "outputs": [],
   "source": [
    "gallica_iiif_df.to_csv('data/DFKV_Gallica_subset.csv', index=False)"
   ]
  },
  {
   "cell_type": "markdown",
   "id": "44dc5059",
   "metadata": {},
   "source": [
    "### Statistics on document length"
   ]
  },
  {
   "cell_type": "code",
   "execution_count": 12,
   "id": "c11a175a",
   "metadata": {
    "scrolled": true
   },
   "outputs": [
    {
     "data": {
      "text/html": [
       "<div>\n",
       "<style scoped>\n",
       "    .dataframe tbody tr th:only-of-type {\n",
       "        vertical-align: middle;\n",
       "    }\n",
       "\n",
       "    .dataframe tbody tr th {\n",
       "        vertical-align: top;\n",
       "    }\n",
       "\n",
       "    .dataframe thead th {\n",
       "        text-align: right;\n",
       "    }\n",
       "</style>\n",
       "<table border=\"1\" class=\"dataframe\">\n",
       "  <thead>\n",
       "    <tr style=\"text-align: right;\">\n",
       "      <th></th>\n",
       "      <th>ID</th>\n",
       "      <th>PW_bemerkung_extern</th>\n",
       "      <th>bibliographie</th>\n",
       "      <th>link_image</th>\n",
       "      <th>link_manifest</th>\n",
       "      <th>length</th>\n",
       "    </tr>\n",
       "  </thead>\n",
       "  <tbody>\n",
       "    <tr>\n",
       "      <th>0</th>\n",
       "      <td>14254</td>\n",
       "      <td>NaN</td>\n",
       "      <td>9e année, 1934, n° 5-8, p. 178-184</td>\n",
       "      <td>https://gallica.bnf.fr/iiif/ark:/12148/bpt6k97...</td>\n",
       "      <td>https://gallica.bnf.fr/iiif/ark:/12148/bpt6k97...</td>\n",
       "      <td>312</td>\n",
       "    </tr>\n",
       "    <tr>\n",
       "      <th>1</th>\n",
       "      <td>14256</td>\n",
       "      <td>NaN</td>\n",
       "      <td>9e année, 1934, n° 5-8, p. 193-196</td>\n",
       "      <td>https://gallica.bnf.fr/iiif/ark:/12148/bpt6k97...</td>\n",
       "      <td>https://gallica.bnf.fr/iiif/ark:/12148/bpt6k97...</td>\n",
       "      <td>312</td>\n",
       "    </tr>\n",
       "    <tr>\n",
       "      <th>2</th>\n",
       "      <td>14267</td>\n",
       "      <td>NaN</td>\n",
       "      <td>n° 4, janvier 1930, s.p.</td>\n",
       "      <td>https://gallica.bnf.fr/iiif/ark:/12148/bpt6k61...</td>\n",
       "      <td>https://gallica.bnf.fr/iiif/ark:/12148/bpt6k61...</td>\n",
       "      <td>62</td>\n",
       "    </tr>\n",
       "    <tr>\n",
       "      <th>3</th>\n",
       "      <td>14268</td>\n",
       "      <td>Bemerkenswerter Text, als Kopie vorhanden</td>\n",
       "      <td>n° 6, mai 1930, p. 6-10</td>\n",
       "      <td>https://gallica.bnf.fr/iiif/ark:/12148/bpt6k61...</td>\n",
       "      <td>https://gallica.bnf.fr/iiif/ark:/12148/bpt6k61...</td>\n",
       "      <td>68</td>\n",
       "    </tr>\n",
       "    <tr>\n",
       "      <th>4</th>\n",
       "      <td>14279</td>\n",
       "      <td>NaN</td>\n",
       "      <td>p. 105-118</td>\n",
       "      <td>https://gallica.bnf.fr/iiif/ark:/12148/bpt6k61...</td>\n",
       "      <td>https://gallica.bnf.fr/iiif/ark:/12148/bpt6k61...</td>\n",
       "      <td>445</td>\n",
       "    </tr>\n",
       "    <tr>\n",
       "      <th>...</th>\n",
       "      <td>...</td>\n",
       "      <td>...</td>\n",
       "      <td>...</td>\n",
       "      <td>...</td>\n",
       "      <td>...</td>\n",
       "      <td>...</td>\n",
       "    </tr>\n",
       "    <tr>\n",
       "      <th>205</th>\n",
       "      <td>16382</td>\n",
       "      <td>Illustrations : \\n- Kandinsky, esquisse.</td>\n",
       "      <td>1950</td>\n",
       "      <td>https://gallica.bnf.fr/iiif/ark:/12148/bpt6k47...</td>\n",
       "      <td>https://gallica.bnf.fr/iiif/ark:/12148/bpt6k47...</td>\n",
       "      <td>8</td>\n",
       "    </tr>\n",
       "    <tr>\n",
       "      <th>206</th>\n",
       "      <td>16383</td>\n",
       "      <td>Illustrations : \\n- Kandinsky, tableau (détail).</td>\n",
       "      <td>1949</td>\n",
       "      <td>https://gallica.bnf.fr/iiif/ark:/12148/bpt6k47...</td>\n",
       "      <td>https://gallica.bnf.fr/iiif/ark:/12148/bpt6k47...</td>\n",
       "      <td>6</td>\n",
       "    </tr>\n",
       "    <tr>\n",
       "      <th>207</th>\n",
       "      <td>16432</td>\n",
       "      <td>Article publié dans la rubrique \"Les Arts\".\\n\\...</td>\n",
       "      <td>1949</td>\n",
       "      <td>https://gallica.bnf.fr/iiif/ark:/12148/bpt6k47...</td>\n",
       "      <td>https://gallica.bnf.fr/iiif/ark:/12148/bpt6k47...</td>\n",
       "      <td>6</td>\n",
       "    </tr>\n",
       "    <tr>\n",
       "      <th>208</th>\n",
       "      <td>16435</td>\n",
       "      <td>Article publié dans la rubrique \"Les Arts\".\\n\\...</td>\n",
       "      <td>1950</td>\n",
       "      <td>https://gallica.bnf.fr/iiif/ark:/12148/bpt6k47...</td>\n",
       "      <td>https://gallica.bnf.fr/iiif/ark:/12148/bpt6k47...</td>\n",
       "      <td>8</td>\n",
       "    </tr>\n",
       "    <tr>\n",
       "      <th>209</th>\n",
       "      <td>16436</td>\n",
       "      <td>Illustrations : \\n- Max Ernst, dessin exécuté ...</td>\n",
       "      <td>1950</td>\n",
       "      <td>https://gallica.bnf.fr/iiif/ark:/12148/bpt6k47...</td>\n",
       "      <td>https://gallica.bnf.fr/iiif/ark:/12148/bpt6k47...</td>\n",
       "      <td>8</td>\n",
       "    </tr>\n",
       "  </tbody>\n",
       "</table>\n",
       "<p>210 rows × 6 columns</p>\n",
       "</div>"
      ],
      "text/plain": [
       "        ID                                PW_bemerkung_extern  \\\n",
       "0    14254                                                NaN   \n",
       "1    14256                                                NaN   \n",
       "2    14267                                                NaN   \n",
       "3    14268          Bemerkenswerter Text, als Kopie vorhanden   \n",
       "4    14279                                                NaN   \n",
       "..     ...                                                ...   \n",
       "205  16382           Illustrations : \\n- Kandinsky, esquisse.   \n",
       "206  16383   Illustrations : \\n- Kandinsky, tableau (détail).   \n",
       "207  16432  Article publié dans la rubrique \"Les Arts\".\\n\\...   \n",
       "208  16435  Article publié dans la rubrique \"Les Arts\".\\n\\...   \n",
       "209  16436  Illustrations : \\n- Max Ernst, dessin exécuté ...   \n",
       "\n",
       "                          bibliographie  \\\n",
       "0    9e année, 1934, n° 5-8, p. 178-184   \n",
       "1    9e année, 1934, n° 5-8, p. 193-196   \n",
       "2              n° 4, janvier 1930, s.p.   \n",
       "3               n° 6, mai 1930, p. 6-10   \n",
       "4                            p. 105-118   \n",
       "..                                  ...   \n",
       "205                                1950   \n",
       "206                                1949   \n",
       "207                                1949   \n",
       "208                                1950   \n",
       "209                                1950   \n",
       "\n",
       "                                            link_image  \\\n",
       "0    https://gallica.bnf.fr/iiif/ark:/12148/bpt6k97...   \n",
       "1    https://gallica.bnf.fr/iiif/ark:/12148/bpt6k97...   \n",
       "2    https://gallica.bnf.fr/iiif/ark:/12148/bpt6k61...   \n",
       "3    https://gallica.bnf.fr/iiif/ark:/12148/bpt6k61...   \n",
       "4    https://gallica.bnf.fr/iiif/ark:/12148/bpt6k61...   \n",
       "..                                                 ...   \n",
       "205  https://gallica.bnf.fr/iiif/ark:/12148/bpt6k47...   \n",
       "206  https://gallica.bnf.fr/iiif/ark:/12148/bpt6k47...   \n",
       "207  https://gallica.bnf.fr/iiif/ark:/12148/bpt6k47...   \n",
       "208  https://gallica.bnf.fr/iiif/ark:/12148/bpt6k47...   \n",
       "209  https://gallica.bnf.fr/iiif/ark:/12148/bpt6k47...   \n",
       "\n",
       "                                         link_manifest  length  \n",
       "0    https://gallica.bnf.fr/iiif/ark:/12148/bpt6k97...     312  \n",
       "1    https://gallica.bnf.fr/iiif/ark:/12148/bpt6k97...     312  \n",
       "2    https://gallica.bnf.fr/iiif/ark:/12148/bpt6k61...      62  \n",
       "3    https://gallica.bnf.fr/iiif/ark:/12148/bpt6k61...      68  \n",
       "4    https://gallica.bnf.fr/iiif/ark:/12148/bpt6k61...     445  \n",
       "..                                                 ...     ...  \n",
       "205  https://gallica.bnf.fr/iiif/ark:/12148/bpt6k47...       8  \n",
       "206  https://gallica.bnf.fr/iiif/ark:/12148/bpt6k47...       6  \n",
       "207  https://gallica.bnf.fr/iiif/ark:/12148/bpt6k47...       6  \n",
       "208  https://gallica.bnf.fr/iiif/ark:/12148/bpt6k47...       8  \n",
       "209  https://gallica.bnf.fr/iiif/ark:/12148/bpt6k47...       8  \n",
       "\n",
       "[210 rows x 6 columns]"
      ]
     },
     "execution_count": 12,
     "metadata": {},
     "output_type": "execute_result"
    }
   ],
   "source": [
    "link_docs_df = pd.read_csv('data/DFKV_Gallica_subset.csv')\n",
    "link_docs_df"
   ]
  },
  {
   "cell_type": "markdown",
   "id": "12cdfc62",
   "metadata": {},
   "source": [
    "Some basic statistics : "
   ]
  },
  {
   "cell_type": "code",
   "execution_count": 13,
   "id": "145edf94",
   "metadata": {
    "scrolled": true
   },
   "outputs": [
    {
     "data": {
      "text/plain": [
       "count     210.000000\n",
       "mean      431.019048\n",
       "std       280.180512\n",
       "min         4.000000\n",
       "25%       300.000000\n",
       "50%       456.000000\n",
       "75%       627.000000\n",
       "max      1235.000000\n",
       "Name: length, dtype: float64"
      ]
     },
     "execution_count": 13,
     "metadata": {},
     "output_type": "execute_result"
    }
   ],
   "source": [
    "link_docs_df['length'].describe()"
   ]
  },
  {
   "cell_type": "code",
   "execution_count": 14,
   "id": "e7041f3e",
   "metadata": {},
   "outputs": [
    {
     "name": "stdout",
     "output_type": "stream",
     "text": [
      "We would have a total number of images of :  90514\n"
     ]
    }
   ],
   "source": [
    "print('We would have a total number of images of : ', link_docs_df['length'].sum())"
   ]
  },
  {
   "cell_type": "markdown",
   "id": "37ae0fe9",
   "metadata": {},
   "source": [
    "This is a lot of images, but an idea is that we take N random pages for each book. It also has the advantage that it doesn't give too much weight to a particular book (ex: if there is one book focusing on van gogh, then there will only be illustrations of his works, and would be over-represented in the dataset). We could also take a random subset of all the dataset. Or take the subset of document that only appear in one of the three projects. Another possibiliy is to ask for images of lower quality, easy to do with IIIF (risk : as we will later use segments of the images, the resolution will be even lower. But it should be fine to lower it a bit I think)\n",
    "\n",
    "UPDATE : actually, we have notes for some of the documents, which indicate which pages interested the researchers. Our next task is then to find the specific pages."
   ]
  },
  {
   "cell_type": "markdown",
   "id": "cf82c1a7",
   "metadata": {},
   "source": [
    "## Parsing the pages indications"
   ]
  },
  {
   "cell_type": "markdown",
   "id": "74abdc26",
   "metadata": {},
   "source": [
    "In the 'bibliographie' column, we actually have the indication of which page are interesting. However, our main problem is that no two indications are written the same way. We need to process these string in order to find page numbers that we actually can use. Let's make a few observations on these :\n",
    "\n",
    "- If document less than 10 pages (and no page indication): we keep them all\n",
    "- if 'S.' or 'P.' (upper or lower case) then it means we have a page number\n",
    "- if '-' after then it means there is a beginning page and an ending page\n",
    "- if twice 'p.' then take the larger interval\n",
    "- else if no indication (happens only twice in the dataset) : we just take the image from the link"
   ]
  },
  {
   "cell_type": "code",
   "execution_count": 15,
   "id": "95fd4f2f",
   "metadata": {},
   "outputs": [
    {
     "data": {
      "text/html": [
       "<div>\n",
       "<style scoped>\n",
       "    .dataframe tbody tr th:only-of-type {\n",
       "        vertical-align: middle;\n",
       "    }\n",
       "\n",
       "    .dataframe tbody tr th {\n",
       "        vertical-align: top;\n",
       "    }\n",
       "\n",
       "    .dataframe thead th {\n",
       "        text-align: right;\n",
       "    }\n",
       "</style>\n",
       "<table border=\"1\" class=\"dataframe\">\n",
       "  <thead>\n",
       "    <tr style=\"text-align: right;\">\n",
       "      <th></th>\n",
       "      <th>ID</th>\n",
       "      <th>PW_bemerkung_extern</th>\n",
       "      <th>bibliographie</th>\n",
       "      <th>link_image</th>\n",
       "      <th>link_manifest</th>\n",
       "      <th>length</th>\n",
       "    </tr>\n",
       "  </thead>\n",
       "  <tbody>\n",
       "    <tr>\n",
       "      <th>155</th>\n",
       "      <td>15722</td>\n",
       "      <td>Copie de l'article dans les annexes de DEA de ...</td>\n",
       "      <td>p. 93-96</td>\n",
       "      <td>https://gallica.bnf.fr/iiif/ark:/12148/bpt6k42...</td>\n",
       "      <td>https://gallica.bnf.fr/iiif/ark:/12148/bpt6k42...</td>\n",
       "      <td>782</td>\n",
       "    </tr>\n",
       "    <tr>\n",
       "      <th>183</th>\n",
       "      <td>16014</td>\n",
       "      <td>NaN</td>\n",
       "      <td>n° 9, p. 368-371 [texte p. 369]</td>\n",
       "      <td>https://gallica.bnf.fr/iiif/ark:/12148/bpt6k42...</td>\n",
       "      <td>https://gallica.bnf.fr/iiif/ark:/12148/bpt6k42...</td>\n",
       "      <td>602</td>\n",
       "    </tr>\n",
       "    <tr>\n",
       "      <th>136</th>\n",
       "      <td>15505</td>\n",
       "      <td>NaN</td>\n",
       "      <td>Tome LXX, 1er semestre 1892, p. 38</td>\n",
       "      <td>https://gallica.bnf.fr/iiif/ark:/12148/bpt6k62...</td>\n",
       "      <td>https://gallica.bnf.fr/iiif/ark:/12148/bpt6k62...</td>\n",
       "      <td>16</td>\n",
       "    </tr>\n",
       "    <tr>\n",
       "      <th>106</th>\n",
       "      <td>15055</td>\n",
       "      <td>NaN</td>\n",
       "      <td>5e année, n° 14, p. 314-317</td>\n",
       "      <td>https://gallica.bnf.fr/iiif/ark:/12148/bpt6k61...</td>\n",
       "      <td>https://gallica.bnf.fr/iiif/ark:/12148/bpt6k61...</td>\n",
       "      <td>24</td>\n",
       "    </tr>\n",
       "    <tr>\n",
       "      <th>84</th>\n",
       "      <td>14977</td>\n",
       "      <td>Hommage an frz. Malerei und an Hugo von Tschudi</td>\n",
       "      <td>jan.-déc. 1926, p. 269-276 [texte p. 269-272, ...</td>\n",
       "      <td>https://gallica.bnf.fr/iiif/ark:/12148/bpt6k42...</td>\n",
       "      <td>https://gallica.bnf.fr/iiif/ark:/12148/bpt6k42...</td>\n",
       "      <td>628</td>\n",
       "    </tr>\n",
       "    <tr>\n",
       "      <th>123</th>\n",
       "      <td>15289</td>\n",
       "      <td>NaN</td>\n",
       "      <td>p. 415 - 436</td>\n",
       "      <td>https://gallica.bnf.fr/iiif/ark:/12148/bpt6k20...</td>\n",
       "      <td>https://gallica.bnf.fr/iiif/ark:/12148/bpt6k20...</td>\n",
       "      <td>624</td>\n",
       "    </tr>\n",
       "    <tr>\n",
       "      <th>24</th>\n",
       "      <td>14323</td>\n",
       "      <td>NaN</td>\n",
       "      <td>n° 1, p. 35</td>\n",
       "      <td>https://gallica.bnf.fr/iiif/ark:/12148/bpt6k42...</td>\n",
       "      <td>https://gallica.bnf.fr/iiif/ark:/12148/bpt6k42...</td>\n",
       "      <td>602</td>\n",
       "    </tr>\n",
       "    <tr>\n",
       "      <th>129</th>\n",
       "      <td>15399</td>\n",
       "      <td>NaN</td>\n",
       "      <td>59.1931, p. 21-33</td>\n",
       "      <td>https://gallica.bnf.fr/iiif/ark:/12148/bpt6k54...</td>\n",
       "      <td>https://gallica.bnf.fr/iiif/ark:/12148/bpt6k54...</td>\n",
       "      <td>250</td>\n",
       "    </tr>\n",
       "    <tr>\n",
       "      <th>25</th>\n",
       "      <td>14324</td>\n",
       "      <td>NaN</td>\n",
       "      <td>p. 218-220</td>\n",
       "      <td>https://gallica.bnf.fr/iiif/ark:/12148/bpt6k42...</td>\n",
       "      <td>https://gallica.bnf.fr/iiif/ark:/12148/bpt6k42...</td>\n",
       "      <td>602</td>\n",
       "    </tr>\n",
       "    <tr>\n",
       "      <th>121</th>\n",
       "      <td>15280</td>\n",
       "      <td>NaN</td>\n",
       "      <td>p.133-138</td>\n",
       "      <td>https://gallica.bnf.fr/iiif/ark:/12148/bpt6k20...</td>\n",
       "      <td>https://gallica.bnf.fr/iiif/ark:/12148/bpt6k20...</td>\n",
       "      <td>627</td>\n",
       "    </tr>\n",
       "  </tbody>\n",
       "</table>\n",
       "</div>"
      ],
      "text/plain": [
       "        ID                                PW_bemerkung_extern  \\\n",
       "155  15722  Copie de l'article dans les annexes de DEA de ...   \n",
       "183  16014                                                NaN   \n",
       "136  15505                                                NaN   \n",
       "106  15055                                                NaN   \n",
       "84   14977    Hommage an frz. Malerei und an Hugo von Tschudi   \n",
       "123  15289                                                NaN   \n",
       "24   14323                                                NaN   \n",
       "129  15399                                                NaN   \n",
       "25   14324                                                NaN   \n",
       "121  15280                                                NaN   \n",
       "\n",
       "                                         bibliographie  \\\n",
       "155                                           p. 93-96   \n",
       "183                    n° 9, p. 368-371 [texte p. 369]   \n",
       "136                 Tome LXX, 1er semestre 1892, p. 38   \n",
       "106                        5e année, n° 14, p. 314-317   \n",
       "84   jan.-déc. 1926, p. 269-276 [texte p. 269-272, ...   \n",
       "123                                       p. 415 - 436   \n",
       "24                                         n° 1, p. 35   \n",
       "129                                  59.1931, p. 21-33   \n",
       "25                                          p. 218-220   \n",
       "121                                          p.133-138   \n",
       "\n",
       "                                            link_image  \\\n",
       "155  https://gallica.bnf.fr/iiif/ark:/12148/bpt6k42...   \n",
       "183  https://gallica.bnf.fr/iiif/ark:/12148/bpt6k42...   \n",
       "136  https://gallica.bnf.fr/iiif/ark:/12148/bpt6k62...   \n",
       "106  https://gallica.bnf.fr/iiif/ark:/12148/bpt6k61...   \n",
       "84   https://gallica.bnf.fr/iiif/ark:/12148/bpt6k42...   \n",
       "123  https://gallica.bnf.fr/iiif/ark:/12148/bpt6k20...   \n",
       "24   https://gallica.bnf.fr/iiif/ark:/12148/bpt6k42...   \n",
       "129  https://gallica.bnf.fr/iiif/ark:/12148/bpt6k54...   \n",
       "25   https://gallica.bnf.fr/iiif/ark:/12148/bpt6k42...   \n",
       "121  https://gallica.bnf.fr/iiif/ark:/12148/bpt6k20...   \n",
       "\n",
       "                                         link_manifest  length  \n",
       "155  https://gallica.bnf.fr/iiif/ark:/12148/bpt6k42...     782  \n",
       "183  https://gallica.bnf.fr/iiif/ark:/12148/bpt6k42...     602  \n",
       "136  https://gallica.bnf.fr/iiif/ark:/12148/bpt6k62...      16  \n",
       "106  https://gallica.bnf.fr/iiif/ark:/12148/bpt6k61...      24  \n",
       "84   https://gallica.bnf.fr/iiif/ark:/12148/bpt6k42...     628  \n",
       "123  https://gallica.bnf.fr/iiif/ark:/12148/bpt6k20...     624  \n",
       "24   https://gallica.bnf.fr/iiif/ark:/12148/bpt6k42...     602  \n",
       "129  https://gallica.bnf.fr/iiif/ark:/12148/bpt6k54...     250  \n",
       "25   https://gallica.bnf.fr/iiif/ark:/12148/bpt6k42...     602  \n",
       "121  https://gallica.bnf.fr/iiif/ark:/12148/bpt6k20...     627  "
      ]
     },
     "execution_count": 15,
     "metadata": {},
     "output_type": "execute_result"
    }
   ],
   "source": [
    "link_docs_df.sample(10)"
   ]
  },
  {
   "cell_type": "markdown",
   "id": "4cea4181",
   "metadata": {},
   "source": [
    "Here an example : it says 'p. 317-320' but in the link it's 'f329', which indeed links to the page 317 -> we need to find the number of pages, not the page number"
   ]
  },
  {
   "cell_type": "code",
   "execution_count": 16,
   "id": "7ad724f5",
   "metadata": {},
   "outputs": [],
   "source": [
    "import re\n",
    "\n",
    "def extract_nb_pages(text):\n",
    "    if not pd.isna(text):\n",
    "        after_page = re.findall(r\"(?<=[pPsS].).*\",text) # extract anything after 'p.'\n",
    "        if len(after_page) != 0 :\n",
    "            beginning = re.findall(r\"\\d+(?=-)\", after_page[0]) # extract numbers before '-'\n",
    "            end = re.findall(r\"-(\\d+)\", after_page[0]) # extract numbers before '-'\n",
    "            if len(beginning) != 0 and len(end) != 0:\n",
    "                return int(end[0]) - int(beginning[0]) + 1\n",
    "            else:\n",
    "                return 1 # means that there is only one page (e.g. 'n° 25, p. 279')\n",
    "        else:\n",
    "            return 0  # means that we didn't find any page indication\n",
    "    else:\n",
    "        return 1 # no page indication, we will only take the one from the link"
   ]
  },
  {
   "cell_type": "code",
   "execution_count": 17,
   "id": "0852eda4",
   "metadata": {},
   "outputs": [],
   "source": [
    "link_docs_df['pages_to_extract'] = link_docs_df.apply(lambda row: extract_nb_pages(row['bibliographie']), axis=1)"
   ]
  },
  {
   "cell_type": "code",
   "execution_count": 18,
   "id": "1235a590",
   "metadata": {},
   "outputs": [],
   "source": [
    "link_docs_df['pages_to_extract'] = link_docs_df.apply(lambda row: row['length'] if row['length']<10 and row['pages_to_extract'] == 0 else row['pages_to_extract'], axis = 1)"
   ]
  },
  {
   "cell_type": "markdown",
   "id": "5f58dc33",
   "metadata": {},
   "source": [
    "Let's see which pages escaped our vigilence. We will manually enter their values, as there are just a few of them. "
   ]
  },
  {
   "cell_type": "code",
   "execution_count": 19,
   "id": "5642a76d",
   "metadata": {},
   "outputs": [
    {
     "data": {
      "text/html": [
       "<div>\n",
       "<style scoped>\n",
       "    .dataframe tbody tr th:only-of-type {\n",
       "        vertical-align: middle;\n",
       "    }\n",
       "\n",
       "    .dataframe tbody tr th {\n",
       "        vertical-align: top;\n",
       "    }\n",
       "\n",
       "    .dataframe thead th {\n",
       "        text-align: right;\n",
       "    }\n",
       "</style>\n",
       "<table border=\"1\" class=\"dataframe\">\n",
       "  <thead>\n",
       "    <tr style=\"text-align: right;\">\n",
       "      <th></th>\n",
       "      <th>ID</th>\n",
       "      <th>PW_bemerkung_extern</th>\n",
       "      <th>bibliographie</th>\n",
       "      <th>link_image</th>\n",
       "      <th>link_manifest</th>\n",
       "      <th>length</th>\n",
       "      <th>pages_to_extract</th>\n",
       "    </tr>\n",
       "  </thead>\n",
       "  <tbody>\n",
       "    <tr>\n",
       "      <th>66</th>\n",
       "      <td>14728</td>\n",
       "      <td>NaN</td>\n",
       "      <td>22.1907</td>\n",
       "      <td>https://gallica.bnf.fr/iiif/ark:/12148/bpt6k57...</td>\n",
       "      <td>https://gallica.bnf.fr/iiif/ark:/12148/bpt6k57...</td>\n",
       "      <td>662</td>\n",
       "      <td>0</td>\n",
       "    </tr>\n",
       "    <tr>\n",
       "      <th>67</th>\n",
       "      <td>14728</td>\n",
       "      <td>NaN</td>\n",
       "      <td>23.1908</td>\n",
       "      <td>https://gallica.bnf.fr/iiif/ark:/12148/bpt6k57...</td>\n",
       "      <td>https://gallica.bnf.fr/iiif/ark:/12148/bpt6k57...</td>\n",
       "      <td>662</td>\n",
       "      <td>0</td>\n",
       "    </tr>\n",
       "    <tr>\n",
       "      <th>124</th>\n",
       "      <td>15300</td>\n",
       "      <td>NaN</td>\n",
       "      <td>Jg.5, Bd.16, 314-316</td>\n",
       "      <td>https://gallica.bnf.fr/iiif/ark:/12148/bpt6k10...</td>\n",
       "      <td>https://gallica.bnf.fr/iiif/ark:/12148/bpt6k10...</td>\n",
       "      <td>427</td>\n",
       "      <td>0</td>\n",
       "    </tr>\n",
       "    <tr>\n",
       "      <th>125</th>\n",
       "      <td>15302</td>\n",
       "      <td>NaN</td>\n",
       "      <td>5.Jg., Bd.17, 81-92</td>\n",
       "      <td>https://gallica.bnf.fr/iiif/ark:/12148/bpt6k10...</td>\n",
       "      <td>https://gallica.bnf.fr/iiif/ark:/12148/bpt6k10...</td>\n",
       "      <td>405</td>\n",
       "      <td>0</td>\n",
       "    </tr>\n",
       "    <tr>\n",
       "      <th>186</th>\n",
       "      <td>16031</td>\n",
       "      <td>NaN</td>\n",
       "      <td>n° 27, 1924-1925</td>\n",
       "      <td>https://gallica.bnf.fr/iiif/ark:/12148/bpt6k10...</td>\n",
       "      <td>https://gallica.bnf.fr/iiif/ark:/12148/bpt6k10...</td>\n",
       "      <td>1137</td>\n",
       "      <td>0</td>\n",
       "    </tr>\n",
       "  </tbody>\n",
       "</table>\n",
       "</div>"
      ],
      "text/plain": [
       "        ID PW_bemerkung_extern         bibliographie  \\\n",
       "66   14728                 NaN               22.1907   \n",
       "67   14728                 NaN               23.1908   \n",
       "124  15300                 NaN  Jg.5, Bd.16, 314-316   \n",
       "125  15302                 NaN   5.Jg., Bd.17, 81-92   \n",
       "186  16031                 NaN      n° 27, 1924-1925   \n",
       "\n",
       "                                            link_image  \\\n",
       "66   https://gallica.bnf.fr/iiif/ark:/12148/bpt6k57...   \n",
       "67   https://gallica.bnf.fr/iiif/ark:/12148/bpt6k57...   \n",
       "124  https://gallica.bnf.fr/iiif/ark:/12148/bpt6k10...   \n",
       "125  https://gallica.bnf.fr/iiif/ark:/12148/bpt6k10...   \n",
       "186  https://gallica.bnf.fr/iiif/ark:/12148/bpt6k10...   \n",
       "\n",
       "                                         link_manifest  length  \\\n",
       "66   https://gallica.bnf.fr/iiif/ark:/12148/bpt6k57...     662   \n",
       "67   https://gallica.bnf.fr/iiif/ark:/12148/bpt6k57...     662   \n",
       "124  https://gallica.bnf.fr/iiif/ark:/12148/bpt6k10...     427   \n",
       "125  https://gallica.bnf.fr/iiif/ark:/12148/bpt6k10...     405   \n",
       "186  https://gallica.bnf.fr/iiif/ark:/12148/bpt6k10...    1137   \n",
       "\n",
       "     pages_to_extract  \n",
       "66                  0  \n",
       "67                  0  \n",
       "124                 0  \n",
       "125                 0  \n",
       "186                 0  "
      ]
     },
     "execution_count": 19,
     "metadata": {},
     "output_type": "execute_result"
    }
   ],
   "source": [
    "link_docs_df[link_docs_df['pages_to_extract']==0]"
   ]
  },
  {
   "cell_type": "code",
   "execution_count": 20,
   "id": "ed56c667",
   "metadata": {},
   "outputs": [],
   "source": [
    "link_docs_df.at[66,'pages_to_extract'] = 1\n",
    "link_docs_df.at[67,'pages_to_extract'] = 1\n",
    "link_docs_df.at[124,'pages_to_extract'] = 3\n",
    "link_docs_df.at[125,'pages_to_extract'] = 2\n",
    "link_docs_df.at[186,'pages_to_extract'] = 1"
   ]
  },
  {
   "cell_type": "code",
   "execution_count": 21,
   "id": "c9b1719a",
   "metadata": {},
   "outputs": [],
   "source": [
    "PREFIX_URL = 'https://gallica.bnf.fr/iiif/ark:/'\n",
    "SUFFIX_URL_IMAGE = '/full/pct:50/0/native.jpg' # pct:50 because we download the images with lower quality, to gain storage space\n",
    "\n",
    "# function that from the canvas link create the image link\n",
    "def modify_url(link):\n",
    "    try:\n",
    "        ml = PREFIX_URL + link.split('/')[5] + '/' + link.split('/')[6] + '/' + link.split('/')[7] + SUFFIX_URL_IMAGE\n",
    "        return ml\n",
    "    except:\n",
    "        return '' # when the url is not conform, just ignore it - it only happens twice"
   ]
  },
  {
   "cell_type": "markdown",
   "id": "75fe2278",
   "metadata": {},
   "source": [
    "## Downloading the images\n",
    "\n",
    "We now know exactly which pages we want, let's download them !"
   ]
  },
  {
   "cell_type": "code",
   "execution_count": 22,
   "id": "1bee9ebc",
   "metadata": {},
   "outputs": [],
   "source": [
    "# Function to get the image from the link and save it with the right name at the right place\n",
    "def download_image(link, doc_id, page):\n",
    "    response = requests.get(link) # Request the image\n",
    "    \n",
    "    if response.status_code == 200:\n",
    "        # If request successful, then save the file\n",
    "        im_path = \"./data/test_images/DFKV_\" + str(doc_id) + \"_\" + str(page) + \".jpg\"\n",
    "        file = open(im_path, \"wb\")\n",
    "        file.write(response.content) \n",
    "        file.close()"
   ]
  },
  {
   "cell_type": "code",
   "execution_count": 23,
   "id": "58c2c5ee",
   "metadata": {},
   "outputs": [],
   "source": [
    "link_docs_df['link_image'] = link_docs_df.apply(lambda row: modify_url(row['link_image']), axis=1)"
   ]
  },
  {
   "cell_type": "code",
   "execution_count": 24,
   "id": "34e1a08a",
   "metadata": {},
   "outputs": [
    {
     "name": "stderr",
     "output_type": "stream",
     "text": [
      "210it [21:02,  6.01s/it]\n"
     ]
    }
   ],
   "source": [
    "# Iterate over all the document to download the images\n",
    "for doc in tqdm(link_docs_df.iterrows()):\n",
    "    try :\n",
    "        page = int(doc[1]['link_image'].split('/')[7][1:])\n",
    "        doc_id = doc[1]['ID']\n",
    "        \n",
    "        # For each document, go through all the desired pages\n",
    "        for i in range(page, page + int(doc[1]['pages_to_extract'])+1):\n",
    "            link = doc[1]['link_image'].replace(str(page), str(i)) # we change the page number here \n",
    "            download_image(link, doc_id, i)\n",
    "    except:\n",
    "        continue"
   ]
  },
  {
   "cell_type": "code",
   "execution_count": null,
   "id": "4be0f128",
   "metadata": {},
   "outputs": [],
   "source": []
  }
 ],
 "metadata": {
  "kernelspec": {
   "display_name": "Python 3 (ipykernel)",
   "language": "python",
   "name": "python3"
  },
  "language_info": {
   "codemirror_mode": {
    "name": "ipython",
    "version": 3
   },
   "file_extension": ".py",
   "mimetype": "text/x-python",
   "name": "python",
   "nbconvert_exporter": "python",
   "pygments_lexer": "ipython3",
   "version": "3.10.2"
  }
 },
 "nbformat": 4,
 "nbformat_minor": 5
}
