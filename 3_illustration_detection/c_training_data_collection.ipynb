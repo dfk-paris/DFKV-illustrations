{
 "cells": [
  {
   "cell_type": "markdown",
   "id": "b8a2f6ab",
   "metadata": {},
   "source": [
    "# Collecting Data for Training the Model\n",
    "\n",
    "In this notebook, we download images of pages with illustrations (or not), that will be later used for manual annotations, to train the Detectron2 model."
   ]
  },
  {
   "cell_type": "code",
   "execution_count": 57,
   "id": "afdf6290",
   "metadata": {},
   "outputs": [],
   "source": [
    "# Basic imports\n",
    "import requests\n",
    "import pandas as pd\n",
    "import os\n",
    "from tqdm import tqdm"
   ]
  },
  {
   "cell_type": "markdown",
   "id": "2e4cbfed",
   "metadata": {},
   "source": [
    "We want to have training data images that have the same global structure as the future test images, but not exactly those images. Recall that our test images will be the data obtained in the TODO notebook.\n",
    "\n",
    "With this goal in mind, we will draw our training data from the `data/DFKV_Master.csv`, but retain only the documents that :\n",
    "- Have a IIIF Gallica link (because these are easy to get)\n",
    "- Are not present in the test data, which is the Gallica subset from [this notebook](https://github.com/dfk-paris/DFKV-illustrations/blob/main/2_gallica_subset/Gallica_subset.ipynb)\n",
    "\n",
    "We begin gathering this dataset in a dataframe."
   ]
  },
  {
   "cell_type": "code",
   "execution_count": 58,
   "id": "9fadc600",
   "metadata": {
    "scrolled": true
   },
   "outputs": [
    {
     "data": {
      "text/html": [
       "<div>\n",
       "<style scoped>\n",
       "    .dataframe tbody tr th:only-of-type {\n",
       "        vertical-align: middle;\n",
       "    }\n",
       "\n",
       "    .dataframe tbody tr th {\n",
       "        vertical-align: top;\n",
       "    }\n",
       "\n",
       "    .dataframe thead th {\n",
       "        text-align: right;\n",
       "    }\n",
       "</style>\n",
       "<table border=\"1\" class=\"dataframe\">\n",
       "  <thead>\n",
       "    <tr style=\"text-align: right;\">\n",
       "      <th></th>\n",
       "      <th>ID</th>\n",
       "      <th>Volume_ID</th>\n",
       "      <th>_journal-id</th>\n",
       "      <th>liens iiif</th>\n",
       "      <th>liens de citation (page)</th>\n",
       "      <th>liens de citation (volume)</th>\n",
       "      <th>bibliographie</th>\n",
       "    </tr>\n",
       "  </thead>\n",
       "  <tbody>\n",
       "    <tr>\n",
       "      <th>5795</th>\n",
       "      <td>14477</td>\n",
       "      <td>8071</td>\n",
       "      <td>1602.0</td>\n",
       "      <td>https://gallica.bnf.fr/iiif/ark:/12148/bpt6k43...</td>\n",
       "      <td>https://gallica.bnf.fr/ark:/12148/bpt6k431799g...</td>\n",
       "      <td>NaN</td>\n",
       "      <td>p. 457-468</td>\n",
       "    </tr>\n",
       "  </tbody>\n",
       "</table>\n",
       "</div>"
      ],
      "text/plain": [
       "         ID  Volume_ID  _journal-id  \\\n",
       "5795  14477       8071       1602.0   \n",
       "\n",
       "                                             liens iiif  \\\n",
       "5795  https://gallica.bnf.fr/iiif/ark:/12148/bpt6k43...   \n",
       "\n",
       "                               liens de citation (page)  \\\n",
       "5795  https://gallica.bnf.fr/ark:/12148/bpt6k431799g...   \n",
       "\n",
       "     liens de citation (volume) bibliographie  \n",
       "5795                        NaN    p. 457-468  "
      ]
     },
     "execution_count": 58,
     "metadata": {},
     "output_type": "execute_result"
    }
   ],
   "source": [
    "# Master Dataset\n",
    "master_df = pd.read_csv('data/DFKV_Master.csv')\n",
    "# Drop rows with IIIF link unknown\n",
    "master_df = master_df.dropna(subset=['liens iiif'])\n",
    "# Only keep Gallica IIIF links\n",
    "master_df = master_df[master_df['liens iiif'].str.contains(\"https://gallica.bnf.fr/iiif/\")]\n",
    "master_df.sample()"
   ]
  },
  {
   "cell_type": "code",
   "execution_count": 59,
   "id": "f89dec40",
   "metadata": {
    "scrolled": false
   },
   "outputs": [
    {
     "data": {
      "text/html": [
       "<div>\n",
       "<style scoped>\n",
       "    .dataframe tbody tr th:only-of-type {\n",
       "        vertical-align: middle;\n",
       "    }\n",
       "\n",
       "    .dataframe tbody tr th {\n",
       "        vertical-align: top;\n",
       "    }\n",
       "\n",
       "    .dataframe thead th {\n",
       "        text-align: right;\n",
       "    }\n",
       "</style>\n",
       "<table border=\"1\" class=\"dataframe\">\n",
       "  <thead>\n",
       "    <tr style=\"text-align: right;\">\n",
       "      <th></th>\n",
       "      <th>Volume_ID</th>\n",
       "      <th>_journal-id</th>\n",
       "      <th>liens iiif</th>\n",
       "      <th>liens de citation (page)</th>\n",
       "      <th>liens de citation (volume)</th>\n",
       "      <th>bibliographie</th>\n",
       "    </tr>\n",
       "    <tr>\n",
       "      <th>ID</th>\n",
       "      <th></th>\n",
       "      <th></th>\n",
       "      <th></th>\n",
       "      <th></th>\n",
       "      <th></th>\n",
       "      <th></th>\n",
       "    </tr>\n",
       "  </thead>\n",
       "  <tbody>\n",
       "    <tr>\n",
       "      <th>15708</th>\n",
       "      <td>8378</td>\n",
       "      <td>1479.0</td>\n",
       "      <td>https://gallica.bnf.fr/iiif/ark:/12148/bpt6k58...</td>\n",
       "      <td>https://gallica.bnf.fr/ark:/12148/bpt6k5864957...</td>\n",
       "      <td>NaN</td>\n",
       "      <td>Tome II, oct. 1905-mars 1906, p. 131-132</td>\n",
       "    </tr>\n",
       "  </tbody>\n",
       "</table>\n",
       "</div>"
      ],
      "text/plain": [
       "       Volume_ID  _journal-id  \\\n",
       "ID                              \n",
       "15708       8378       1479.0   \n",
       "\n",
       "                                              liens iiif  \\\n",
       "ID                                                         \n",
       "15708  https://gallica.bnf.fr/iiif/ark:/12148/bpt6k58...   \n",
       "\n",
       "                                liens de citation (page)  \\\n",
       "ID                                                         \n",
       "15708  https://gallica.bnf.fr/ark:/12148/bpt6k5864957...   \n",
       "\n",
       "      liens de citation (volume)                             bibliographie  \n",
       "ID                                                                          \n",
       "15708                        NaN  Tome II, oct. 1905-mars 1906, p. 131-132  "
      ]
     },
     "execution_count": 59,
     "metadata": {},
     "output_type": "execute_result"
    }
   ],
   "source": [
    "# Gallica test subset \n",
    "gallica_df = pd.read_csv('data/DFKV_gallica_subset.csv')\n",
    "# Gallica data that is not in the test subset\n",
    "not_test_gallica_df = master_df.set_index('ID').drop(list(gallica_df['ID'])).dropna(subset=['liens iiif'])\n",
    "not_test_gallica_df.sample()"
   ]
  },
  {
   "cell_type": "markdown",
   "id": "fc278bca",
   "metadata": {},
   "source": [
    "In the `liens iiif` column, the link points to the canvas of the document. We need a link that points directly to the images, so that it is esay to download. In the following cells we modify the urls to directly get these ones."
   ]
  },
  {
   "cell_type": "code",
   "execution_count": 60,
   "id": "b835ff83",
   "metadata": {},
   "outputs": [],
   "source": [
    "PREFIX_URL = 'https://gallica.bnf.fr/iiif/ark:/'\n",
    "SUFFIX_URL_IMAGE = '/full/pct:50/0/native.jpg' # pct:50 because we download the images with lower quality, to gain storage space\n",
    "\n",
    "# function that from the canvas link create the image link\n",
    "def modify_url(link):\n",
    "    try:\n",
    "        ml = PREFIX_URL + link.split('/')[5] + '/' + link.split('/')[6] + '/' + link.split('/')[8] + SUFFIX_URL_IMAGE\n",
    "        return ml\n",
    "    except:\n",
    "        return '' # when the url is not conform, just ignore it - it only happens twice"
   ]
  },
  {
   "cell_type": "code",
   "execution_count": 61,
   "id": "cd0a73ef",
   "metadata": {},
   "outputs": [],
   "source": [
    "# Modifying the urls\n",
    "not_test_gallica_df['link_image'] = [modify_url(link) for link in not_test_gallica_df['liens iiif']]\n",
    "# Dropping the rows that failed\n",
    "not_test_gallica_df = not_test_gallica_df.drop(not_test_gallica_df[not_test_gallica_df['link_image']==''].index)"
   ]
  },
  {
   "cell_type": "code",
   "execution_count": 62,
   "id": "8f474bd7",
   "metadata": {
    "scrolled": true
   },
   "outputs": [
    {
     "name": "stdout",
     "output_type": "stream",
     "text": [
      "Example of image url : \n"
     ]
    },
    {
     "data": {
      "text/plain": [
       "['https://gallica.bnf.fr/iiif/ark:/12148/bpt6k57228330/f398/full/pct:50/0/native.jpg']"
      ]
     },
     "execution_count": 62,
     "metadata": {},
     "output_type": "execute_result"
    }
   ],
   "source": [
    "print('Example of image url : ')\n",
    "list(not_test_gallica_df.sample()['link_image'])"
   ]
  },
  {
   "cell_type": "markdown",
   "id": "3349e613",
   "metadata": {},
   "source": [
    "Let's actually download the images into the `data/training_images` folder. Each image is named `DFKV_<DOC_ID>_<PAGE_NUMBER>.jpg`."
   ]
  },
  {
   "cell_type": "code",
   "execution_count": 44,
   "id": "890ec2af",
   "metadata": {},
   "outputs": [],
   "source": [
    "# Function to get the image from the link and save it with the right name at the right place\n",
    "def download_image(link, doc_id, page):\n",
    "    response = requests.get(link) # Request the image\n",
    "    if response.status_code == 200:\n",
    "        # If request successful, then save the file\n",
    "        im_path = \"./data/training_images/DFKV_\" + str(doc_id) + \"_\" + str(page) + \".jpg\"\n",
    "        file = open(im_path, \"wb\")\n",
    "        file.write(response.content) \n",
    "        file.close()"
   ]
  },
  {
   "cell_type": "code",
   "execution_count": 48,
   "id": "c43320b5",
   "metadata": {},
   "outputs": [
    {
     "name": "stderr",
     "output_type": "stream",
     "text": [
      "752it [17:00:27, 81.42s/it]   \n"
     ]
    }
   ],
   "source": [
    "# Iterate over all the document to download the images\n",
    "for doc in tqdm(not_test_gallica_df.iterrows()):\n",
    "    try :\n",
    "        page = int(doc[1]['link_image'].split('/')[7][1:])\n",
    "        doc_id = doc[0]\n",
    "        \n",
    "        # For each document, we also take one page before and one page after the one that is linked, \n",
    "        # in the hope to have more images with illustrations in them\n",
    "        for i in range(page-1, page+2):\n",
    "            link = doc[1]['link_image'].replace(str(page), str(i)) # we change the page number here\n",
    "            download_image(link, doc_id, i)\n",
    "    except:\n",
    "        continue"
   ]
  },
  {
   "cell_type": "markdown",
   "id": "0c338bc2",
   "metadata": {},
   "source": [
    "All done ! We can find the data in `data/training_images` "
   ]
  }
 ],
 "metadata": {
  "kernelspec": {
   "display_name": "Python 3 (ipykernel)",
   "language": "python",
   "name": "python3"
  },
  "language_info": {
   "codemirror_mode": {
    "name": "ipython",
    "version": 3
   },
   "file_extension": ".py",
   "mimetype": "text/x-python",
   "name": "python",
   "nbconvert_exporter": "python",
   "pygments_lexer": "ipython3",
   "version": "3.10.2"
  }
 },
 "nbformat": 4,
 "nbformat_minor": 5
}
