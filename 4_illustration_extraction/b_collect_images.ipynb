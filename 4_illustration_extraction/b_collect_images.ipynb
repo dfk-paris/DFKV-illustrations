{
 "cells": [
  {
   "cell_type": "code",
   "execution_count": 1,
   "id": "185278c0",
   "metadata": {},
   "outputs": [],
   "source": [
    "import pandas as pd\n",
    "import requests\n",
    "import json\n",
    "from tqdm import tqdm"
   ]
  },
  {
   "cell_type": "code",
   "execution_count": 2,
   "id": "cbedca9c",
   "metadata": {},
   "outputs": [],
   "source": [
    "pages_df = pd.read_csv('data/DFKV_pages.csv')"
   ]
  },
  {
   "cell_type": "code",
   "execution_count": 3,
   "id": "f40e0015",
   "metadata": {},
   "outputs": [],
   "source": [
    "def is_bnf(link):\n",
    "    return 'gallica.bnf.fr' in link\n",
    "\n",
    "def is_dub(link):\n",
    "    return 'digi.ub.uni-heidelberg' in link"
   ]
  },
  {
   "cell_type": "code",
   "execution_count": 4,
   "id": "e11a6124",
   "metadata": {},
   "outputs": [],
   "source": [
    "PREFIX_URL_GALLICA = 'https://gallica.bnf.fr/iiif/ark:/'\n",
    "SUFFIX_URL_IMAGE_GALLICA = '/full/pct:50/0/native.jpg' # pct:50 because we download the images with lower quality, to gain storage space\n",
    "\n",
    "# function that from the canvas link create the image link\n",
    "def modify_url(link):\n",
    "    try:\n",
    "        if is_bnf(link):\n",
    "            ml = PREFIX_URL_GALLICA + link.split('/')[5] + '/' + link.split('/')[6] + '/' + link.split('/')[8] + SUFFIX_URL_IMAGE_GALLICA\n",
    "            return ml\n",
    "        elif is_dub(link):\n",
    "            response = requests.get(link) # Request the canvas infos.json\n",
    "            if response.status_code == 200:\n",
    "                rep = json.loads(response.content)\n",
    "                im_link = rep['images'][0]['resource']['@id']\n",
    "                im_link = im_link.replace('/4/', '/1/') # Change to lower image quality\n",
    "                return im_link\n",
    "        else:\n",
    "            return ''\n",
    "    except:\n",
    "        return '' # when the url is not conform, just ignore it - it only happens twice"
   ]
  },
  {
   "cell_type": "code",
   "execution_count": 5,
   "id": "f45a2bfb",
   "metadata": {},
   "outputs": [],
   "source": [
    "# Function to get the image from the link and save it with the right name at the right place\n",
    "def download_image(link, doc_id, page):\n",
    "    response = requests.get(link) # Request the image\n",
    "    if response.status_code == 200:\n",
    "        # If request successful, then save the file\n",
    "        im_path = \"./data/DFKV_images/DFKV_\" + str(doc_id) + \"_\" + str(page) + \".jpg\"\n",
    "        file = open(im_path, \"wb\")\n",
    "        file.write(response.content) \n",
    "        file.close()"
   ]
  },
  {
   "cell_type": "code",
   "execution_count": 6,
   "id": "3d31782c",
   "metadata": {
    "scrolled": true
   },
   "outputs": [],
   "source": [
    "pages_df['liens iiif'] = pages_df.apply(lambda row: modify_url(row['liens iiif']), axis=1)"
   ]
  },
  {
   "cell_type": "code",
   "execution_count": 14,
   "id": "5f98286c",
   "metadata": {},
   "outputs": [],
   "source": [
    "pages_df = pages_df.drop(pages_df[pages_df[\"liens iiif\"] == ''].index)"
   ]
  },
  {
   "cell_type": "code",
   "execution_count": 15,
   "id": "f5f6bb4a",
   "metadata": {},
   "outputs": [],
   "source": [
    "pages_df.to_csv('data/link_images.csv', index=False)"
   ]
  },
  {
   "cell_type": "code",
   "execution_count": 6,
   "id": "ecf8a0d7",
   "metadata": {},
   "outputs": [],
   "source": [
    "pages_df = pd.read_csv('data/link_images.csv')"
   ]
  },
  {
   "cell_type": "code",
   "execution_count": 8,
   "id": "8a6f0b2f",
   "metadata": {},
   "outputs": [
    {
     "name": "stderr",
     "output_type": "stream",
     "text": [
      "2670it [4:08:20,  5.58s/it]\n"
     ]
    }
   ],
   "source": [
    "# Iterate over all the document to download the images\n",
    "for doc in tqdm(pages_df.iterrows()):\n",
    "    try:\n",
    "        page = int(doc[1]['liens iiif'].split('/')[7][1:]) if is_bnf(doc[1]['liens iiif']) else int(doc[1]['liens iiif'].split('/')[7][:-4])\n",
    "        doc_id = doc[1]['ID']\n",
    "        # For each document, go through all the desired pages\n",
    "        for i in range(page, page + int(doc[1]['pages_to_extract'])+1):\n",
    "            link = doc[1]['liens iiif'].replace(str(page), str(i)) # we change the page number here \n",
    "            download_image(link, doc_id, i)\n",
    "    except:\n",
    "        continue"
   ]
  },
  {
   "cell_type": "code",
   "execution_count": null,
   "id": "7bcae6ac",
   "metadata": {},
   "outputs": [],
   "source": []
  }
 ],
 "metadata": {
  "kernelspec": {
   "display_name": "Python 3 (ipykernel)",
   "language": "python",
   "name": "python3"
  },
  "language_info": {
   "codemirror_mode": {
    "name": "ipython",
    "version": 3
   },
   "file_extension": ".py",
   "mimetype": "text/x-python",
   "name": "python",
   "nbconvert_exporter": "python",
   "pygments_lexer": "ipython3",
   "version": "3.10.2"
  }
 },
 "nbformat": 4,
 "nbformat_minor": 5
}
