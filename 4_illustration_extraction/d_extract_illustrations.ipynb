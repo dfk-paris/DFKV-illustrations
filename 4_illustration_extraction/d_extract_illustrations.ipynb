{
  "nbformat": 4,
  "nbformat_minor": 0,
  "metadata": {
    "colab": {
      "name": "extract_illustrations.ipynb",
      "provenance": [],
      "collapsed_sections": []
    },
    "kernelspec": {
      "name": "python3",
      "display_name": "Python 3"
    },
    "language_info": {
      "name": "python"
    },
    "gpuClass": "standard"
  },
  "cells": [
    {
      "cell_type": "markdown",
      "source": [
        "# ILLUSTRATION EXTRACTION\n",
        "\n",
        "In this notebook, with the results of the segmentation model all saved into different json files, we crop the images to save all the illustrations.\n"
      ],
      "metadata": {
        "id": "xj8Stvf_qBxP"
      }
    },
    {
      "cell_type": "code",
      "execution_count": 1,
      "metadata": {
        "id": "b-QjPvZupYVp"
      },
      "outputs": [],
      "source": [
        "# Some imports\n",
        "import pandas as pd\n",
        "from PIL import Image\n",
        "import os\n",
        "import glob\n",
        "import json\n",
        "import cv2\n",
        "import matplotlib.pyplot as plt\n",
        "from matplotlib.patches import Rectangle\n",
        "from tqdm import tqdm"
      ]
    },
    {
      "cell_type": "code",
      "source": [
        "# Mounting Google Drive content\n",
        "from google.colab import drive\n",
        "drive.mount('/content/gdrive', force_remount=True)"
      ],
      "metadata": {
        "colab": {
          "base_uri": "https://localhost:8080/"
        },
        "id": "tItsLogrsjxk",
        "outputId": "d3179a53-2880-4d84-a24e-e9613384a180"
      },
      "execution_count": 2,
      "outputs": [
        {
          "output_type": "stream",
          "name": "stdout",
          "text": [
            "Mounted at /content/gdrive\n"
          ]
        }
      ]
    },
    {
      "cell_type": "code",
      "source": [
        "# Go into the directory where your notebook is\n",
        "%cd gdrive/My Drive/newspaper-navigator/newspaper-navigator/notebooks"
      ],
      "metadata": {
        "colab": {
          "base_uri": "https://localhost:8080/"
        },
        "id": "FOe9jamUsoTK",
        "outputId": "6c6642bd-653b-40ca-94ba-e6cb37d98137"
      },
      "execution_count": 3,
      "outputs": [
        {
          "output_type": "stream",
          "name": "stdout",
          "text": [
            "/content/gdrive/My Drive/newspaper-navigator/newspaper-navigator/notebooks\n"
          ]
        }
      ]
    },
    {
      "cell_type": "code",
      "source": [
        "# Defining target directories\n",
        "IMAGES_DIR = '../DFKV_data/DFKV/' # where the images are\n",
        "PREDICTIONS_DIR = '../../DFKV_output/DFKV/' # where the segmentation ouptuts are (json files)\n",
        "ILLUS_DIR = '../../DFKV_illustrations/DFKV/' # where we will save the illustrations\n",
        "ILLUS_RATIO = '../../DFKV_output/illu_ratios.json' # where we will save the illustrations ratios\n",
        "ILLUS_POS = '../../DFKV_output/illu_pos.json' # where we will save the illustrations positions\n",
        "\n",
        "ILLU_THRESHOLD = 0.99 "
      ],
      "metadata": {
        "id": "16SYQPjzruk7"
      },
      "execution_count": 19,
      "outputs": []
    },
    {
      "cell_type": "code",
      "source": [
        "# Navigate (from the /notebook directory) to the directory of the images\n",
        "# and find the list of all the images\n",
        "os.chdir(IMAGES_DIR)\n",
        "all_images = glob.glob(\"*.jpg\")"
      ],
      "metadata": {
        "id": "1zjWNWMMre-N"
      },
      "execution_count": 5,
      "outputs": []
    },
    {
      "cell_type": "code",
      "source": [
        "# Where we save the percentage of the illustration's place on the page\n",
        "im_ratio = dict()\n",
        "im_pos = dict()\n",
        "\n",
        "# Go through all the images\n",
        "for fn in tqdm(all_images):\n",
        "    # open prediction file\n",
        "    f = open(PREDICTIONS_DIR + fn.replace('.jpg', '.json'))\n",
        "    preds = json.load(f)\n",
        "\n",
        "    # open image\n",
        "    image = Image.open(fn)\n",
        "    im_h, im_w = image.size\n",
        "\n",
        "    # go through all predicted illustrations\n",
        "    for i, box in enumerate(preds['boxes']):\n",
        "        if preds['scores'][i] > ILLU_THRESHOLD:\n",
        "            # crop and save illustration\n",
        "            illu = image.crop((im_h*box[0],im_w*box[1], im_h*box[2], im_w*box[3]))\n",
        "            illu.save(ILLUS_DIR + 'ILLU_' + preds['doc_id'] + '_' + preds['page_number'] + '_' + str(i) + '.jpg')\n",
        "            # compute ratio of place of the illustration : area_illustration/area_whole_page\n",
        "            im_ratio['ILLU_' + preds['doc_id'] + '_' + preds['page_number'] + '_' + str(i)] = (im_h*box[2] - im_h*box[0])*(im_w*box[3] - im_w*box[1])/(im_h*im_w)\n",
        "            # save position of illustration in image\n",
        "            im_pos['ILLU_' + preds['doc_id'] + '_' + preds['page_number'] + '_' + str(i)] = {\"x_1\" : box[1], \"x_2\" : box[3], \"y_1\" : box[2], \"y_2\" : box[0], \"im_h\" : im_h, \"im_w\" : im_w}\n",
        "\n",
        "with open(ILLUS_RATIO, 'w') as outfile:\n",
        "    json.dump(im_ratio, outfile)\n",
        "with open(ILLUS_POS, 'w') as outfile:\n",
        "    json.dump(im_pos, outfile)"
      ],
      "metadata": {
        "id": "OCJOE6ayqien",
        "colab": {
          "base_uri": "https://localhost:8080/"
        },
        "outputId": "41ec82fb-a2ec-4f22-e82a-8fa8a0df3df8"
      },
      "execution_count": 8,
      "outputs": [
        {
          "output_type": "stream",
          "name": "stderr",
          "text": [
            "100%|██████████| 12698/12698 [4:48:41<00:00,  1.36s/it]\n"
          ]
        }
      ]
    },
    {
      "cell_type": "code",
      "source": [
        "with open(ILLUS_POS, 'r') as f:\n",
        "    data = json.load(f)"
      ],
      "metadata": {
        "id": "jyxtn2YeOw6U"
      },
      "execution_count": 12,
      "outputs": []
    },
    {
      "cell_type": "code",
      "source": [
        ""
      ],
      "metadata": {
        "id": "Rq5AiEoZVQuD"
      },
      "execution_count": null,
      "outputs": []
    }
  ]
}