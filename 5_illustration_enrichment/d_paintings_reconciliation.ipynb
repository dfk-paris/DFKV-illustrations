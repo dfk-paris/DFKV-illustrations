{
 "cells": [
  {
   "cell_type": "markdown",
   "id": "b8b53cb5",
   "metadata": {},
   "source": [
    "# Painting reconciliation\n",
    "\n",
    "From all our illustrations, we want to find metadata about them. What is the name of the author ? The title of the artwork ? Its dimensions ? \n",
    "\n",
    "For that, we will query Smartify, an API which recognizes artworks."
   ]
  },
  {
   "cell_type": "code",
   "execution_count": 2,
   "id": "24885dc7",
   "metadata": {},
   "outputs": [],
   "source": [
    "from selenium.webdriver.common.by import By\n",
    "import pyautogui\n",
    "from selenium import webdriver\n",
    "from selenium.webdriver.support.ui import WebDriverWait\n",
    "import os\n",
    "import time\n",
    "import splitfolders\n",
    "import glob\n",
    "import random\n",
    "import shutil\n",
    "from tqdm import tqdm\n",
    "import pandas as pd"
   ]
  },
  {
   "cell_type": "markdown",
   "id": "2bbf0a3c",
   "metadata": {},
   "source": [
    "We divide our illustrations in 10 batches, just so that it is easier to process."
   ]
  },
  {
   "cell_type": "code",
   "execution_count": 3,
   "id": "2212122b",
   "metadata": {},
   "outputs": [],
   "source": [
    "N_BATCHES = 10\n",
    "\n",
    "def divide_in_batches():\n",
    "    all_illus = glob.glob(\"illustrations/*.jpg\")\n",
    "    batch_len = int(len(all_illus)/N_BATCHES)\n",
    "    random.seed(0)\n",
    "    random.shuffle(all_illus)\n",
    "    \n",
    "    for i in tqdm(range(N_BATCHES)):\n",
    "        for illu in all_illus[i*batch_len:(i+1)*batch_len]:\n",
    "            dest = './batch' + str(i) + '/'\n",
    "            shutil.copy(illu, dest)\n",
    "\n",
    "divide_in_batches()"
   ]
  },
  {
   "cell_type": "code",
   "execution_count": 16,
   "id": "417a9684",
   "metadata": {},
   "outputs": [],
   "source": [
    "# a function to retrieve - from the page - the painting information\n",
    "def get_painting_info(driver, illu_id):\n",
    "    title = driver.find_element(by=By.XPATH, value=\"/html/body/div/div/div/div/div/div/div[4]/div/div/h1\").get_attribute(\"innerHTML\")\n",
    "    specs = driver.find_element(by=By.XPATH, value=\"/html/body/div/div/div/div/div/div/div[4]/div/div/p\").get_attribute(\"innerHTML\")\n",
    "    author = driver.find_element(by=By.XPATH, value=\"/html/body/div/div/div/div/div/div/div[4]/a/div/h3\").get_attribute(\"innerHTML\")\n",
    "    try:\n",
    "        link = driver.find_element(by=By.XPATH, value=\"/html/body/div/div/div/div/div/div/div[4]/div[3]/a\").get_attribute(\"href\")\n",
    "    except:\n",
    "        link = ''\n",
    "    return dict({'id': illu_id, 'title': title, 'specs': specs, 'author': author, 'link': link})"
   ]
  },
  {
   "cell_type": "code",
   "execution_count": 145,
   "id": "59a82cab",
   "metadata": {},
   "outputs": [],
   "source": [
    "# All the work of querying and scraping the website is done here\n",
    "def retrieve_for_batch(batch):\n",
    "    driver = webdriver.Chrome('./chromedriver.exe')\n",
    "    driver.get(\"https://smartify.org/\")\n",
    "    time.sleep(1)\n",
    "    \n",
    "    all_illus = glob.glob(batch + \"/*.jpg\")\n",
    "    paths = ['documents', 'DFKV', 'DFKV-illustrations', '5_illustration_enrichment', batch, all_illus[0].split('\\\\')[-1].split('.')[0]]\n",
    "    data = []\n",
    "    # first illustration\n",
    "    previous_url = driver.current_url\n",
    "    button = driver.find_element(by=By.XPATH, value=\"/html/body/div/div/div/div/div/header/div/section/div[2]/div[1]/div/div/button\")\n",
    "    button.click() # This opens the windows file selector\n",
    "    time.sleep(1)\n",
    "    \n",
    "    for step in paths:\n",
    "        time.sleep(1)\n",
    "        pyautogui.write(step)\n",
    "        pyautogui.press('enter')  \n",
    "    time.sleep(1)\n",
    "    \n",
    "    if previous_url != driver.current_url:\n",
    "        data.append(get_painting_info(illu_name))\n",
    "            \n",
    "    for illu in tqdm(all_illus[1:]):\n",
    "\n",
    "        previous_url = driver.current_url\n",
    "\n",
    "        illu_name = illu.split('\\\\')[-1].split('.')[0]\n",
    "        button = driver.find_element(by=By.XPATH, value=\"/html/body/div/div/div/div/div/header/div/section/div[2]/div[1]/div/div/button\")\n",
    "        button.click() # This opens the windows file selector\n",
    "        time.sleep(1)\n",
    "        pyautogui.write(illu_name) \n",
    "        pyautogui.press('enter')\n",
    "        time.sleep(2)\n",
    "        if previous_url != driver.current_url:\n",
    "            data.append(get_painting_info(driver, illu_name))\n",
    "            df = pd.DataFrame(data)\n",
    "            df.to_csv(batch + '.csv') # intermediate saves\n",
    "\n",
    "    df = pd.DataFrame(data)\n",
    "    df.to_csv(batch + '.csv')\n",
    "    return df"
   ]
  },
  {
   "cell_type": "code",
   "execution_count": 146,
   "id": "9837cb98",
   "metadata": {
    "scrolled": false
   },
   "outputs": [
    {
     "name": "stderr",
     "output_type": "stream",
     "text": [
      "C:\\Users\\emichelet\\AppData\\Local\\Temp\\ipykernel_13168\\735552752.py:2: DeprecationWarning: executable_path has been deprecated, please pass in a Service object\n",
      "  driver = webdriver.Chrome('./chromedriver.exe')\n",
      "100%|██████████| 454/454 [24:56<00:00,  3.30s/it]\n"
     ]
    }
   ],
   "source": [
    "# We do that for all the batches\n",
    "df = retrieve_for_batch('batch9')"
   ]
  }
 ],
 "metadata": {
  "kernelspec": {
   "display_name": "Python 3 (ipykernel)",
   "language": "python",
   "name": "python3"
  },
  "language_info": {
   "codemirror_mode": {
    "name": "ipython",
    "version": 3
   },
   "file_extension": ".py",
   "mimetype": "text/x-python",
   "name": "python",
   "nbconvert_exporter": "python",
   "pygments_lexer": "ipython3",
   "version": "3.10.2"
  }
 },
 "nbformat": 4,
 "nbformat_minor": 5
}
