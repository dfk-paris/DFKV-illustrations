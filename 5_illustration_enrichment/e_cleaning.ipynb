{
 "cells": [
  {
   "cell_type": "markdown",
   "metadata": {},
   "source": [
    "# Data Cleaning\n",
    "\n",
    "Just small functions to clean the dataframes of data about the different paintings"
   ]
  },
  {
   "cell_type": "code",
   "execution_count": 1,
   "metadata": {},
   "outputs": [],
   "source": [
    "import pandas as pd\n",
    "import re"
   ]
  },
  {
   "cell_type": "code",
   "execution_count": 2,
   "metadata": {},
   "outputs": [],
   "source": [
    "def is_dimensions(string): \n",
    "    return ' x ' in string\n",
    " \n",
    "def triple_specs(specs):\n",
    "    if len(specs) == 3: # technique | dimension | date\n",
    "        return specs[0], specs[1], specs[2]\n",
    "    \n",
    "    elif len(specs) == 2:\n",
    "        if is_dimensions(specs[0]): # dimension | date\n",
    "            return '' , specs[0], specs[1]\n",
    "        elif is_dimensions(specs[1]): # technique | dimension \n",
    "            return specs[0], specs[1], ''\n",
    "        else: # technique | date\n",
    "            return specs[0], '' , specs[1]\n",
    "    elif len(specs) == 1: \n",
    "        if is_dimensions(specs[0]): # dimension\n",
    "            return '' , specs[0], ''\n",
    "        elif re.search(r'.*([1-3][0-9]{3})', specs[0]) is not None: # date\n",
    "            return '', '', specs[0]\n",
    "        else: # technique\n",
    "            return specs[0], '', ''\n",
    "    else:\n",
    "        return '', '', ''\n",
    "        "
   ]
  },
  {
   "cell_type": "code",
   "execution_count": 5,
   "metadata": {},
   "outputs": [],
   "source": [
    "def clean_dataframe(df_name):\n",
    "    df = pd.read_csv(df_name)\n",
    "    df['technique'] = df.apply(lambda row: triple_specs(row['specs'].strip().split('|'))[0], axis=1)\n",
    "    df['dimensions'] = df.apply(lambda row: triple_specs(row['specs'].strip().split('|'))[1], axis=1)\n",
    "    df['date'] = df.apply(lambda row: triple_specs(row['specs'].strip().split('|'))[2], axis=1)\n",
    "    df['title'] = df.apply(lambda row: row['title'].strip(), axis=1)\n",
    "    df['author'] = df.apply(lambda row: row['author'].strip(), axis=1)\n",
    "    df = df.drop(columns=['Unnamed: 0', 'specs'])\n",
    "    df.to_csv('./data/illu_infos_clean.csv', index=False)"
   ]
  },
  {
   "cell_type": "code",
   "execution_count": 6,
   "metadata": {},
   "outputs": [],
   "source": [
    "clean_dataframe('./data/illu_infos.csv')"
   ]
  }
 ],
 "metadata": {
  "kernelspec": {
   "display_name": "Python 3 (ipykernel)",
   "language": "python",
   "name": "python3"
  },
  "language_info": {
   "codemirror_mode": {
    "name": "ipython",
    "version": 3
   },
   "file_extension": ".py",
   "mimetype": "text/x-python",
   "name": "python",
   "nbconvert_exporter": "python",
   "pygments_lexer": "ipython3",
   "version": "3.10.2"
  }
 },
 "nbformat": 4,
 "nbformat_minor": 4
}
