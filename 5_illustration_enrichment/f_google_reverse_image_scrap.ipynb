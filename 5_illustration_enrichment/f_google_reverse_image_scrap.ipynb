{
 "cells": [
  {
   "cell_type": "markdown",
   "id": "9a5cee1b",
   "metadata": {},
   "source": [
    "# Reverse Google Image Scrap\n",
    "\n",
    "With the goal to find even more metadata about some of our illustrations, we will use Reverse Google Image to gather more data."
   ]
  },
  {
   "cell_type": "code",
   "execution_count": 183,
   "id": "bba35e21",
   "metadata": {},
   "outputs": [],
   "source": [
    "from selenium.webdriver.common.by import By\n",
    "from selenium import webdriver\n",
    "import os\n",
    "import time\n",
    "import glob\n",
    "import pandas as pd\n",
    "from bs4 import BeautifulSoup\n",
    "import pyautogui\n",
    "from selenium.webdriver.common.action_chains import ActionChains\n",
    "from selenium.webdriver.common.keys import Keys\n",
    "import re \n",
    "import random\n",
    "from tqdm import tqdm\n",
    "import requests"
   ]
  },
  {
   "cell_type": "markdown",
   "id": "c14fff61",
   "metadata": {},
   "source": [
    "We uploaded our image on the web, wo that they are accessible from a url. They are in the `illus_urls.txt` file."
   ]
  },
  {
   "cell_type": "code",
   "execution_count": 124,
   "id": "e7e9940b",
   "metadata": {},
   "outputs": [],
   "source": [
    "with open(\"data/illus_urls.txt\", \"r\") as f:\n",
    "    urls_file = f.readlines()"
   ]
  },
  {
   "cell_type": "code",
   "execution_count": 125,
   "id": "f7e7fcfd",
   "metadata": {},
   "outputs": [],
   "source": [
    "urls = re.sub(\"[\\(\\[].*?[\\)\\]]\", \"\", urls_file[0]).split(' ')"
   ]
  },
  {
   "cell_type": "markdown",
   "id": "581a3c06",
   "metadata": {},
   "source": [
    "When performing the reverse search, we will particularly look if there is a link to one of the following source : artnet.fr, musee-orsay.fr or commons.wikimedia.org. They have nice formatted data about paintings, and the information are reliable and easy to extract."
   ]
  },
  {
   "cell_type": "code",
   "execution_count": 126,
   "id": "a26d3f41",
   "metadata": {},
   "outputs": [],
   "source": [
    "trusted_sources = ['artnet.fr', 'musee-orsay.fr','commons.wikimedia.org']"
   ]
  },
  {
   "cell_type": "markdown",
   "id": "647949ba",
   "metadata": {},
   "source": [
    "Let's find the links we are looking for."
   ]
  },
  {
   "cell_type": "code",
   "execution_count": 129,
   "id": "825dd3bc",
   "metadata": {
    "scrolled": true
   },
   "outputs": [
    {
     "name": "stderr",
     "output_type": "stream",
     "text": [
      "C:\\Users\\emichelet\\AppData\\Local\\Temp\\ipykernel_12356\\2681891626.py:1: DeprecationWarning: executable_path has been deprecated, please pass in a Service object\n",
      "  driver = webdriver.Chrome(executable_path='./chromedriver.exe')\n",
      "100%|██████████| 8939/8939 [8:56:17<00:00,  3.60s/it]   "
     ]
    },
    {
     "name": "stdout",
     "output_type": "stream",
     "text": [
      "296\n"
     ]
    },
    {
     "name": "stderr",
     "output_type": "stream",
     "text": [
      "\n"
     ]
    }
   ],
   "source": [
    "driver = webdriver.Chrome(executable_path='./chromedriver.exe')\n",
    "driver.get(\"https://images.google.com/\")\n",
    "time.sleep(3)\n",
    "# Manually accept cookies\n",
    "\n",
    "data = []\n",
    "for im_url in tqdm(urls):\n",
    "    upload = driver.find_element(By.CLASS_NAME, \"ZaFQO\")\n",
    "    upload.click()\n",
    "\n",
    "    actions = ActionChains(driver)\n",
    "    actions.send_keys(im_url)\n",
    "    actions.perform()\n",
    "    actions.send_keys(Keys.RETURN)\n",
    "    actions.perform()\n",
    "\n",
    "    time.sleep(1)\n",
    "\n",
    "    links = driver.find_elements(By.CLASS_NAME,\"yuRUbf\")\n",
    "    for l in links:\n",
    "        href = l.find_element(by=By.XPATH, value=\"a\").get_attribute(\"href\")\n",
    "        for ts in trusted_sources:\n",
    "            if ts in href:\n",
    "                data.append({'ID' : im_url.split('/')[-1].split('.')[0].replace('-', '_'),\n",
    "                'link' : href})\n",
    "                \n",
    "pd.DataFrame(data).to_csv('data/additional_links.csv', index = False)\n",
    "print(len(data))"
   ]
  },
  {
   "cell_type": "code",
   "execution_count": 131,
   "id": "839f78d3",
   "metadata": {},
   "outputs": [],
   "source": [
    "gg_links = pd.DataFrame(data)"
   ]
  },
  {
   "cell_type": "markdown",
   "id": "91d805e0",
   "metadata": {},
   "source": [
    "Now we look at how many of the different sources we found in the links"
   ]
  },
  {
   "cell_type": "code",
   "execution_count": 133,
   "id": "a65c2db0",
   "metadata": {},
   "outputs": [],
   "source": [
    "def identify_source(link):\n",
    "    for ts in trusted_sources:\n",
    "        if ts in link:\n",
    "            return ts\n",
    "    return ''"
   ]
  },
  {
   "cell_type": "code",
   "execution_count": 135,
   "id": "a33b0fc0",
   "metadata": {},
   "outputs": [],
   "source": [
    "gg_links['source'] = gg_links.apply(lambda row: identify_source(row['link']), axis=1)"
   ]
  },
  {
   "cell_type": "code",
   "execution_count": 139,
   "id": "f5f854db",
   "metadata": {
    "scrolled": true
   },
   "outputs": [
    {
     "data": {
      "text/html": [
       "<div>\n",
       "<style scoped>\n",
       "    .dataframe tbody tr th:only-of-type {\n",
       "        vertical-align: middle;\n",
       "    }\n",
       "\n",
       "    .dataframe tbody tr th {\n",
       "        vertical-align: top;\n",
       "    }\n",
       "\n",
       "    .dataframe thead th {\n",
       "        text-align: right;\n",
       "    }\n",
       "</style>\n",
       "<table border=\"1\" class=\"dataframe\">\n",
       "  <thead>\n",
       "    <tr style=\"text-align: right;\">\n",
       "      <th></th>\n",
       "      <th>ID</th>\n",
       "      <th>link</th>\n",
       "    </tr>\n",
       "    <tr>\n",
       "      <th>source</th>\n",
       "      <th></th>\n",
       "      <th></th>\n",
       "    </tr>\n",
       "  </thead>\n",
       "  <tbody>\n",
       "    <tr>\n",
       "      <th>artnet.fr</th>\n",
       "      <td>118</td>\n",
       "      <td>118</td>\n",
       "    </tr>\n",
       "    <tr>\n",
       "      <th>commons.wikimedia.org</th>\n",
       "      <td>145</td>\n",
       "      <td>145</td>\n",
       "    </tr>\n",
       "    <tr>\n",
       "      <th>musee-orsay.fr</th>\n",
       "      <td>33</td>\n",
       "      <td>33</td>\n",
       "    </tr>\n",
       "  </tbody>\n",
       "</table>\n",
       "</div>"
      ],
      "text/plain": [
       "                        ID  link\n",
       "source                          \n",
       "artnet.fr              118   118\n",
       "commons.wikimedia.org  145   145\n",
       "musee-orsay.fr          33    33"
      ]
     },
     "execution_count": 139,
     "metadata": {},
     "output_type": "execute_result"
    }
   ],
   "source": [
    "gg_links.groupby('source').count()"
   ]
  },
  {
   "cell_type": "markdown",
   "id": "803799df",
   "metadata": {},
   "source": [
    "# Wikimedia\n",
    "\n",
    "Now, for each of the source we find back the information about the painting that are available. We start with Wikimedia commons data. The quality and quantity of information available here is very different from one illustration to another."
   ]
  },
  {
   "cell_type": "code",
   "execution_count": 368,
   "id": "60bbab25",
   "metadata": {},
   "outputs": [],
   "source": [
    "def get_painting_infos_wm(illu_id, fields):\n",
    "    painting_infos = dict()\n",
    "    painting_infos['ID'] = illu_id\n",
    "    try:\n",
    "        c = driver.find_element(By.ID,\"creator\")\n",
    "        artist = c.find_element(by=By.XPATH, value=\"bdi/a/span\").get_attribute(\"innerHTML\")\n",
    "        painting_infos['Author'] = artist\n",
    "    except:\n",
    "        pass\n",
    "\n",
    "    for field in fields:\n",
    "        if \"fileinfotpl_art_object_type\" in str(field):\n",
    "            painting_infos['Category'] = field.find_all(\"a\", {\"class\": \"extiw\"})[0].text\n",
    "        if \"fileinfotpl_date\" in str(field):\n",
    "            # Verifier que c'est bien avant 1960\n",
    "            painting_infos['Date'] = field.find_all(\"td\")[1].text\n",
    "        if \"fileinfotpl_art_medium\" in str(field):\n",
    "            if len(field.find_all(\"a\", {\"class\": \"extiw\"})) > 0:\n",
    "                painting_infos['Technique'] = field.find_all(\"a\", {\"class\": \"extiw\"})[0].text\n",
    "            else:\n",
    "                painting_infos['Technique'] = field.find_all(\"td\")[1].text\n",
    "        if \"fileinfotpl_art_dimensions\" in str(field):\n",
    "            painting_infos['Dimensions'] = field.find_all(\"td\")[1].text\n",
    "    return painting_infos"
   ]
  },
  {
   "cell_type": "code",
   "execution_count": 369,
   "id": "ade9c336",
   "metadata": {},
   "outputs": [
    {
     "name": "stderr",
     "output_type": "stream",
     "text": [
      "C:\\Users\\emichelet\\AppData\\Local\\Temp\\ipykernel_12356\\2957943531.py:2: DeprecationWarning: executable_path has been deprecated, please pass in a Service object\n",
      "  driver = webdriver.Chrome(executable_path='./chromedriver.exe')\n",
      "145it [02:09,  1.12it/s]\n"
     ]
    }
   ],
   "source": [
    "data = []\n",
    "driver = webdriver.Chrome(executable_path='./chromedriver.exe')\n",
    "for illu in tqdm(gg_links[gg_links['source']==\"commons.wikimedia.org\"].iterrows()):\n",
    "    im_file = illu[1]['link']\n",
    "    im_ID = illu[1]['ID']\n",
    "    if im_file.split('.')[-1] == \"jpg\":\n",
    "        driver.get(im_file)\n",
    "        time.sleep(1)\n",
    "        table = driver.find_element(By.CSS_SELECTOR, \".hproduct.commons-file-information-table\")\n",
    "        soup = BeautifulSoup(table.find_element(by=By.XPATH, value=\"table/tbody\").get_attribute(\"innerHTML\"))\n",
    "        fields = [s for s in soup.find_all(\"tr\") if \"fileinfo-paramfield\" in str(s)]\n",
    "        data.append(get_painting_infos_wm_ID, fields)"
   ]
  },
  {
   "cell_type": "code",
   "execution_count": 375,
   "id": "e45309a3",
   "metadata": {},
   "outputs": [],
   "source": [
    "pd.DataFrame(data).to_csv('data/commons_data.csv', index = False)"
   ]
  },
  {
   "cell_type": "markdown",
   "id": "5cf4e78c",
   "metadata": {},
   "source": [
    "# Artnet\n",
    "\n",
    "Then with artnet we can find the author, title, date technique and dimensions of the piantings, if available"
   ]
  },
  {
   "cell_type": "code",
   "execution_count": 423,
   "id": "0a1bd2c7",
   "metadata": {
    "scrolled": true
   },
   "outputs": [],
   "source": [
    "def get_painting_infos_an(illu_id):\n",
    "    p_infos = dict()\n",
    "    p_infos['ID'] = illu_id\n",
    "    controller = \"ucBasicDetailsControl\"\n",
    "    try:\n",
    "        p_infos['Author'] = driver.find_element(By.ID, \"ctl00_mainContentPlaceHolder_ucArtworkArea_repArtworkDetails_ctl00_\" + controller + \"_artistName\").find_element(By.XPATH, \"a\").get_attribute(\"innerHTML\")\n",
    "    except: \n",
    "        controller = \"ucArtworkDetailsControl\"\n",
    "        p_infos['Author'] = driver.find_element(By.ID, \"ctl00_mainContentPlaceHolder_ucArtworkArea_repArtworkDetails_ctl00_\" + controller + \"_artistName\").find_element(By.XPATH, \"a\").get_attribute(\"innerHTML\")\n",
    "    p_infos['Title'] = driver.find_element(By.ID, \"ctl00_mainContentPlaceHolder_ucArtworkArea_repArtworkDetails_ctl00_\" + controller + \"_artworkTitle\").find_element(By.XPATH, \"i\").get_attribute(\"innerHTML\")\n",
    "    p_infos['Date'] = driver.find_element(By.ID, \"ctl00_mainContentPlaceHolder_ucArtworkArea_repArtworkDetails_ctl00_\" + controller + \"_artworkYear\").get_attribute(\"innerHTML\")\n",
    "    p_infos['Technique'] = driver.find_element(By.ID, \"ctl00_mainContentPlaceHolder_ucArtworkArea_repArtworkDetails_ctl00_\" + controller + \"_sMedium\").get_attribute(\"innerHTML\")\n",
    "    try:\n",
    "        p_infos['Dimensions'] = driver.find_element(By.ID, \"ctl00_mainContentPlaceHolder_ucArtworkArea_repArtworkDetails_ctl00_\" + controller + \"_sSize\").get_attribute(\"innerHTML\")\n",
    "    except:\n",
    "        p_infos['Dimensions'] = \"\"\n",
    "    return p_infos"
   ]
  },
  {
   "cell_type": "code",
   "execution_count": 414,
   "id": "73119c62",
   "metadata": {},
   "outputs": [
    {
     "name": "stderr",
     "output_type": "stream",
     "text": [
      "C:\\Users\\emichelet\\AppData\\Local\\Temp\\ipykernel_12356\\2886859359.py:1: DeprecationWarning: executable_path has been deprecated, please pass in a Service object\n",
      "  driver = webdriver.Chrome(executable_path='./chromedriver.exe')\n"
     ]
    }
   ],
   "source": [
    "driver = webdriver.Chrome(executable_path='./chromedriver.exe')"
   ]
  },
  {
   "cell_type": "code",
   "execution_count": 424,
   "id": "f1932f0c",
   "metadata": {},
   "outputs": [
    {
     "name": "stderr",
     "output_type": "stream",
     "text": [
      "118it [01:10,  1.67it/s]\n"
     ]
    }
   ],
   "source": [
    "data = []\n",
    "for illu in tqdm(gg_links[gg_links['source']==\"artnet.fr\"].iterrows()):\n",
    "    im_link = illu[1]['link']\n",
    "    if im_link.split('/')[-1] != '' and len(im_link.split('/')[-1]) > 2:\n",
    "        driver.get(im_link)\n",
    "        time.sleep(1)\n",
    "        data.append(get_painting_infos_an(illu[1]['ID']))"
   ]
  },
  {
   "cell_type": "code",
   "execution_count": 429,
   "id": "76bd4ec7",
   "metadata": {},
   "outputs": [],
   "source": [
    "df_an = pd.DataFrame(data)\n",
    "df_an['Date'] = df_an['Date'].str.replace(',', '').str.strip()\n",
    "df_an.to_csv('data/artnet_data.csv', index=False)"
   ]
  },
  {
   "cell_type": "markdown",
   "id": "1fcaf488",
   "metadata": {},
   "source": [
    "# Orsay\n",
    "\n",
    "And finally from the Orsay data we collect metadata for even more illustrations. For them, as there are not too many, we manually add the data from the following list of urls."
   ]
  },
  {
   "cell_type": "code",
   "execution_count": 471,
   "id": "7f934879",
   "metadata": {},
   "outputs": [],
   "source": [
    "data = []"
   ]
  },
  {
   "cell_type": "code",
   "execution_count": 461,
   "id": "024637f8",
   "metadata": {
    "scrolled": false
   },
   "outputs": [
    {
     "data": {
      "text/plain": [
       "['https://www.musee-orsay.fr/fr/oeuvres/le-champ-de-courses-jockeys-amateurs-pres-dune-voiture-1148',\n",
       " 'https://www.musee-orsay.fr/fr/oeuvres/cheval-blesse-66953',\n",
       " 'https://www.musee-orsay.fr/fr/oeuvres/la-maison-du-pendu-auvers-sur-oise-1476',\n",
       " 'https://www.musee-orsay.fr/fr/oeuvres/le-dejeuner-sur-lherbe-25651',\n",
       " 'https://www.musee-orsay.fr/fr/oeuvres/le-salon-aux-trois-lampes-rue-saint-florentin-109909',\n",
       " 'https://www.musee-orsay.fr/fr/oeuvres/le-grand-jardin-775',\n",
       " 'https://www.musee-orsay.fr/fr/oeuvres/portrait-de-madame-auguste-perret-75969',\n",
       " 'https://www.musee-orsay.fr/fr/oeuvres/le-golfe-de-marseille-vu-de-lestaque-1309',\n",
       " 'https://www.musee-orsay.fr/fr/oeuvres/restaurant-de-la-machine-bougival-8048',\n",
       " 'https://www.musee-orsay.fr/fr/oeuvres/emile-zola-713',\n",
       " 'https://www.musee-orsay.fr/fr/oeuvres/la-table-de-toilette-9074',\n",
       " 'https://www.musee-orsay.fr/fr/oeuvres/premier-projet-pour-la-facade-du-theatre-des-champs-elysees-58021',\n",
       " 'https://www.musee-orsay.fr/fr/oeuvres/fleurs-et-fruits-10895',\n",
       " 'https://www.musee-orsay.fr/fr/oeuvres/fleurs-et-fruits-10895',\n",
       " 'https://www.musee-orsay.fr/fr/oeuvres/le-golfe-de-marseille-vu-de-lestaque-1309',\n",
       " 'https://www.musee-orsay.fr/fr/oeuvres/portrait-de-madame-emile-zola-18137',\n",
       " 'https://www.musee-orsay.fr/fr/oeuvres/le-dejeuner-sur-lherbe-904',\n",
       " 'https://www.musee-orsay.fr/fr/oeuvres/le-moulin-de-saint-nicolas-lez-arras-33',\n",
       " 'https://www.musee-orsay.fr/fr/oeuvres/olympia-712',\n",
       " 'https://www.musee-orsay.fr/fr/oeuvres/mademoiselle-dihau-au-piano-10002',\n",
       " 'https://www.musee-orsay.fr/fr/oeuvres/mademoiselle-dihau-au-piano-10002',\n",
       " 'https://www.musee-orsay.fr/fr/oeuvres/mademoiselle-dihau-au-piano-10002',\n",
       " 'https://www.musee-orsay.fr/fr/oeuvres/mademoiselle-dihau-au-piano-10002',\n",
       " 'https://www.musee-orsay.fr/fr/oeuvres/la-famille-du-peintre-16407',\n",
       " 'https://www.musee-orsay.fr/fr/oeuvres/le-bucheron-134807',\n",
       " 'https://www.musee-orsay.fr/fr/oeuvres/siesta-25641',\n",
       " 'https://www.musee-orsay.fr/fr/oeuvres/branche-de-pommier-en-fleurs-8044']"
      ]
     },
     "execution_count": 461,
     "metadata": {},
     "output_type": "execute_result"
    }
   ],
   "source": [
    "orsay = gg_links[gg_links['source']==\"musee-orsay.fr\"]\n",
    "list(orsay[orsay['link'].str.contains('oeuvres')]['link'])"
   ]
  },
  {
   "cell_type": "code",
   "execution_count": 542,
   "id": "6004530e",
   "metadata": {},
   "outputs": [
    {
     "name": "stdout",
     "output_type": "stream",
     "text": [
      "ILLU_15687_37_0\n",
      "https://www.musee-orsay.fr/fr/oeuvres/branche-de-pommier-en-fleurs-8044\n"
     ]
    }
   ],
   "source": [
    "iid = 26\n",
    "print(orsay[orsay['link'].str.contains('oeuvres')].iloc[iid]['ID'])\n",
    "print(orsay[orsay['link'].str.contains('oeuvres')].iloc[iid]['link'])"
   ]
  },
  {
   "cell_type": "code",
   "execution_count": 538,
   "id": "5a3f18f4",
   "metadata": {},
   "outputs": [],
   "source": [
    "data.append({'ID': \"ILLU_15687_37_0\",\n",
    "            'Author': \"Gustave Courbet\",\n",
    "            'Title': \"Branche de pommier en fleurs\",\n",
    "            'Date': \"1872\",\n",
    "            'Technique': \"Huile sur toile\",\n",
    "            'Dimensions': \"H. 32,2 ; L. 41,0 cm\",\n",
    "            'Category' : \"Reproduction\"})"
   ]
  },
  {
   "cell_type": "code",
   "execution_count": 546,
   "id": "b5fd64db",
   "metadata": {},
   "outputs": [],
   "source": [
    "pd.DataFrame(data).to_csv('data/orsay_data.csv', index=False)"
   ]
  }
 ],
 "metadata": {
  "kernelspec": {
   "display_name": "Python 3 (ipykernel)",
   "language": "python",
   "name": "python3"
  },
  "language_info": {
   "codemirror_mode": {
    "name": "ipython",
    "version": 3
   },
   "file_extension": ".py",
   "mimetype": "text/x-python",
   "name": "python",
   "nbconvert_exporter": "python",
   "pygments_lexer": "ipython3",
   "version": "3.10.2"
  }
 },
 "nbformat": 4,
 "nbformat_minor": 5
}
