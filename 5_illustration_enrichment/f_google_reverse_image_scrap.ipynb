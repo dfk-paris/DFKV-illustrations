{
 "cells": [
  {
   "cell_type": "markdown",
   "metadata": {},
   "source": [
    "# Reverse Google Image Scrap\n",
    "\n",
    "With the goal to find even more metadata about some of our illustrations, we will use Reverse Google Image to gather more data."
   ]
  },
  {
   "cell_type": "code",
   "execution_count": 183,
   "metadata": {},
   "outputs": [],
   "source": [
    "# Some imports\n",
    "from selenium.webdriver.common.by import By\n",
    "from selenium import webdriver\n",
    "import os\n",
    "import time\n",
    "import glob\n",
    "import pandas as pd\n",
    "from bs4 import BeautifulSoup\n",
    "import pyautogui\n",
    "from selenium.webdriver.common.action_chains import ActionChains\n",
    "from selenium.webdriver.common.keys import Keys\n",
    "import re \n",
    "import random\n",
    "from tqdm import tqdm\n",
    "import requests"
   ]
  },
  {
   "cell_type": "markdown",
   "metadata": {},
   "source": [
    "To run the notebook, you will need a Webdriver"
   ]
  },
  {
   "cell_type": "code",
   "execution_count": null,
   "metadata": {},
   "outputs": [],
   "source": [
    "WEB_DRIVER_PATH = './chromedriver.exe'"
   ]
  },
  {
   "cell_type": "markdown",
   "metadata": {},
   "source": [
    "We uploaded our image on the web, so that they are accessible from a url. They are in the `illus_urls.txt` file."
   ]
  },
  {
   "cell_type": "code",
   "execution_count": 124,
   "metadata": {},
   "outputs": [],
   "source": [
    "# Open the urls document\n",
    "with open(\"data/illus_urls.txt\", \"r\") as f:\n",
    "    urls_file = f.readlines()"
   ]
  },
  {
   "cell_type": "code",
   "execution_count": 125,
   "metadata": {},
   "outputs": [],
   "source": [
    "# Parsing the urls\n",
    "urls = re.sub(\"[\\(\\[].*?[\\)\\]]\", \"\", urls_file[0]).split(' ')"
   ]
  },
  {
   "cell_type": "markdown",
   "metadata": {},
   "source": [
    "When performing the reverse search, we will particularly look if there is a link to one of the following source : artnet.fr, musee-orsay.fr or commons.wikimedia.org. They have nice formatted data about paintings, and the information are reliable and easy to extract."
   ]
  },
  {
   "cell_type": "code",
   "execution_count": 126,
   "metadata": {},
   "outputs": [],
   "source": [
    "trusted_sources = ['artnet.fr', 'musee-orsay.fr','commons.wikimedia.org']"
   ]
  },
  {
   "cell_type": "markdown",
   "metadata": {},
   "source": [
    "Let's find the links we are looking for."
   ]
  },
  {
   "cell_type": "code",
   "execution_count": 129,
   "metadata": {
    "scrolled": true
   },
   "outputs": [
    {
     "name": "stderr",
     "output_type": "stream",
     "text": [
      "C:\\Users\\emichelet\\AppData\\Local\\Temp\\ipykernel_12356\\2681891626.py:1: DeprecationWarning: executable_path has been deprecated, please pass in a Service object\n",
      "  driver = webdriver.Chrome(executable_path='./chromedriver.exe')\n",
      "100%|██████████| 8939/8939 [8:56:17<00:00,  3.60s/it]   "
     ]
    },
    {
     "name": "stdout",
     "output_type": "stream",
     "text": [
      "296\n"
     ]
    },
    {
     "name": "stderr",
     "output_type": "stream",
     "text": [
      "\n"
     ]
    }
   ],
   "source": [
    "# Webdriver\n",
    "driver = webdriver.Chrome(executable_path=WEB_DRIVER_PATH)\n",
    "driver.get(\"https://images.google.com/\")\n",
    "time.sleep(3)\n",
    "# Here you need to manually accept cookies\n",
    "\n",
    "data = []\n",
    "for im_url in tqdm(urls): # For all the illustrations\n",
    "    upload = driver.find_element(By.CLASS_NAME, \"ZaFQO\") # Upload button\n",
    "    upload.click()\n",
    "\n",
    "    # Actually upload the image\n",
    "    actions = ActionChains(driver)\n",
    "    actions.send_keys(im_url)\n",
    "    actions.perform()\n",
    "    actions.send_keys(Keys.RETURN)\n",
    "    actions.perform()\n",
    "\n",
    "    time.sleep(1)\n",
    "    \n",
    "    # Checl for all returned linked\n",
    "    links = driver.find_elements(By.CLASS_NAME,\"yuRUbf\")\n",
    "    for l in links:\n",
    "        href = l.find_element(by=By.XPATH, value=\"a\").get_attribute(\"href\")\n",
    "        for ts in trusted_sources: # Add trusted sources only\n",
    "            if ts in href:\n",
    "                data.append({'ID' : im_url.split('/')[-1].split('.')[0].replace('-', '_'),\n",
    "                'link' : href})\n",
    "                \n",
    "pd.DataFrame(data).to_csv('data/additional_links.csv', index = False) # Save dataframe\n",
    "print(len(data))"
   ]
  },
  {
   "cell_type": "code",
   "execution_count": 131,
   "metadata": {},
   "outputs": [],
   "source": [
    "gg_links = pd.DataFrame(data)"
   ]
  },
  {
   "cell_type": "markdown",
   "metadata": {},
   "source": [
    "Now we look at how many of the different sources we found in the links"
   ]
  },
  {
   "cell_type": "code",
   "execution_count": 133,
   "metadata": {},
   "outputs": [],
   "source": [
    "# Function to determine the source\n",
    "def identify_source(link):\n",
    "    for ts in trusted_sources:\n",
    "        if ts in link:\n",
    "            return ts\n",
    "    return ''"
   ]
  },
  {
   "cell_type": "code",
   "execution_count": 135,
   "metadata": {},
   "outputs": [],
   "source": [
    "# Find source for each image\n",
    "gg_links['source'] = gg_links.apply(lambda row: identify_source(row['link']), axis=1)"
   ]
  },
  {
   "cell_type": "code",
   "execution_count": 139,
   "metadata": {
    "scrolled": true
   },
   "outputs": [
    {
     "data": {
      "text/html": [
       "<div>\n",
       "<style scoped>\n",
       "    .dataframe tbody tr th:only-of-type {\n",
       "        vertical-align: middle;\n",
       "    }\n",
       "\n",
       "    .dataframe tbody tr th {\n",
       "        vertical-align: top;\n",
       "    }\n",
       "\n",
       "    .dataframe thead th {\n",
       "        text-align: right;\n",
       "    }\n",
       "</style>\n",
       "<table border=\"1\" class=\"dataframe\">\n",
       "  <thead>\n",
       "    <tr style=\"text-align: right;\">\n",
       "      <th></th>\n",
       "      <th>ID</th>\n",
       "      <th>link</th>\n",
       "    </tr>\n",
       "    <tr>\n",
       "      <th>source</th>\n",
       "      <th></th>\n",
       "      <th></th>\n",
       "    </tr>\n",
       "  </thead>\n",
       "  <tbody>\n",
       "    <tr>\n",
       "      <th>artnet.fr</th>\n",
       "      <td>118</td>\n",
       "      <td>118</td>\n",
       "    </tr>\n",
       "    <tr>\n",
       "      <th>commons.wikimedia.org</th>\n",
       "      <td>145</td>\n",
       "      <td>145</td>\n",
       "    </tr>\n",
       "    <tr>\n",
       "      <th>musee-orsay.fr</th>\n",
       "      <td>33</td>\n",
       "      <td>33</td>\n",
       "    </tr>\n",
       "  </tbody>\n",
       "</table>\n",
       "</div>"
      ],
      "text/plain": [
       "                        ID  link\n",
       "source                          \n",
       "artnet.fr              118   118\n",
       "commons.wikimedia.org  145   145\n",
       "musee-orsay.fr          33    33"
      ]
     },
     "execution_count": 139,
     "metadata": {},
     "output_type": "execute_result"
    }
   ],
   "source": [
    "gg_links.groupby('source').count()"
   ]
  },
  {
   "cell_type": "markdown",
   "metadata": {},
   "source": [
    "# Wikimedia\n",
    "\n",
    "Now, for each of the source we find back the information about the painting that are available. We start with Wikimedia commons data. The quality and quantity of information available here is very different from one illustration to another."
   ]
  },
  {
   "cell_type": "code",
   "execution_count": 368,
   "metadata": {},
   "outputs": [],
   "source": [
    "# Function to get data from wikimedia\n",
    "def get_painting_infos_wm(illu_id, fields):\n",
    "    painting_infos = dict()\n",
    "    painting_infos['ID'] = illu_id\n",
    "    try:\n",
    "        # Find artist\n",
    "        c = driver.find_element(By.ID,\"creator\")\n",
    "        artist = c.find_element(by=By.XPATH, value=\"bdi/a/span\").get_attribute(\"innerHTML\")\n",
    "        painting_infos['Author'] = artist\n",
    "    except:\n",
    "        pass\n",
    "\n",
    "    for field in fields:\n",
    "        # Find category\n",
    "        if \"fileinfotpl_art_object_type\" in str(field):\n",
    "            painting_infos['Category'] = field.find_all(\"a\", {\"class\": \"extiw\"})[0].text\n",
    "        # Find date\n",
    "        if \"fileinfotpl_date\" in str(field):\n",
    "            painting_infos['Date'] = field.find_all(\"td\")[1].text\n",
    "        # Find Technique\n",
    "        if \"fileinfotpl_art_medium\" in str(field):\n",
    "            if len(field.find_all(\"a\", {\"class\": \"extiw\"})) > 0:\n",
    "                painting_infos['Technique'] = field.find_all(\"a\", {\"class\": \"extiw\"})[0].text\n",
    "            else:\n",
    "                painting_infos['Technique'] = field.find_all(\"td\")[1].text\n",
    "        # Find dimensions\n",
    "        if \"fileinfotpl_art_dimensions\" in str(field):\n",
    "            painting_infos['Dimensions'] = field.find_all(\"td\")[1].text\n",
    "    return painting_infos"
   ]
  },
  {
   "cell_type": "code",
   "execution_count": 369,
   "metadata": {},
   "outputs": [
    {
     "name": "stderr",
     "output_type": "stream",
     "text": [
      "C:\\Users\\emichelet\\AppData\\Local\\Temp\\ipykernel_12356\\2957943531.py:2: DeprecationWarning: executable_path has been deprecated, please pass in a Service object\n",
      "  driver = webdriver.Chrome(executable_path='./chromedriver.exe')\n",
      "145it [02:09,  1.12it/s]\n"
     ]
    }
   ],
   "source": [
    "# Gather information from wikimedia\n",
    "data = []\n",
    "driver = webdriver.Chrome(executable_path='./chromedriver.exe')\n",
    "# Illustrations that have metadata from wikimedia\n",
    "for illu in tqdm(gg_links[gg_links['source']==\"commons.wikimedia.org\"].iterrows()):\n",
    "    im_file = illu[1]['link']\n",
    "    im_ID = illu[1]['ID']\n",
    "    if im_file.split('.')[-1] == \"jpg\":\n",
    "        # Open wikimedia page link\n",
    "        driver.get(im_file)\n",
    "        time.sleep(1)\n",
    "        table = driver.find_element(By.CSS_SELECTOR, \".hproduct.commons-file-information-table\")\n",
    "        soup = BeautifulSoup(table.find_element(by=By.XPATH, value=\"table/tbody\").get_attribute(\"innerHTML\"))\n",
    "        # Get information fields\n",
    "        fields = [s for s in soup.find_all(\"tr\") if \"fileinfo-paramfield\" in str(s)]\n",
    "        data.append(get_painting_infos_wm_ID, fields)"
   ]
  },
  {
   "cell_type": "code",
   "execution_count": 375,
   "metadata": {},
   "outputs": [],
   "source": [
    "# And save dataframe\n",
    "pd.DataFrame(data).to_csv('data/commons_data.csv', index = False)"
   ]
  },
  {
   "cell_type": "markdown",
   "metadata": {},
   "source": [
    "# Artnet\n",
    "\n",
    "Then with artnet we can find the author, title, date technique and dimensions of the piantings, if available"
   ]
  },
  {
   "cell_type": "code",
   "execution_count": 423,
   "metadata": {
    "scrolled": true
   },
   "outputs": [],
   "source": [
    "# Handy function to gather paintings information from their Artnet html page\n",
    "def get_painting_infos_an(illu_id):\n",
    "    p_infos = dict()\n",
    "    p_infos['ID'] = illu_id\n",
    "    controller = \"ucBasicDetailsControl\"\n",
    "    try:\n",
    "        p_infos['Author'] = driver.find_element(By.ID, \"ctl00_mainContentPlaceHolder_ucArtworkArea_repArtworkDetails_ctl00_\" + controller + \"_artistName\").find_element(By.XPATH, \"a\").get_attribute(\"innerHTML\")\n",
    "    except: \n",
    "        controller = \"ucArtworkDetailsControl\"\n",
    "        p_infos['Author'] = driver.find_element(By.ID, \"ctl00_mainContentPlaceHolder_ucArtworkArea_repArtworkDetails_ctl00_\" + controller + \"_artistName\").find_element(By.XPATH, \"a\").get_attribute(\"innerHTML\")\n",
    "    p_infos['Title'] = driver.find_element(By.ID, \"ctl00_mainContentPlaceHolder_ucArtworkArea_repArtworkDetails_ctl00_\" + controller + \"_artworkTitle\").find_element(By.XPATH, \"i\").get_attribute(\"innerHTML\")\n",
    "    p_infos['Date'] = driver.find_element(By.ID, \"ctl00_mainContentPlaceHolder_ucArtworkArea_repArtworkDetails_ctl00_\" + controller + \"_artworkYear\").get_attribute(\"innerHTML\")\n",
    "    p_infos['Technique'] = driver.find_element(By.ID, \"ctl00_mainContentPlaceHolder_ucArtworkArea_repArtworkDetails_ctl00_\" + controller + \"_sMedium\").get_attribute(\"innerHTML\")\n",
    "    try:\n",
    "        p_infos['Dimensions'] = driver.find_element(By.ID, \"ctl00_mainContentPlaceHolder_ucArtworkArea_repArtworkDetails_ctl00_\" + controller + \"_sSize\").get_attribute(\"innerHTML\")\n",
    "    except:\n",
    "        p_infos['Dimensions'] = \"\"\n",
    "    return p_infos"
   ]
  },
  {
   "cell_type": "code",
   "execution_count": 414,
   "metadata": {},
   "outputs": [
    {
     "name": "stderr",
     "output_type": "stream",
     "text": [
      "C:\\Users\\emichelet\\AppData\\Local\\Temp\\ipykernel_12356\\2886859359.py:1: DeprecationWarning: executable_path has been deprecated, please pass in a Service object\n",
      "  driver = webdriver.Chrome(executable_path='./chromedriver.exe')\n"
     ]
    }
   ],
   "source": [
    "driver = webdriver.Chrome(executable_path='./chromedriver.exe')"
   ]
  },
  {
   "cell_type": "code",
   "execution_count": 424,
   "metadata": {},
   "outputs": [
    {
     "name": "stderr",
     "output_type": "stream",
     "text": [
      "118it [01:10,  1.67it/s]\n"
     ]
    }
   ],
   "source": [
    "data = []\n",
    "# Illustrations that have metadata from Artnet\n",
    "for illu in tqdm(gg_links[gg_links['source']==\"artnet.fr\"].iterrows()):\n",
    "    im_link = illu[1]['link']\n",
    "    if im_link.split('/')[-1] != '' and len(im_link.split('/')[-1]) > 2:\n",
    "        driver.get(im_link)\n",
    "        time.sleep(1)\n",
    "        data.append(get_painting_infos_an(illu[1]['ID']))"
   ]
  },
  {
   "cell_type": "code",
   "execution_count": 429,
   "metadata": {},
   "outputs": [],
   "source": [
    "df_an = pd.DataFrame(data)\n",
    "df_an['Date'] = df_an['Date'].str.replace(',', '').str.strip()\n",
    "df_an.to_csv('data/artnet_data.csv', index=False)"
   ]
  },
  {
   "cell_type": "markdown",
   "metadata": {},
   "source": [
    "# Orsay\n",
    "\n",
    "And finally from the Orsay data we collect metadata for even more illustrations. For them, as there are not too many, we manually add the data from the following list of urls."
   ]
  },
  {
   "cell_type": "code",
   "execution_count": 471,
   "metadata": {},
   "outputs": [],
   "source": [
    "data = []"
   ]
  },
  {
   "cell_type": "code",
   "execution_count": 461,
   "metadata": {
    "scrolled": false
   },
   "outputs": [
    {
     "data": {
      "text/plain": [
       "['https://www.musee-orsay.fr/fr/oeuvres/le-champ-de-courses-jockeys-amateurs-pres-dune-voiture-1148',\n",
       " 'https://www.musee-orsay.fr/fr/oeuvres/cheval-blesse-66953',\n",
       " 'https://www.musee-orsay.fr/fr/oeuvres/la-maison-du-pendu-auvers-sur-oise-1476',\n",
       " 'https://www.musee-orsay.fr/fr/oeuvres/le-dejeuner-sur-lherbe-25651',\n",
       " 'https://www.musee-orsay.fr/fr/oeuvres/le-salon-aux-trois-lampes-rue-saint-florentin-109909',\n",
       " 'https://www.musee-orsay.fr/fr/oeuvres/le-grand-jardin-775',\n",
       " 'https://www.musee-orsay.fr/fr/oeuvres/portrait-de-madame-auguste-perret-75969',\n",
       " 'https://www.musee-orsay.fr/fr/oeuvres/le-golfe-de-marseille-vu-de-lestaque-1309',\n",
       " 'https://www.musee-orsay.fr/fr/oeuvres/restaurant-de-la-machine-bougival-8048',\n",
       " 'https://www.musee-orsay.fr/fr/oeuvres/emile-zola-713',\n",
       " 'https://www.musee-orsay.fr/fr/oeuvres/la-table-de-toilette-9074',\n",
       " 'https://www.musee-orsay.fr/fr/oeuvres/premier-projet-pour-la-facade-du-theatre-des-champs-elysees-58021',\n",
       " 'https://www.musee-orsay.fr/fr/oeuvres/fleurs-et-fruits-10895',\n",
       " 'https://www.musee-orsay.fr/fr/oeuvres/fleurs-et-fruits-10895',\n",
       " 'https://www.musee-orsay.fr/fr/oeuvres/le-golfe-de-marseille-vu-de-lestaque-1309',\n",
       " 'https://www.musee-orsay.fr/fr/oeuvres/portrait-de-madame-emile-zola-18137',\n",
       " 'https://www.musee-orsay.fr/fr/oeuvres/le-dejeuner-sur-lherbe-904',\n",
       " 'https://www.musee-orsay.fr/fr/oeuvres/le-moulin-de-saint-nicolas-lez-arras-33',\n",
       " 'https://www.musee-orsay.fr/fr/oeuvres/olympia-712',\n",
       " 'https://www.musee-orsay.fr/fr/oeuvres/mademoiselle-dihau-au-piano-10002',\n",
       " 'https://www.musee-orsay.fr/fr/oeuvres/mademoiselle-dihau-au-piano-10002',\n",
       " 'https://www.musee-orsay.fr/fr/oeuvres/mademoiselle-dihau-au-piano-10002',\n",
       " 'https://www.musee-orsay.fr/fr/oeuvres/mademoiselle-dihau-au-piano-10002',\n",
       " 'https://www.musee-orsay.fr/fr/oeuvres/la-famille-du-peintre-16407',\n",
       " 'https://www.musee-orsay.fr/fr/oeuvres/le-bucheron-134807',\n",
       " 'https://www.musee-orsay.fr/fr/oeuvres/siesta-25641',\n",
       " 'https://www.musee-orsay.fr/fr/oeuvres/branche-de-pommier-en-fleurs-8044']"
      ]
     },
     "execution_count": 461,
     "metadata": {},
     "output_type": "execute_result"
    }
   ],
   "source": [
    "# Print list of paintings\n",
    "orsay = gg_links[gg_links['source']==\"musee-orsay.fr\"]\n",
    "list(orsay[orsay['link'].str.contains('oeuvres')]['link'])"
   ]
  },
  {
   "cell_type": "code",
   "execution_count": 538,
   "metadata": {},
   "outputs": [],
   "source": [
    "# Append manually the informations\n",
    "data.append({'ID': \"ILLU_15687_37_0\",\n",
    "            'Author': \"Gustave Courbet\",\n",
    "            'Title': \"Branche de pommier en fleurs\",\n",
    "            'Date': \"1872\",\n",
    "            'Technique': \"Huile sur toile\",\n",
    "            'Dimensions': \"H. 32,2 ; L. 41,0 cm\",\n",
    "            'Category' : \"Reproduction\"})"
   ]
  },
  {
   "cell_type": "code",
   "execution_count": 546,
   "metadata": {},
   "outputs": [],
   "source": [
    "pd.DataFrame(data).to_csv('data/orsay_data.csv', index=False)"
   ]
  }
 ],
 "metadata": {
  "kernelspec": {
   "display_name": "Python 3",
   "language": "python",
   "name": "python3"
  },
  "language_info": {
   "codemirror_mode": {
    "name": "ipython",
    "version": 3
   },
   "file_extension": ".py",
   "mimetype": "text/x-python",
   "name": "python",
   "nbconvert_exporter": "python",
   "pygments_lexer": "ipython3",
   "version": "3.8.3"
  }
 },
 "nbformat": 4,
 "nbformat_minor": 5
}
