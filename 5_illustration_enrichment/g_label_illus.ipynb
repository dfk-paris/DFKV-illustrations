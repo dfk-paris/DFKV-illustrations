{
 "cells": [
  {
   "cell_type": "markdown",
   "metadata": {},
   "source": [
    "# Labels for all \n",
    "\n",
    "Now that we have identified some famous paintings, we also want to know what the other illustrations are about. We use the AI Vision tool from Google Cloud Platform. For that, you need to setup correctly your [Google Vision AI](https://cloud.google.com/vision?hl=fr) account."
   ]
  },
  {
   "cell_type": "code",
   "execution_count": 1,
   "metadata": {},
   "outputs": [],
   "source": [
    "# Some import\n",
    "import io\n",
    "import os\n",
    "import glob\n",
    "import pandas as pd\n",
    "# Imports the Google Cloud client library\n",
    "from google.cloud import vision\n",
    "from tqdm import tqdm\n",
    "from IPython.display import Image\n",
    "from collections import OrderedDict\n",
    "import math\n",
    "import json\n",
    "import shutil\n",
    "from sklearn.feature_extraction.text import TfidfTransformer\n",
    "from sklearn.feature_extraction.text import TfidfVectorizer"
   ]
  },
  {
   "cell_type": "markdown",
   "metadata": {},
   "source": [
    "## Get all labels\n",
    "\n",
    "First, for all the illustration that we have, we submit them to the Vision AI tool from Google, to output labels for each images. The labels are words describing the image, and an associatied probability."
   ]
  },
  {
   "cell_type": "code",
   "execution_count": 33,
   "metadata": {},
   "outputs": [],
   "source": [
    "all_illus = glob.glob(\"./not_known_paintings/*.jpg\")"
   ]
  },
  {
   "cell_type": "code",
   "execution_count": 34,
   "metadata": {
    "scrolled": true
   },
   "outputs": [
    {
     "name": "stderr",
     "output_type": "stream",
     "text": [
      "100%|██████████| 8939/8939 [45:23<00:00,  3.28it/s]  \n"
     ]
    }
   ],
   "source": [
    "# Instantiates a client\n",
    "client = vision.ImageAnnotatorClient()\n",
    "data = []\n",
    "for illu in tqdm(all_illus):\n",
    "    # The name of the image file to annotate\n",
    "    file_name = os.path.abspath(illu)\n",
    "\n",
    "    # Loads the image into memory\n",
    "    with io.open(file_name, 'rb') as image_file:\n",
    "        content = image_file.read()\n",
    "\n",
    "    image = vision.Image(content=content)\n",
    "\n",
    "    # Performs label detection on the image file\n",
    "    response = client.label_detection(image=image)\n",
    "    labels = response.label_annotations\n",
    "    label_dict = {}\n",
    "    for label in labels:\n",
    "        label_dict[label.description] = label.score\n",
    "\n",
    "    data.append({'id': file_name.split('/')[-1].split('.')[0], 'labels': label_dict})"
   ]
  },
  {
   "cell_type": "markdown",
   "metadata": {},
   "source": [
    "And saving the labels"
   ]
  },
  {
   "cell_type": "code",
   "execution_count": 35,
   "metadata": {},
   "outputs": [],
   "source": [
    "pd.DataFrame(data).to_csv('labels_illus.csv', index = False)"
   ]
  },
  {
   "cell_type": "markdown",
   "metadata": {},
   "source": [
    "## Clean labels\n",
    "\n",
    "We now have too many different labels and categories in each image. We will want to put each image into one of the seven categories : Sculpture, Reproduction, Object, Ornament, Plan, Architecture/Decoration, and Photography. To achieve that, we will first manually classify some of the images, count the labels that fall into each category. That will create a distribution of labels depending on the category. We will create a Bayes classifier based on it to classify the remaining illustrations. "
   ]
  },
  {
   "cell_type": "code",
   "execution_count": null,
   "metadata": {},
   "outputs": [],
   "source": [
    "# Load the data\n",
    "df = pd.read_csv('labels_illus.csv').drop(columns=['Unnamed: 0'])"
   ]
  },
  {
   "cell_type": "code",
   "execution_count": 188,
   "metadata": {},
   "outputs": [],
   "source": [
    "# Some small cleaning\n",
    "df['labels'] = df.apply(lambda row: json.loads(row['labels'].replace(\"\\'\",  \"\\\"\").replace(\"Devil\\\"s bridge\", \"Devil's bridge\")), axis=1)"
   ]
  },
  {
   "cell_type": "markdown",
   "metadata": {},
   "source": [
    "Let's look at one example of the output from Google Vision AI."
   ]
  },
  {
   "cell_type": "code",
   "execution_count": 381,
   "metadata": {
    "scrolled": false
   },
   "outputs": [
    {
     "name": "stdout",
     "output_type": "stream",
     "text": [
      "ILLU_11508_28_1\n",
      "dict_keys(['Forehead', 'Nose', 'Cheek', 'Head', 'Chin', 'Hairstyle', 'Eyebrow', 'Sculpture', 'Statue', 'Jaw'])\n"
     ]
    },
    {
     "data": {
      "image/jpeg": "[encoded data removed]",
      "text/plain": [
       "<IPython.core.display.Image object>"
      ]
     },
     "execution_count": 381,
     "metadata": {},
     "output_type": "execute_result"
    }
   ],
   "source": [
    "sample = df.sample()\n",
    "print(sample['id'].iloc[0])\n",
    "kws = dict(sample['labels'].iloc[0]).keys()\n",
    "print(kws)\n",
    "Image(filename='./not_known_paintings/' + sample['id'].iloc[0] + '.jpg') "
   ]
  },
  {
   "cell_type": "markdown",
   "metadata": {},
   "source": [
    "We manually classify some of the illustration by repeateadly call `add_object` and adding random illustrations and their category."
   ]
  },
  {
   "cell_type": "code",
   "execution_count": 294,
   "metadata": {},
   "outputs": [],
   "source": [
    "categories = OrderedDict({'Sculpture': 0, 'Reproduction': 0, 'Object': 0, 'Ornament': 0, 'Plan' : 0, \n",
    "              'Architecture/Decoration' : 0, 'Photography' : 0})\n",
    "#cat_keywords = [dict(), dict(), dict(), dict(), dict(), dict(), dict()]"
   ]
  },
  {
   "cell_type": "code",
   "execution_count": 295,
   "metadata": {},
   "outputs": [],
   "source": [
    "def add_object(d_cats, d_kw, predictions, actual_class):\n",
    "    #d_cats[actual_class] = d_cats.get(actual_class, 0) + 1\n",
    "    for p in predictions:\n",
    "        d_kw[list(d_cats).index(actual_class)][p] = d_kw[list(d_cats).index(actual_class)].get(p, 0) + 1"
   ]
  },
  {
   "cell_type": "code",
   "execution_count": 382,
   "metadata": {},
   "outputs": [],
   "source": [
    "add_object(categories, cat_keywords, kws, 'Sculpture')"
   ]
  },
  {
   "cell_type": "code",
   "execution_count": 2,
   "metadata": {},
   "outputs": [],
   "source": [
    "cat_keywords"
   ]
  },
  {
   "cell_type": "markdown",
   "metadata": {},
   "source": [
    "Because the word 'Art' is in almost every illustration and does not inform us very much about the category, we discard it."
   ]
  },
  {
   "cell_type": "code",
   "execution_count": 3,
   "metadata": {},
   "outputs": [],
   "source": [
    "for d in cat_keywords:\n",
    "    if 'Art' in d.keys():\n",
    "        d.pop('Art') "
   ]
  },
  {
   "cell_type": "markdown",
   "metadata": {},
   "source": [
    "## Most important words\n",
    "To keep only the words that give us the most information on the category it belongs to, we use the TF-IDF method, usually used on documents, where the documents are the categories and the words are the weighted keywords."
   ]
  },
  {
   "cell_type": "code",
   "execution_count": 4,
   "metadata": {
    "scrolled": true
   },
   "outputs": [
    {
     "name": "stderr",
     "output_type": "stream",
     "text": [
      "/Users/elisamichelet/opt/anaconda3/lib/python3.8/site-packages/sklearn/utils/deprecation.py:87: FutureWarning: Function get_feature_names is deprecated; get_feature_names is deprecated in 1.0 and will be removed in 1.2. Please use get_feature_names_out instead.\n",
      "  warnings.warn(msg, category=FutureWarning)\n"
     ]
    }
   ],
   "source": [
    "dataset = [' '.join([' '.join([d[0] for i in range(d[1])]) for d in dkw.items()]) for dkw in cat_keywords]\n",
    "# Vectorize with TF-IDF\n",
    "tfIdfVectorizer=TfidfVectorizer(use_idf=True)\n",
    "tfIdf = tfIdfVectorizer.fit_transform(dataset)\n",
    "df_tfidf = pd.DataFrame(tfIdf[0].T.todense(), index=tfIdfVectorizer.get_feature_names(), columns=[\"TF-IDF\"])\n",
    "df_tfidf = df_tfidf.sort_values('TF-IDF', ascending=False)\n",
    "# List of most important top 100 words\n",
    "most_important_kw = list(df_tfidf.iloc[:100].index)"
   ]
  },
  {
   "cell_type": "code",
   "execution_count": 5,
   "metadata": {},
   "outputs": [],
   "source": [
    "# Keep only most important top 100 words\n",
    "for d in cat_keywords:\n",
    "    for k in list(d.keys()):\n",
    "        if str.lower(k) not in most_important_kw:\n",
    "            d.pop(k) "
   ]
  },
  {
   "cell_type": "markdown",
   "metadata": {},
   "source": [
    "## Naive Bayes Classifier\n",
    "\n",
    "We compute the values for the Bayes classifier.\n",
    "\n",
    "The priors are the probability of the category.\n",
    "\n",
    "The likelihood is the probability of a word to appear given the category.\n",
    "\n",
    "The normalized category keywords are the probability of a keyword in the whole set."
   ]
  },
  {
   "cell_type": "code",
   "execution_count": 6,
   "metadata": {},
   "outputs": [],
   "source": [
    "# Prior calculation\n",
    "priors = [sum(x.values()) for x in cat_keywords]\n",
    "priors = [p/sum(priors) for p in priors]"
   ]
  },
  {
   "cell_type": "code",
   "execution_count": 7,
   "metadata": {},
   "outputs": [],
   "source": [
    "# Smooth them, to not completely discard lower probability categories\n",
    "priors_smooth = [0.25, 0.3, 0.1, 0.1, 0.05, 0.1, 0.1]"
   ]
  },
  {
   "cell_type": "code",
   "execution_count": 8,
   "metadata": {
    "scrolled": true
   },
   "outputs": [],
   "source": [
    "# Likelihood calculation\n",
    "likelihood = dict()\n",
    "for dkw in cat_keywords:\n",
    "    likelihood = {**likelihood, **dkw}\n",
    "likelihood = {k: v / total for total in (sum(likelihood.values()),) for k, v in likelihood.items()}"
   ]
  },
  {
   "cell_type": "code",
   "execution_count": 9,
   "metadata": {
    "scrolled": false
   },
   "outputs": [],
   "source": [
    "# Normalize categroy keywords\n",
    "normalized_cat_kw = cat_keywords.copy()\n",
    "for d in normalized_cat_kw:\n",
    "    for kw in d.keys():\n",
    "        d[kw] = d[kw]/sum(d.values())"
   ]
  },
  {
   "cell_type": "code",
   "execution_count": 10,
   "metadata": {},
   "outputs": [],
   "source": [
    "cats = ['Sculpture', 'Reproduction', 'Object', 'Ornament', 'Plan', \n",
    "             'Architecture/Decoration', 'Photography']"
   ]
  },
  {
   "cell_type": "markdown",
   "metadata": {},
   "source": [
    "We compute the classidier the following way:\n",
    "\n",
    "$$ prediction = max_{cat} \\frac{p(kw|cat) p(cat)}{p(kw)}$$\n",
    "\n",
    "We also create a \"doubt\" (uncertainty) measure : no category have more than 0.4 probability, of if the first two categories are very close, or if more than two categories have more than 0.8 of probability. Those illustration swill be checked manually"
   ]
  },
  {
   "cell_type": "code",
   "execution_count": 11,
   "metadata": {},
   "outputs": [],
   "source": [
    "# From the labels of the image, output the category that is the most likely\n",
    "# as well as an uncertainty flag\n",
    "def most_likely_category(labels, probas):\n",
    "    scores = []\n",
    "    for c in range(len(normalized_cat_kw)):\n",
    "        # Bayes probability\n",
    "        s = sum([normalized_cat_kw[c].get(kw, 0.00001) * probas[i] / likelihood.get(kw, 0.00001)  for i, kw in enumerate(labels)])/len(labels)*priors_smooth[c]\n",
    "        scores.append(s)\n",
    "    # Uncertainty\n",
    "    doubt = max(scores) < 0.4 or len([e for e in scores if e > 0.8]) > 1 or (sorted(scores)[-1] - sorted(scores)[-2]) < 0.2\n",
    "    return cats[scores.index(max(scores))], doubt"
   ]
  },
  {
   "cell_type": "markdown",
   "metadata": {},
   "source": [
    "Let's look at a random sample's prediction"
   ]
  },
  {
   "cell_type": "code",
   "execution_count": null,
   "metadata": {
    "scrolled": false
   },
   "outputs": [],
   "source": [
    "sample = df.sample()\n",
    "kws = sample['labels'].iloc[0].keys()\n",
    "probas = sample['labels'].iloc[0].values()\n",
    "print(kws)\n",
    "print(most_likely_category(list(kws), list(probas)))\n",
    "Image(filename='./not_known_paintings/' + sample['id'].iloc[0] + '.jpg') "
   ]
  },
  {
   "cell_type": "markdown",
   "metadata": {},
   "source": [
    "And compute the most likely category and their doubt or not, for all the images"
   ]
  },
  {
   "cell_type": "code",
   "execution_count": 436,
   "metadata": {},
   "outputs": [],
   "source": [
    "df['pred_cat'] = df.apply(lambda row: most_likely_category(list(row['labels'].keys()), list(row['labels'].values()))[0], axis=1)"
   ]
  },
  {
   "cell_type": "code",
   "execution_count": 438,
   "metadata": {},
   "outputs": [],
   "source": [
    "df['doubt'] = df.apply(lambda row: most_likely_category(list(row['labels'].keys()), list(row['labels'].values()))[1], axis=1)"
   ]
  },
  {
   "cell_type": "code",
   "execution_count": 445,
   "metadata": {},
   "outputs": [
    {
     "data": {
      "text/html": [
       "<div>\n",
       "<style scoped>\n",
       "    .dataframe tbody tr th:only-of-type {\n",
       "        vertical-align: middle;\n",
       "    }\n",
       "\n",
       "    .dataframe tbody tr th {\n",
       "        vertical-align: top;\n",
       "    }\n",
       "\n",
       "    .dataframe thead th {\n",
       "        text-align: right;\n",
       "    }\n",
       "</style>\n",
       "<table border=\"1\" class=\"dataframe\">\n",
       "  <thead>\n",
       "    <tr style=\"text-align: right;\">\n",
       "      <th></th>\n",
       "      <th></th>\n",
       "      <th>id</th>\n",
       "      <th>labels</th>\n",
       "    </tr>\n",
       "    <tr>\n",
       "      <th>doubt</th>\n",
       "      <th>pred_cat</th>\n",
       "      <th></th>\n",
       "      <th></th>\n",
       "    </tr>\n",
       "  </thead>\n",
       "  <tbody>\n",
       "    <tr>\n",
       "      <th rowspan=\"4\" valign=\"top\">False</th>\n",
       "      <th>Architecture/Decoration</th>\n",
       "      <td>336</td>\n",
       "      <td>336</td>\n",
       "    </tr>\n",
       "    <tr>\n",
       "      <th>Object</th>\n",
       "      <td>7</td>\n",
       "      <td>7</td>\n",
       "    </tr>\n",
       "    <tr>\n",
       "      <th>Reproduction</th>\n",
       "      <td>2986</td>\n",
       "      <td>2986</td>\n",
       "    </tr>\n",
       "    <tr>\n",
       "      <th>Sculpture</th>\n",
       "      <td>411</td>\n",
       "      <td>411</td>\n",
       "    </tr>\n",
       "    <tr>\n",
       "      <th rowspan=\"5\" valign=\"top\">True</th>\n",
       "      <th>Architecture/Decoration</th>\n",
       "      <td>543</td>\n",
       "      <td>543</td>\n",
       "    </tr>\n",
       "    <tr>\n",
       "      <th>Object</th>\n",
       "      <td>132</td>\n",
       "      <td>132</td>\n",
       "    </tr>\n",
       "    <tr>\n",
       "      <th>Ornament</th>\n",
       "      <td>3</td>\n",
       "      <td>3</td>\n",
       "    </tr>\n",
       "    <tr>\n",
       "      <th>Reproduction</th>\n",
       "      <td>3909</td>\n",
       "      <td>3909</td>\n",
       "    </tr>\n",
       "    <tr>\n",
       "      <th>Sculpture</th>\n",
       "      <td>612</td>\n",
       "      <td>612</td>\n",
       "    </tr>\n",
       "  </tbody>\n",
       "</table>\n",
       "</div>"
      ],
      "text/plain": [
       "                                 id  labels\n",
       "doubt pred_cat                             \n",
       "False Architecture/Decoration   336     336\n",
       "      Object                      7       7\n",
       "      Reproduction             2986    2986\n",
       "      Sculpture                 411     411\n",
       "True  Architecture/Decoration   543     543\n",
       "      Object                    132     132\n",
       "      Ornament                    3       3\n",
       "      Reproduction             3909    3909\n",
       "      Sculpture                 612     612"
      ]
     },
     "execution_count": 445,
     "metadata": {},
     "output_type": "execute_result"
    }
   ],
   "source": [
    "df.groupby(['doubt', 'pred_cat']).count()"
   ]
  },
  {
   "cell_type": "code",
   "execution_count": 453,
   "metadata": {},
   "outputs": [],
   "source": [
    "# Small renaming\n",
    "df['pred_cat'] = df.apply(lambda row: 'Architecture_decoration' if row['pred_cat'] == 'Architecture/Decoration' else row['pred_cat'], axis=1)"
   ]
  },
  {
   "cell_type": "markdown",
   "metadata": {},
   "source": [
    "Preparing the files to manually sort the doubting ones."
   ]
  },
  {
   "cell_type": "code",
   "execution_count": 461,
   "metadata": {},
   "outputs": [],
   "source": [
    "def copy_file(im_id, pred):\n",
    "    shutil.copyfile('not_known_paintings/' + im_id + '.jpg' , pred + '/' + im_id + '.jpg')\n",
    "    return True"
   ]
  },
  {
   "cell_type": "code",
   "execution_count": 466,
   "metadata": {},
   "outputs": [],
   "source": [
    "# Copy the files to be manually checked into a separate folder\n",
    "df_op = pd.DataFrame()\n",
    "df_op['id'] = df[df['doubt']]['id']\n",
    "df_op['copied'] = df[df['doubt']].apply(lambda row: copy_file(row['id'], row['pred_cat']), axis=1)"
   ]
  },
  {
   "cell_type": "markdown",
   "metadata": {},
   "source": [
    "Now, we manually classified the uncertained paintings.\n",
    "\n",
    "Then, we can run the following few cells to change the labels of the no more doubting illustrations"
   ]
  },
  {
   "cell_type": "code",
   "execution_count": 486,
   "metadata": {},
   "outputs": [],
   "source": [
    "objects = [n.split('/')[-1].split('.jpg')[0] for n in glob.glob(\"./Object/*.jpg\")]\n",
    "sculpture = [n.split('/')[-1].split('.jpg')[0] for n in glob.glob(\"./Sculpture/*.jpg\")]\n",
    "archideco = [n.split('/')[-1].split('.jpg')[0] for n in glob.glob(\"./Architecture_decoration/*.jpg\")]\n",
    "onrament = [n.split('/')[-1].split('.jpg')[0] for n in glob.glob(\"./Ornament/*.jpg\")]\n",
    "photography = [n.split('/')[-1].split('.jpg')[0] for n in glob.glob(\"./Photography/*.jpg\")]\n",
    "plan = [n.split('/')[-1].split('.jpg')[0] for n in glob.glob(\"./Plan/*.jpg\")]\n",
    "repro = [n.split('/')[-1].split('.jpg')[0] for n in glob.glob(\"./Reproduction/*.jpg\")]"
   ]
  },
  {
   "cell_type": "markdown",
   "metadata": {},
   "source": [
    "And tada all our illustrations are classified into one of the 7 categories !"
   ]
  },
  {
   "cell_type": "code",
   "execution_count": 479,
   "metadata": {
    "scrolled": true
   },
   "outputs": [
    {
     "data": {
      "text/html": [
       "<div>\n",
       "<style scoped>\n",
       "    .dataframe tbody tr th:only-of-type {\n",
       "        vertical-align: middle;\n",
       "    }\n",
       "\n",
       "    .dataframe tbody tr th {\n",
       "        vertical-align: top;\n",
       "    }\n",
       "\n",
       "    .dataframe thead th {\n",
       "        text-align: right;\n",
       "    }\n",
       "</style>\n",
       "<table border=\"1\" class=\"dataframe\">\n",
       "  <thead>\n",
       "    <tr style=\"text-align: right;\">\n",
       "      <th></th>\n",
       "      <th>id</th>\n",
       "      <th>pred_cat</th>\n",
       "    </tr>\n",
       "  </thead>\n",
       "  <tbody>\n",
       "    <tr>\n",
       "      <th>2</th>\n",
       "      <td>ILLU_14351_140_4</td>\n",
       "      <td>Reproduction</td>\n",
       "    </tr>\n",
       "    <tr>\n",
       "      <th>5</th>\n",
       "      <td>ILLU_11283_315_0</td>\n",
       "      <td>Reproduction</td>\n",
       "    </tr>\n",
       "    <tr>\n",
       "      <th>8</th>\n",
       "      <td>ILLU_11581_152_0</td>\n",
       "      <td>Reproduction</td>\n",
       "    </tr>\n",
       "    <tr>\n",
       "      <th>9</th>\n",
       "      <td>ILLU_11300_759_1</td>\n",
       "      <td>Reproduction</td>\n",
       "    </tr>\n",
       "    <tr>\n",
       "      <th>10</th>\n",
       "      <td>ILLU_15410_398_1</td>\n",
       "      <td>Reproduction</td>\n",
       "    </tr>\n",
       "    <tr>\n",
       "      <th>...</th>\n",
       "      <td>...</td>\n",
       "      <td>...</td>\n",
       "    </tr>\n",
       "    <tr>\n",
       "      <th>8931</th>\n",
       "      <td>ILLU_15501_8_1</td>\n",
       "      <td>Architecture_decoration</td>\n",
       "    </tr>\n",
       "    <tr>\n",
       "      <th>8932</th>\n",
       "      <td>ILLU_13298_67_0</td>\n",
       "      <td>Sculpture</td>\n",
       "    </tr>\n",
       "    <tr>\n",
       "      <th>8933</th>\n",
       "      <td>ILLU_10944_367_0</td>\n",
       "      <td>Reproduction</td>\n",
       "    </tr>\n",
       "    <tr>\n",
       "      <th>8934</th>\n",
       "      <td>ILLU_10953_136_1</td>\n",
       "      <td>Sculpture</td>\n",
       "    </tr>\n",
       "    <tr>\n",
       "      <th>8938</th>\n",
       "      <td>ILLU_14318_317_0</td>\n",
       "      <td>Reproduction</td>\n",
       "    </tr>\n",
       "  </tbody>\n",
       "</table>\n",
       "<p>3740 rows × 2 columns</p>\n",
       "</div>"
      ],
      "text/plain": [
       "                    id                 pred_cat\n",
       "2     ILLU_14351_140_4             Reproduction\n",
       "5     ILLU_11283_315_0             Reproduction\n",
       "8     ILLU_11581_152_0             Reproduction\n",
       "9     ILLU_11300_759_1             Reproduction\n",
       "10    ILLU_15410_398_1             Reproduction\n",
       "...                ...                      ...\n",
       "8931    ILLU_15501_8_1  Architecture_decoration\n",
       "8932   ILLU_13298_67_0                Sculpture\n",
       "8933  ILLU_10944_367_0             Reproduction\n",
       "8934  ILLU_10953_136_1                Sculpture\n",
       "8938  ILLU_14318_317_0             Reproduction\n",
       "\n",
       "[3740 rows x 2 columns]"
      ]
     },
     "execution_count": 479,
     "metadata": {},
     "output_type": "execute_result"
    }
   ],
   "source": [
    "final_cats_df = df[df['doubt'] == False].drop(columns=['labels', 'doubt'])"
   ]
  },
  {
   "cell_type": "code",
   "execution_count": 482,
   "metadata": {},
   "outputs": [],
   "source": [
    "def add_category_to_df(cat_name, illu_list, df):\n",
    "    return df.append(pd.DataFrame([{'id' : illu, 'pred_cat' : cat_name} for illu in illu_list]))"
   ]
  },
  {
   "cell_type": "code",
   "execution_count": 487,
   "metadata": {
    "scrolled": false
   },
   "outputs": [
    {
     "data": {
      "text/html": [
       "<div>\n",
       "<style scoped>\n",
       "    .dataframe tbody tr th:only-of-type {\n",
       "        vertical-align: middle;\n",
       "    }\n",
       "\n",
       "    .dataframe tbody tr th {\n",
       "        vertical-align: top;\n",
       "    }\n",
       "\n",
       "    .dataframe thead th {\n",
       "        text-align: right;\n",
       "    }\n",
       "</style>\n",
       "<table border=\"1\" class=\"dataframe\">\n",
       "  <thead>\n",
       "    <tr style=\"text-align: right;\">\n",
       "      <th></th>\n",
       "      <th>id</th>\n",
       "      <th>pred_cat</th>\n",
       "    </tr>\n",
       "  </thead>\n",
       "  <tbody>\n",
       "    <tr>\n",
       "      <th>2</th>\n",
       "      <td>ILLU_14351_140_4</td>\n",
       "      <td>Reproduction</td>\n",
       "    </tr>\n",
       "    <tr>\n",
       "      <th>5</th>\n",
       "      <td>ILLU_11283_315_0</td>\n",
       "      <td>Reproduction</td>\n",
       "    </tr>\n",
       "    <tr>\n",
       "      <th>8</th>\n",
       "      <td>ILLU_11581_152_0</td>\n",
       "      <td>Reproduction</td>\n",
       "    </tr>\n",
       "    <tr>\n",
       "      <th>9</th>\n",
       "      <td>ILLU_11300_759_1</td>\n",
       "      <td>Reproduction</td>\n",
       "    </tr>\n",
       "    <tr>\n",
       "      <th>10</th>\n",
       "      <td>ILLU_15410_398_1</td>\n",
       "      <td>Reproduction</td>\n",
       "    </tr>\n",
       "    <tr>\n",
       "      <th>...</th>\n",
       "      <td>...</td>\n",
       "      <td>...</td>\n",
       "    </tr>\n",
       "    <tr>\n",
       "      <th>3354</th>\n",
       "      <td>ILLU_10558_110_0</td>\n",
       "      <td>Reproduction</td>\n",
       "    </tr>\n",
       "    <tr>\n",
       "      <th>3355</th>\n",
       "      <td>ILLU_10575_169129_0</td>\n",
       "      <td>Reproduction</td>\n",
       "    </tr>\n",
       "    <tr>\n",
       "      <th>3356</th>\n",
       "      <td>ILLU_11353_257_3</td>\n",
       "      <td>Reproduction</td>\n",
       "    </tr>\n",
       "    <tr>\n",
       "      <th>3357</th>\n",
       "      <td>ILLU_14941_159_0</td>\n",
       "      <td>Reproduction</td>\n",
       "    </tr>\n",
       "    <tr>\n",
       "      <th>3358</th>\n",
       "      <td>ILLU_11390_726_0</td>\n",
       "      <td>Reproduction</td>\n",
       "    </tr>\n",
       "  </tbody>\n",
       "</table>\n",
       "<p>8944 rows × 2 columns</p>\n",
       "</div>"
      ],
      "text/plain": [
       "                       id      pred_cat\n",
       "2        ILLU_14351_140_4  Reproduction\n",
       "5        ILLU_11283_315_0  Reproduction\n",
       "8        ILLU_11581_152_0  Reproduction\n",
       "9        ILLU_11300_759_1  Reproduction\n",
       "10       ILLU_15410_398_1  Reproduction\n",
       "...                   ...           ...\n",
       "3354     ILLU_10558_110_0  Reproduction\n",
       "3355  ILLU_10575_169129_0  Reproduction\n",
       "3356     ILLU_11353_257_3  Reproduction\n",
       "3357     ILLU_14941_159_0  Reproduction\n",
       "3358     ILLU_11390_726_0  Reproduction\n",
       "\n",
       "[8944 rows x 2 columns]"
      ]
     },
     "execution_count": 487,
     "metadata": {},
     "output_type": "execute_result"
    }
   ],
   "source": [
    "# Add them to the dataframe\n",
    "final_cats_df = df[df['doubt'] == False].drop(columns=['labels', 'doubt'])\n",
    "final_cats_df = add_category_to_df('Sculpture', sculpture, final_cats_df)\n",
    "final_cats_df = add_category_to_df('Architecture_decoration', archideco, final_cats_df)\n",
    "final_cats_df = add_category_to_df('Ornament', onrament, final_cats_df)\n",
    "final_cats_df = add_category_to_df('Photography', photography, final_cats_df)\n",
    "final_cats_df = add_category_to_df('Object', objects, final_cats_df)\n",
    "final_cats_df = add_category_to_df('Plan', plan, final_cats_df)\n",
    "final_cats_df = add_category_to_df('Reproduction', repro, final_cats_df)\n",
    "final_cats_df"
   ]
  },
  {
   "cell_type": "markdown",
   "metadata": {},
   "source": [
    "And we save the data !"
   ]
  },
  {
   "cell_type": "code",
   "execution_count": 489,
   "metadata": {},
   "outputs": [],
   "source": [
    "final_cats_df.to_csv('final_pred_cat.csv', index=False)"
   ]
  }
 ],
 "metadata": {
  "kernelspec": {
   "display_name": "Python 3",
   "language": "python",
   "name": "python3"
  },
  "language_info": {
   "codemirror_mode": {
    "name": "ipython",
    "version": 3
   },
   "file_extension": ".py",
   "mimetype": "text/x-python",
   "name": "python",
   "nbconvert_exporter": "python",
   "pygments_lexer": "ipython3",
   "version": "3.8.3"
  }
 },
 "nbformat": 4,
 "nbformat_minor": 4
}
