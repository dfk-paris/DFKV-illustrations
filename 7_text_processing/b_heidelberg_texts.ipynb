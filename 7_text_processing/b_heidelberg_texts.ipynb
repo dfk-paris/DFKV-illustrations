{
 "cells": [
  {
   "cell_type": "markdown",
   "metadata": {},
   "source": [
    "In this notebook, we will use Google Vision API to extract text from the images from the Heidelberg Collection in our DFKV Dataset."
   ]
  },
  {
   "cell_type": "code",
   "execution_count": 81,
   "metadata": {},
   "outputs": [],
   "source": [
    "import io\n",
    "import os\n",
    "import glob\n",
    "import pandas as pd\n",
    "# Imports the Google Cloud client library\n",
    "from google.cloud import vision\n",
    "from tqdm import tqdm\n",
    "from IPython.display import Image\n",
    "from collections import OrderedDict\n",
    "import math\n",
    "import json\n",
    "import shutil\n",
    "# Importing Image class from PIL module\n",
    "from PIL import Image"
   ]
  },
  {
   "cell_type": "code",
   "execution_count": 5,
   "metadata": {},
   "outputs": [],
   "source": [
    "# Set the environment variable with your own secret key\n",
    "os.environ[\"GOOGLE_APPLICATION_CREDENTIALS\"]=\"absolute/path/to/your/key.json\""
   ]
  },
  {
   "cell_type": "code",
   "execution_count": 82,
   "metadata": {},
   "outputs": [],
   "source": [
    "def resize_image(url):\n",
    "    # Opens a image in RGB mode\n",
    "    im = Image.open(url)\n",
    "\n",
    "    # Size of the image in pixels (size of original image)\n",
    "    width, height = im.size\n",
    "\n",
    "    # Cropped image of above dimension\n",
    "    # (It will not change original image)\n",
    "    im1 = im.crop((0, 0, width, 19 * height / 20))\n",
    "\n",
    "    # Shows the image in image viewer\n",
    "    im1.save(url)"
   ]
  },
  {
   "cell_type": "code",
   "execution_count": 85,
   "metadata": {},
   "outputs": [],
   "source": [
    "heidelberg_pages = sorted(glob.glob(\"./data/heidelberg_data/*.jpg\"))"
   ]
  },
  {
   "cell_type": "code",
   "execution_count": 84,
   "metadata": {},
   "outputs": [
    {
     "name": "stderr",
     "output_type": "stream",
     "text": [
      "100%|██████████| 5122/5122 [09:02<00:00,  9.44it/s]\n"
     ]
    }
   ],
   "source": [
    "# crop from all the images the bottom, which contains its url\n",
    "for page in tqdm(heidelberg_pages):\n",
    "    resize_image(page)"
   ]
  },
  {
   "cell_type": "code",
   "execution_count": 88,
   "metadata": {},
   "outputs": [],
   "source": [
    "def detect_text(path):\n",
    "    \"\"\"Detects text in the file.\"\"\"\n",
    "    client = vision.ImageAnnotatorClient()\n",
    "\n",
    "    # Read the image\n",
    "    with io.open(path, 'rb') as image_file:\n",
    "        content = image_file.read()\n",
    "    \n",
    "    # OCR\n",
    "    image = vision.Image(content=content)\n",
    "    response = client.document_text_detection(image=image)\n",
    "    texts = response.text_annotations\n",
    "\n",
    "    if response.error.message:\n",
    "        raise Exception(\n",
    "            '{}\\nFor more info on error messages, check: '\n",
    "            'https://cloud.google.com/apis/design/errors'.format(\n",
    "                response.error.message))\n",
    "    #return doc_id and text\n",
    "    return path.split(\"/\")[3].split(\"_\")[1], texts[0].description "
   ]
  },
  {
   "cell_type": "code",
   "execution_count": 96,
   "metadata": {},
   "outputs": [
    {
     "name": "stderr",
     "output_type": "stream",
     "text": [
      "100%|██████████| 5122/5122 [1:23:42<00:00,  1.02it/s]  \n"
     ]
    }
   ],
   "source": [
    "# OCR all the documents and save them in a dictionnary\n",
    "all_texts_heidelberg = dict()\n",
    "for page in tqdm(heidelberg_pages):\n",
    "    doc_id, text = detect_text(page)\n",
    "    all_texts_heidelberg[doc_id] = all_texts_heidelberg.get(doc_id, \"\") + text"
   ]
  },
  {
   "cell_type": "code",
   "execution_count": 97,
   "metadata": {},
   "outputs": [],
   "source": [
    "# Save the dictionnary in a json file\n",
    "with open('./data/complete_texts_heidelberg.json', 'w') as fp:\n",
    "    json.dump(all_texts_heidelberg, fp)"
   ]
  },
  {
   "cell_type": "code",
   "execution_count": null,
   "metadata": {},
   "outputs": [],
   "source": []
  }
 ],
 "metadata": {
  "kernelspec": {
   "display_name": "Python 3",
   "language": "python",
   "name": "python3"
  }
 },
 "nbformat": 4,
 "nbformat_minor": 5
}
