{
 "cells": [
  {
   "cell_type": "markdown",
   "id": "c3ef2350",
   "metadata": {},
   "source": [
    "In this notebook, we will use Google Vision API to extract text from the images from the Heidelberg Collection in our DFKV Dataset."
   ]
  },
  {
   "cell_type": "code",
   "execution_count": 31,
   "id": "8d23b77d",
   "metadata": {},
   "outputs": [],
   "source": [
    "import io\n",
    "import os\n",
    "import glob\n",
    "import pandas as pd\n",
    "# Imports the Google Cloud client library\n",
    "from google.cloud import vision\n",
    "from tqdm import tqdm\n",
    "from IPython.display import Image\n",
    "from collections import OrderedDict\n",
    "import math\n",
    "import json\n",
    "import shutil\n",
    "import re\n",
    "import langid\n",
    "# Importing Image class from PIL module\n",
    "from PIL import Image"
   ]
  },
  {
   "cell_type": "code",
   "execution_count": 5,
   "id": "994a6fb7",
   "metadata": {},
   "outputs": [],
   "source": [
    "# Set the environment variable with your own secret key\n",
    "os.environ[\"GOOGLE_APPLICATION_CREDENTIALS\"]=\"absolute/path/to/your/key.json\""
   ]
  },
  {
   "cell_type": "code",
   "execution_count": 82,
   "id": "ccb6b583",
   "metadata": {},
   "outputs": [],
   "source": [
    "def resize_image(url):\n",
    "    # Opens a image in RGB mode\n",
    "    im = Image.open(url)\n",
    "\n",
    "    # Size of the image in pixels (size of original image)\n",
    "    width, height = im.size\n",
    "\n",
    "    # Cropped image of above dimension\n",
    "    # (It will not change original image)\n",
    "    im1 = im.crop((0, 0, width, 19 * height / 20))\n",
    "\n",
    "    # Shows the image in image viewer\n",
    "    im1.save(url)"
   ]
  },
  {
   "cell_type": "code",
   "execution_count": 85,
   "id": "1d021a95",
   "metadata": {},
   "outputs": [],
   "source": [
    "heidelberg_pages = sorted(glob.glob(\"./data/heidelberg_data/*.jpg\"))"
   ]
  },
  {
   "cell_type": "code",
   "execution_count": 84,
   "id": "131a480a",
   "metadata": {},
   "outputs": [
    {
     "name": "stderr",
     "output_type": "stream",
     "text": [
      "100%|██████████| 5122/5122 [09:02<00:00,  9.44it/s]\n"
     ]
    }
   ],
   "source": [
    "# crop from all the images the bottom, which contains its url\n",
    "for page in tqdm(heidelberg_pages):\n",
    "    resize_image(page)"
   ]
  },
  {
   "cell_type": "code",
   "execution_count": 88,
   "id": "2df8663c",
   "metadata": {},
   "outputs": [],
   "source": [
    "def detect_text(path):\n",
    "    \"\"\"Detects text in the file.\"\"\"\n",
    "    client = vision.ImageAnnotatorClient()\n",
    "\n",
    "    # Read the image\n",
    "    with io.open(path, 'rb') as image_file:\n",
    "        content = image_file.read()\n",
    "    \n",
    "    # OCR\n",
    "    image = vision.Image(content=content)\n",
    "    response = client.document_text_detection(image=image)\n",
    "    texts = response.text_annotations\n",
    "\n",
    "    if response.error.message:\n",
    "        raise Exception(\n",
    "            '{}\\nFor more info on error messages, check: '\n",
    "            'https://cloud.google.com/apis/design/errors'.format(\n",
    "                response.error.message))\n",
    "    #return doc_id and text\n",
    "    return path.split(\"/\")[3].split(\"_\")[1], path.split(\"/\")[3].split(\"_\")[2], texts[0].description "
   ]
  },
  {
   "cell_type": "code",
   "execution_count": 59,
   "id": "f5baeacf",
   "metadata": {},
   "outputs": [
    {
     "ename": "NameError",
     "evalue": "name 'heidelberg_pages' is not defined",
     "output_type": "error",
     "traceback": [
      "\u001b[1;31m---------------------------------------------------------------------------\u001b[0m",
      "\u001b[1;31mNameError\u001b[0m                                 Traceback (most recent call last)",
      "Input \u001b[1;32mIn [59]\u001b[0m, in \u001b[0;36m<cell line: 4>\u001b[1;34m()\u001b[0m\n\u001b[0;32m      2\u001b[0m all_texts_heidelberg \u001b[38;5;241m=\u001b[39m \u001b[38;5;28mdict\u001b[39m()\n\u001b[0;32m      3\u001b[0m all_texts_pages_heidelberg \u001b[38;5;241m=\u001b[39m \u001b[38;5;28mdict\u001b[39m()\n\u001b[1;32m----> 4\u001b[0m \u001b[38;5;28;01mfor\u001b[39;00m page \u001b[38;5;129;01min\u001b[39;00m tqdm(\u001b[43mheidelberg_pages\u001b[49m[:\u001b[38;5;241m3\u001b[39m]):\n\u001b[0;32m      5\u001b[0m     doc_id, page, text \u001b[38;5;241m=\u001b[39m detect_text(page)\n\u001b[0;32m      6\u001b[0m     \u001b[38;5;66;03m#all_texts_heidelberg[doc_id] = all_texts_heidelberg.get(doc_id, \"\") + text\u001b[39;00m\n",
      "\u001b[1;31mNameError\u001b[0m: name 'heidelberg_pages' is not defined"
     ]
    }
   ],
   "source": [
    "# OCR all the documents and save them in a dictionnary\n",
    "all_texts_heidelberg = dict()\n",
    "all_texts_pages_heidelberg = dict()\n",
    "for page in tqdm(heidelberg_pages[:3]):\n",
    "    doc_id, page, text = detect_text(page)\n",
    "    #all_texts_heidelberg[doc_id] = all_texts_heidelberg.get(doc_id, \"\") + text\n",
    "    all_texts_pages_heidelberg[doc_id + \"_\" + page] = text\n",
    "\n",
    "# If there are multiple pages in the same data entry, concatenate them all \n",
    "for k, v in all_texts_pages_heidelberg.items():\n",
    "    all_texts_heidelberg[k.split(\"_\")[0]] = all_texts_heidelberg.get(k.split(\"_\")[0], \"\") + v"
   ]
  },
  {
   "cell_type": "code",
   "execution_count": 97,
   "id": "d82990f8",
   "metadata": {},
   "outputs": [],
   "source": [
    "# Save the dictionnary in a json file\n",
    "with open('./data/complete_texts_heidelberg.json', 'w') as fp:\n",
    "    json.dump(all_texts_heidelberg, fp)"
   ]
  },
  {
   "cell_type": "markdown",
   "id": "a98f7227",
   "metadata": {},
   "source": [
    "## Cleaning and tokenize\n",
    "\n",
    "We will now clean the obtained texts."
   ]
  },
  {
   "cell_type": "code",
   "execution_count": 7,
   "id": "209bc3ea",
   "metadata": {},
   "outputs": [],
   "source": [
    "# read file\n",
    "with open('./data/complete_texts_heidelberg.json', 'r') as fp:\n",
    "    data = json.load(fp)"
   ]
  },
  {
   "cell_type": "code",
   "execution_count": 57,
   "id": "379a3192",
   "metadata": {},
   "outputs": [
    {
     "name": "stderr",
     "output_type": "stream",
     "text": [
      "100%|██████████| 998/998 [00:08<00:00, 113.13it/s]\n"
     ]
    }
   ],
   "source": [
    "# Classify between French and German texts\n",
    "german = dict()\n",
    "french = dict()\n",
    "\n",
    "for k, t in tqdm(data.items()):\n",
    "    language = langid.classify(t.replace(\"\\n\", \" \"))\n",
    "    if language[0] == \"fr\":\n",
    "        french[k] = t.replace(\"\\n\", \" \")\n",
    "    else:\n",
    "        german[k] = t.replace(\"\\n\", \" \")"
   ]
  },
  {
   "cell_type": "code",
   "execution_count": 56,
   "id": "19e3817e",
   "metadata": {},
   "outputs": [
    {
     "data": {
      "text/plain": [
       "('fr', -4547.86843585968)"
      ]
     },
     "execution_count": 56,
     "metadata": {},
     "output_type": "execute_result"
    }
   ],
   "source": [
    "langid.classify(french[\"15413\"])"
   ]
  },
  {
   "cell_type": "code",
   "execution_count": 58,
   "id": "73284380",
   "metadata": {},
   "outputs": [
    {
     "data": {
      "text/plain": [
       "{'11418': 'Claude Monet 1024 Le Havre. Gartenterrasse am Meer. 1866 Photo: Durand-Ruel / Leinw. 0,98×1,30 m',\n",
       " '15413': \"nnda est mecessлRun (Dessin de Frédéric Overbeck.) UNE SEULE CHOSE EST NÉCESSAIRE.PRUD'HON SA VIE, SES OEUVRES ET SA CORRESPONDANCE ¹ XI. CES quelques dessins mal rétri- bués ne suffisaient pas à nourrir la famille déjà nombreuse de Pru- d'hon. La misère, que les gaspillages et les criailleries de sa femme ren- daient plus intolérable et plus pro- fonde était à la maison. Ce n'est pas le courage qui manquait au vaillant artiste, mais l'occasion d'exercer son talent. Il n'était pas hostile, tant s'en faut, aux idées et aux institutions nouvelles; cepen- dant il se trouvait absolument isolé. HH.68. J.R. DEL.. Sa manière, qui tenait au fond même de son organisation, était en contradiction flagrante avec celle de David et de son école, et cet homme d'un génie si souple, d'un esprit si ouvert, si conciliant, si sympathique, ne put jamais prendre sur lui de faire la moindre concession à la mode et d'acheter le succès par l'abandon de ses vues personnelles. Il admirait David, comme le prouvent ses lettres de Rome, mais il jugeait avec une clairvoyance singulière son système étroit et absolu. Il s'en expliqua un jour avec M. Voïart dans une conversation dont son biographe nous a conservé le résumé, et que l'on peut regarder comme sa profession de 4. Gazette des Beaux-Arts, 2e période, t. II, p. 377 et 495, et t. III, p. 44 et 152.\",\n",
       " '15419': \"6 LA CARICATURE ET L'IMAGERIE PENDANT LA GUERRE DE 1870-1871 En Allemagne, en France, en Belgique, en Italie et en Angleterre. ALLEMAGNE. ES nations, comme les héros primitifs ou sauvages, ne manquent jamais, au moment de se mesurer, puis pendant et après le combat, de se menacer, de se railler et de s'injurier. A côté des protocoles officiels en beau langage jaillissent les caricatures et les articles de journaux qui tradui- sent en traits plus vifs, plus sincères, les sentiments, les espérances, les illusions, les colères et les joies des peuples. L'imagerie, à son tour, plus calme et plus grave, célèbre les faits accomplis, les exploits, les conquêtes, les solennités. La lutte caricaturale et satirique n'a pas été moins violente que la guerre même entre nous et nos ennemis. Berlin, Munich, Leipzig, Dresde, Dusseldorf, Hambourg, Darmstadt, Stuttgard et le Hanovre ont activement produit, sans compter les jour- naux comme le Kladderadatsch et les Guêpes berlinoises (Berliner Wespen), de nombreuses séries de feuilles volantes avec des caricatures, d'Albums satiriques et humoristiques de la guerre, de Souvenirs, de Guirlandes, de Tableaux de la guerre, de lieders illustrés, de dialogues, de petites brochures, de plaquettes, de quarts de feuille à dessins, de planches sépa- rées reproduites par la photographie. Les principales des grandes séries158 GAZETTE DES BEAUX-ARTS. Cependant les premiers trains de nos prisonniers arrivent dans les gares allemandes, au milieu d'une foule avide de les voir et dont une par- tie a envie de les tuer et de les insulter, tandis qu'une autre se pique d'offrir au malheur des cigares, du café, de la bière. Une caricature d'un album assez sauvage dû à un dessinateur nommé Matthis, d'Elberfeld, trahit assez bien le peu d'égards qu'il y avait envers nos prisonniers au fond du vrai sentiment allemand. Elle a trait à un fait exact, à un simple fait divers. Un train de nos soldats captifs s'arrête à Halle. Une femme leur offre du café, le sous-officier chargé de la garde du convoi s'arrange de façon à culbuter le café en ouvrant la portière pour laisser entrer l'offrande. Les spectateurs rient et applaudissent. Le trait est significatif. Bientôt l'effroi inspiré par la mitrailleuse et le turco est passé. La mitrailleuse ne sera plus qu'un filtre à café pour les vainqueurs, Jsenöll trille no | Abo Lesuping Tee ROSALINDE ET LE TURCO Souvenirs. (Munich). le turco n'est plus qu'une poupée, un singe, un casse-noisette, avec de grandes dents et de gros yeux. Le fusilier Kustschké assomme les turcos et les zouaves par douzaines. L'ombre d'un uhlan fait fuir toute l'armée française. Mais ce sont les turcos qui reviennent sans cesse dans la caricature. Celle-ci s'inquiète et se fâche de la curiosité des femmes pour les soldats160 GAZETTE DES BEAUX-ARTS. trôner dans le Koenig-strasse un groupe pyramidal de soldats français surmonté par un sapeur qui a un énorme bonnet à poil. A leurs pieds sont prosternés les Berlinois; un landwehrmann, le bras en écharpe, joue de l'orgue pour les réjouir. Nos processions des boulevards en juillet, aux cris de: A Berlin! à Ber- lin! figurent en pendant avec d'interminables files de régiments captifs. LE ROI DES AULNES Schrapnels (Düsseldorf). La catastrophe de Sedan est arrivée, l'empereur est envoyé à Wilhelmshöhe. Wilhelmshöhe! le jeu de mots, l'image est facile : au haut de Guil- laume, la hauteur de Guillaume! L'esprit allemand adopte pour la traduire aux yeux un dessin représentant Napoléon III planté comme un papillon grotesque sur la pointe du casque du roi de Prusse. Le Rhein Fall, la chute du Rhin est devenue la chute de l'empereur français. Désormais on le représentera avec l'impératrice et le prince impérial qu'ils appellent Loulou (Lulu), tenant dans sa main la balle ramassée à Saarbruck, en famille de mendiants, voyageant leurs paquets sur le dos.LA CARICATURE PENDANT LA GUERRE (1870-1871). 161 Déjà l'éducation de Lulu a consisté à apprendre de son père à jouer de la mitrailleuse, transformée en seringue inoffensive dont se rient les guerriers germaniques. Le vélocipède aussi est un fréquent attribut dans les dessins. Les zouaves et les turcos partent en guerre montés sur des vélocipèdes. La famille impériale apparaît souvent sur le vélocipède. Avec Sedan surgissent les crayons qui infligent à l'empereur toutes les attitudes humiliées: la gloire est culbutée dans la boue, Bismarck échenille l'Europe, Guillaume est le chasseur qui a forcé la bête, ou encore le roi des aulnes qui fait fuir éperdus dans la nuit Napoléon et son enfant. Leipzig, Rossbach, Waterloo, sont les pas dont nous suivons la La grande Nation SURPRISE DE LA GRANDE NATION (Kladderadatsch). trace laissée en Allemagne par nos prédécesseurs. La grande nation, sous les traits d'un officier, veut se regarder dans un miroir; la glace lui renvoie au lieu de son image celle d'un officier prussien: l'Allemagne a pris la place de la France. Le type militaire français est marqué dans ce qu'il a de plus vulgaire plutôt encore qu'il n'est grotesque, et ils choi- sissent ce qu'ils ont de plus beau dans le type saxon à la grande barbe rousse, pour l'y opposer. Il en est de même de Guillaume, qu'ils embel- lissent de façon à en faire une sorte de vénérable docteur pour contras- ter avec les laideurs dont ils surchargent Napoléon. Tout cela semble du délire et nous paraît amer; il faut n'avoir point vu nos caricatures triomphantes de la première république et du premier empire, pour ne pas comprendre froidement ces exultations des peuples, surtout quand l'inespéré préside, comme en 1870, aux destins du vain- queur. V.2 PERIODE.162 GAZETTE DES BEAUX-ARTS. A Les victoires grandissent, on pourrait dire à vue d'oeil, Bismarck dans l'opinion publique. La Prusse vaincue, c'était un homme perdu, évidem- ment, qui roulait au fond de la haine et du mépris de son pays. Désor- mais le voilà entré dans la légende. Sur son crâne tout chauve se dressent trois cheveux, que la caricature y plante et y entretient avec amour. Il y a même un moment où elle les fait pousser et fleurir. Le Kladderadatsch l'appelle Sa Troischeveurie Bismarck (Seine Dreihaarigkeit). La préoccu- pation allemande pour cette tête chauve va même si loin, qu'elle imagine pour le chancelier la plus étrange des récompenses: Guillaume, identifié comme on le verra tout à l'heure avec Barberousse ressuscité, lui fait de BISMARCK AU 1. IT LE MATIN DE SEDAN Kriegsbilderbogen (Dresde). sa propre barbe une chevelure! réchauffant et rajeunissant ainsi ce crâne précieux ¹. Devant les caricaturistes d'Allemagne nos généraux et les maréchaux fuient à toutes jambes, sauf Bazaine encagé dans Metz. << Vernagelte Stücke! » pièces enclouées ou pièces stupéfiées (le mot a les deux sens), lit-on au bas d'une image représentant les maréchaux pétrifiés et se creusant la tête à chercher la cause de leurs défaites. Ici doit se placer l'histoire d'une erreur assez singulière commise par plusieurs journaux français vers le milieu de la campagne. Ils attribué- rent à un certain général Staff, qui aurait beaucoup vécu à la cour impé- riale, un espionnage si heureux qu'il permit à de Moltke, à Fritz et à Fré- déric-Charles de dresser leurs plans à coup sûr. Or on avait bien lu en effet dans un journal allemand que, grâce aux renseignements recueillis par le général Staff en France, les chefs de la Prusse avaient pu préparer leurs manoeuvres. Seulement c'était une faute d'impression; il fallait lire general Stab, l'état-major général autre sujet de gaieté pour la satire allemande. Le Gaulois et le Figaro ont été caricaturés. Habillés l'un en arle- 4. La caricature représentant Bismarck couché est très-répandue en Allemagne.LA CARICATURE PENDANT LA GUERRE (1870-1871). 165 attiser le feu guerrier et moral des Germains, de représenter la Répu- blique comme une bande de détrousseurs et d'égorgeurs. Quel meilleur moyen de justifier la continuation de la guerre? Il suffirait certainement de feuilleter les caricatures pour se con- vaincre, sans autre renseignement, que le siége de Paris a été l'événe- ment solennel, épique de la lutte, bien plus encore que Sedan, malgré 19 20 (80500 L. A VILLE DE PARIS Zündnadeln (Darmstadt).. l'énormité nentable de cette dernière catastrophe et la chute drama- tique de l'empire. Dès le commencement, les ballons remplacèrent, dans l'imagerie des- tinée à amuser les Allemands, les turcos et la mitrailleuse. On y vit Gam- betta et le gouvernement de la défense allant tomber en ballon au milieu des sauvages, les Français se sauvant en ballon dans la lune, les uhlans prenant les ballons à la course, pendant imaginaire de nos hussards s'em- parant jadis de la flotte hollandaise dans les glaces du Wahal, on y vit Kustschké jouer avec des ballons qu'il tenait par une ficelle. PO ADD168 GAZETTE DES BEAUX-ARTS. comme deux enfants égarés et retrouvés, la Lorraine et l'Alsace, puis il médite sur ses cinq milliards, embarrassé de les employer. WAHRHEIT 1870), Spar Kitanzang ist der Friede 1871 CAPITULATION DE PARIS Kriegs-Album (Elberfeld). La note sentimentale apparaît quelque fois, cependant elle est rare. La paix ! inscrit le Kladderadatsch sous une tombe de zouave, la paix!172 GAZETTE DES BEAUX-ARTS. Ensuite viennent des albums et des séries où la maladresse est voulue: là elle cherche la naïveté et une fruste énergie, gravant le bois avec les grandes et lourdes tailles de l'ancienne imagerie. Un autre système fond ces formes amples avec le travail plus leste et plus complexe adopté par les graveurs modernes. Enfin, autour des écoles de peinture, à Dusseldorf, à Munich, à Berlin, on se pique de dessiner et de graver finement. La taille y donne une douceur un peu molle et ôte passablement d'accent aux compositions, quoiqu'on mette peut-être en celles-ci plus de subtilité et de recherche. Elles sont, il est vrai aussi, réduites à un cadre plus petit. Les caricatures que nous publions four- nissent un spécimen de ces différentes manières. C'est à l'obligeance amicale de M. de Liesville, qui possède une des plus importantes collections de Paris, relatives à l'histoire contemporaine depuis 1789, que nous devons d'avoir pu tracer cette esquisse et celles qui suivront sur la caricature européenne actuelle. DURANTY. (La suite prochainement.)\"}"
      ]
     },
     "execution_count": 58,
     "metadata": {},
     "output_type": "execute_result"
    }
   ],
   "source": [
    "french"
   ]
  },
  {
   "cell_type": "code",
   "execution_count": 16,
   "id": "f0c5e203",
   "metadata": {},
   "outputs": [],
   "source": [
    "# List of charachters to remove from texts\n",
    "to_remove = [\"'\", \",\", \";\", \":\", \".\", \"!\", \"?\", \"’\", \"(\", \")\", \"\\\"\", \"%\", \"#\", \"$\", \"&\", \"*\", \"+\"]"
   ]
  },
  {
   "cell_type": "code",
   "execution_count": 21,
   "id": "2b7046cc",
   "metadata": {},
   "outputs": [
    {
     "data": {
      "text/plain": [
       "'147 glitzernde Schlange dienen ihm zum Gegenstand des Studiums. Er entkleidet das Ewig-Weibliche fast ganz seiner geschlechtlichen Reize als Gattung und sucht nur das Einzelwesen. Nur die Sphinx zieht ihn magisch an: kalt, stark und herbe (wie die Büste ,,Das herrische Weib\"), oder eine Schattirung zarter und elegischer, aber immer noch sehr herbe und streng im Typus (wie das Relief mit dem lebensgroßen Profil und der Inschrift ,,Auld lang syne\"). Nicht ohne Grund mag hier das nordische Idiom gewählt sein: in Schottland und im Norden Englands sind solche Mädchen am häufigsten zu finden. Sie scheinen wie vom Glück enterbte Wesen, die, sich selbst ein Geheimnis, kaum in der Gegenwart leben, in stummer, verzehrender Sehnsucht ihr Dasein verschmachten, stolz und kalt nach außen, aber ewig suchend nach dem großen Unerklärlichen. So steht dieses Mädchen mit den mageren entblößten Armen am Sarkophag und träumt von der Vergangenheit und Zu- kunft und vom Glück, das niemals kommt. Ent- behren sollst Du, sollst entbehren\"... So muss es sich endlich in sich selbst zurückziehen und das leidvolle Sehnen wird ihm zum Heiligtum. ,,I shut my door upon myself\" heißt ein Bild von Fernand Knopff. Das ist Aus dem Wiener Künstlerhause. 148 ein ähnlicher Typus, nur abstrahirt van der Stappen nicht so von der Wirklichkeit; seine Anschauung ist viel unmittelbarer, während er von seinem andern Lands- mann, Felicien Rops, dem dritten modernen Sphinx- darsteller, dadurch verschieden ist, dass er von der sexuell-dekadenten Seite ganz absieht. Nicht die Be- ziehung des Weibes zum Manne, sondern zu seinem ur- eigenen Wesen reizt des Künstlers Forschungstrieb. Mit wie eigentümlicher Vornehmheit er diese etwas eckigen, flachbrüstigen Wesen zu behandeln weiß, zeigt die anmutige Gruppe ,Die große Schwester\", worin der Kolonie Altenhof, gehörig zu den ,,Neuen Krupp\\'schen Arbeiter- kolonien\". Entwurf von Reg.-Baumeister Schmohl-Essen a. R. (Aus den ,,Neubauten\", II. Band, Heft 11/12. Verlag von E. A. Seemann in Leipzig.) Kontrast zwischen dieser und den pausbackigen Rangen, die sich an sie hängen, in prägnanter Weise zum Aus- druck gelangt. Van der Stappen ist eine Erscheinung, die zwei seltene Eigenschaften in sich vereinigt: den technischen Könner\" und den menschlichen Kenner\". Unter den Österreichern ist Vaclav Brozik mit seiner im Auftrage des Kaisers gemalten Illustration zu dem alter Dictum: ,,Tu felix Austria nube\" vertreten, einer großen Historie mit feierlichem Prunk und nicht weniger als 81 historischen Porträts. Es handelt sich um die Doppelhochzeit zwischen den Kindern Wladizlav\\'s II. und Kaiser Maximilian\\'s I. Enkeln, am 22. Juli 1515 im ។ ម ង TUNIVERSITÄTS- 2002800.80 GERMONELTISIEL CAN Rathaus in Hannover. Konkurrenz-Entwurf von H. Stier. (Kennwort: Piano.) I. Preis. http://digi.ub.uni-heidelberg.de/dialit/kunstchronik1897/0082 TESTE Alper\\'s Hannover gefördert durch die'"
      ]
     },
     "execution_count": 21,
     "metadata": {},
     "output_type": "execute_result"
    }
   ],
   "source": [
    "t = data[\"10076\"].replace(\"\\n\", \" \")\n",
    "t"
   ]
  },
  {
   "cell_type": "code",
   "execution_count": 30,
   "id": "06b1ff0e",
   "metadata": {},
   "outputs": [
    {
     "data": {
      "text/plain": [
       "'http'"
      ]
     },
     "execution_count": 30,
     "metadata": {},
     "output_type": "execute_result"
    }
   ],
   "source": [
    "re.search(r'http', t).group()"
   ]
  },
  {
   "cell_type": "code",
   "execution_count": 33,
   "id": "a2c75518",
   "metadata": {},
   "outputs": [],
   "source": [
    "o = langid.classify(t)"
   ]
  },
  {
   "cell_type": "code",
   "execution_count": 34,
   "id": "eb30f9c8",
   "metadata": {},
   "outputs": [
    {
     "data": {
      "text/plain": [
       "'de'"
      ]
     },
     "execution_count": 34,
     "metadata": {},
     "output_type": "execute_result"
    }
   ],
   "source": [
    "o[0]"
   ]
  },
  {
   "cell_type": "code",
   "execution_count": null,
   "id": "8e86ff65",
   "metadata": {},
   "outputs": [],
   "source": []
  }
 ],
 "metadata": {
  "kernelspec": {
   "display_name": "Python 3 (ipykernel)",
   "language": "python",
   "name": "python3"
  },
  "language_info": {
   "codemirror_mode": {
    "name": "ipython",
    "version": 3
   },
   "file_extension": ".py",
   "mimetype": "text/x-python",
   "name": "python",
   "nbconvert_exporter": "python",
   "pygments_lexer": "ipython3",
   "version": "3.10.2"
  }
 },
 "nbformat": 4,
 "nbformat_minor": 5
}
