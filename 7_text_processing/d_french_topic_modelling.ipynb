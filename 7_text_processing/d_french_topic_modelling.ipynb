{
  "nbformat": 4,
  "nbformat_minor": 0,
  "metadata": {
    "colab": {
      "name": "d_french_topic_modelling.ipynb",
      "provenance": [],
      "collapsed_sections": []
    },
    "kernelspec": {
      "name": "python3",
      "display_name": "Python 3"
    },
    "language_info": {
      "name": "python"
    }
  },
  "cells": [
    {
      "cell_type": "markdown",
      "source": [
        "# Topic Modelling with Big ARTM\n",
        "\n",
        "In this notebook, we will perform topic modelling on the french texts from the DFKV illustrations project. Doc for ARTM usage [here](https://bigartm.readthedocs.io/en/stable/tutorials/python_userguide/index.html)."
      ],
      "metadata": {
        "id": "McwH5iyB87Wk"
      }
    },
    {
      "cell_type": "markdown",
      "source": [
        "We start by installing the package."
      ],
      "metadata": {
        "id": "Xl_wIHlGNxrh"
      }
    },
    {
      "cell_type": "code",
      "execution_count": 1,
      "metadata": {
        "colab": {
          "base_uri": "https://localhost:8080/"
        },
        "id": "rDvXEEPvHVgf",
        "outputId": "ef82a4cb-1cfb-4908-f1c8-ad301e546ca2"
      },
      "outputs": [
        {
          "output_type": "stream",
          "name": "stdout",
          "text": [
            "Looking in indexes: https://pypi.org/simple, https://us-python.pkg.dev/colab-wheels/public/simple/\n",
            "Collecting bigartm\n",
            "  Downloading bigartm-0.9.2-cp37-cp37m-manylinux1_x86_64.whl (1.9 MB)\n",
            "\u001b[K     |████████████████████████████████| 1.9 MB 8.4 MB/s \n",
            "\u001b[?25hRequirement already satisfied: pandas in /usr/local/lib/python3.7/dist-packages (from bigartm) (1.3.5)\n",
            "Requirement already satisfied: tqdm in /usr/local/lib/python3.7/dist-packages (from bigartm) (4.64.0)\n",
            "Requirement already satisfied: numpy in /usr/local/lib/python3.7/dist-packages (from bigartm) (1.21.6)\n",
            "Requirement already satisfied: protobuf>=3.0 in /usr/local/lib/python3.7/dist-packages (from bigartm) (3.17.3)\n",
            "Requirement already satisfied: six>=1.9 in /usr/local/lib/python3.7/dist-packages (from protobuf>=3.0->bigartm) (1.15.0)\n",
            "Requirement already satisfied: pytz>=2017.3 in /usr/local/lib/python3.7/dist-packages (from pandas->bigartm) (2022.1)\n",
            "Requirement already satisfied: python-dateutil>=2.7.3 in /usr/local/lib/python3.7/dist-packages (from pandas->bigartm) (2.8.2)\n",
            "Installing collected packages: bigartm\n",
            "Successfully installed bigartm-0.9.2\n"
          ]
        }
      ],
      "source": [
        "!pip install bigartm"
      ]
    },
    {
      "cell_type": "markdown",
      "source": [
        "Then we load our Google Drive content, to be able to use our images."
      ],
      "metadata": {
        "id": "9bCQmCI1OQoA"
      }
    },
    {
      "cell_type": "code",
      "source": [
        "from google.colab import drive\n",
        "drive.mount('/content/drive')"
      ],
      "metadata": {
        "colab": {
          "base_uri": "https://localhost:8080/"
        },
        "id": "j7wgYDA7n9Zr",
        "outputId": "fe473dcc-1a5c-474e-91b7-be74ab407ea3"
      },
      "execution_count": 2,
      "outputs": [
        {
          "output_type": "stream",
          "name": "stdout",
          "text": [
            "Mounted at /content/drive\n"
          ]
        }
      ]
    },
    {
      "cell_type": "markdown",
      "source": [
        "And we navigate to the right directory."
      ],
      "metadata": {
        "id": "UaP0l_FnOXGA"
      }
    },
    {
      "cell_type": "code",
      "source": [
        "%cd drive/MyDrive/text/"
      ],
      "metadata": {
        "colab": {
          "base_uri": "https://localhost:8080/"
        },
        "id": "PNeaz0BkoC_j",
        "outputId": "d775d42e-4d06-4886-8065-6adc36ede7ff"
      },
      "execution_count": 3,
      "outputs": [
        {
          "output_type": "stream",
          "name": "stdout",
          "text": [
            "/content/drive/MyDrive/text\n"
          ]
        }
      ]
    },
    {
      "cell_type": "markdown",
      "source": [
        "We start by creating our batches using the vectorizer from the package. We have our `docword.dfkv.txt` and `vocab.dfkv.txt` files (in Bag of Words UCI format) in the same folder as our notebook."
      ],
      "metadata": {
        "id": "Ou7FNzi7RNf8"
      }
    },
    {
      "cell_type": "code",
      "source": [
        "import artm\n",
        "import matplotlib.pyplot as plt\n",
        "import math\n",
        "import numpy as np\n",
        "import random\n",
        "from tqdm import tqdm\n",
        "import pandas as pd\n",
        "\n",
        "batch_vectorizer = artm.BatchVectorizer(data_path='',\n",
        "                                        data_format='bow_uci',\n",
        "                                        collection_name='dfkv',\n",
        "                                        target_folder='data')"
      ],
      "metadata": {
        "id": "J0-uDbIhHWs_"
      },
      "execution_count": 4,
      "outputs": []
    },
    {
      "cell_type": "markdown",
      "source": [
        "Then, we also need to create our dictionnary, which is in our case in `vocab.dfkv.txt`. Here the data path is where the batches are, the emplacement that was defined previously as the target folder."
      ],
      "metadata": {
        "id": "seIMJxbBRyYh"
      }
    },
    {
      "cell_type": "code",
      "source": [
        "dictionary = artm.Dictionary()\n",
        "dictionary.gather(data_path='data',\n",
        "                  vocab_file_path='vocab.dfkv.txt')"
      ],
      "metadata": {
        "id": "UhNVXJ73b7Wl"
      },
      "execution_count": 5,
      "outputs": []
    },
    {
      "cell_type": "markdown",
      "source": [
        "Let's also define here a set of parameters that we will finetune later, there role will be explained when they are used, we can just use the default values for now."
      ],
      "metadata": {
        "id": "pRZYUYMBnlXG"
      }
    },
    {
      "cell_type": "code",
      "source": [
        "NUM_TOPICS = 20 \n",
        "NUM_TOKENS = 12\n",
        "TAU_DECORRELATOR = 30000\n",
        "TAU_PHI = -0.75\n",
        "TAU_THETA = -1.25"
      ],
      "metadata": {
        "id": "6wqvPWp0nylv"
      },
      "execution_count": 6,
      "outputs": []
    },
    {
      "cell_type": "markdown",
      "source": [
        "And we can start to build our model ! It is basically a matrix of size \"Number of words in dictionnary\" X \"Number of topics\", which is randomly initialized."
      ],
      "metadata": {
        "id": "4sF8cHhaUsnR"
      }
    },
    {
      "cell_type": "code",
      "source": [
        "# ARTM model\n",
        "# We choose here the number of topics that we want in our texts\n",
        "model = artm.ARTM(num_topics=NUM_TOPICS, dictionary=dictionary, cache_theta=False)"
      ],
      "metadata": {
        "id": "em6Wc9hyVBwf"
      },
      "execution_count": 7,
      "outputs": []
    },
    {
      "cell_type": "markdown",
      "source": [
        "Then, we want to add ways to measure how good our model performs : scores. Let's explain breifely the ones we use, but a more complete description is available [here](https://bigartm.readthedocs.io/en/stable/tutorials/scores_descr.html)  :\n",
        "- Perplexity : indicates speed of convergence of the model. The smaller the better\n",
        "- Sparsity Phi : ratio of elements of the Phi matrix that are less than a given threshold. Used to control regularization, the goal is to have a sparse matrix.\n",
        "- Sparsity Theta : ratio of elements of the Theta matrix that are less than a given threshold. Used to control regularization, the goal is to have a sparse matrix.\n",
        "- Top Tokens : to check topic quality, will return top words for each topic. Can also compute coherence of the top tokens.\n",
        "\n",
        "Other scores are available for the model, you can look them up at the page for scores descriptions.\n"
      ],
      "metadata": {
        "id": "KRRL-8eAXA62"
      }
    },
    {
      "cell_type": "code",
      "source": [
        "# Adding scores\n",
        "model.scores.add(artm.PerplexityScore(name='perplexity_score',\n",
        "                                      dictionary=dictionary))\n",
        "model.scores.add(artm.SparsityPhiScore(name='sparsity_phi_score'))\n",
        "model.scores.add(artm.SparsityThetaScore(name='sparsity_theta_score'))\n",
        "model.scores.add(artm.TopTokensScore(name='top_tokens_score'))\n",
        "model.scores.add(artm.SparsityPhiScore(name='sparsity_phi_score_10_topics', topic_names=model.topic_names[0: 9]))\n",
        "# To show the number of most probable words in each topic\n",
        "model.num_tokens = NUM_TOKENS"
      ],
      "metadata": {
        "id": "oafTwJThiV6H"
      },
      "execution_count": 8,
      "outputs": []
    },
    {
      "cell_type": "markdown",
      "source": [
        "We will also add a regularizer from the beginning (see [documentation](https://bigartm.readthedocs.io/en/stable/tutorials/regularizers_descr.html) for more infos about regularizers) : the decorrelator Phi that decorrelates columns in the Phi matrix (e.g. make topics more different), that allows to increase the interpretability of topics."
      ],
      "metadata": {
        "id": "oBbm4lkNsBpw"
      }
    },
    {
      "cell_type": "code",
      "source": [
        "model.regularizers.add(artm.DecorrelatorPhiRegularizer(name='decorrelator_phi_regularizer'))\n",
        "model.regularizers['decorrelator_phi_regularizer'].tau = TAU_DECORRELATOR"
      ],
      "metadata": {
        "id": "GOi3ySWCs129"
      },
      "execution_count": 9,
      "outputs": []
    },
    {
      "cell_type": "markdown",
      "source": [
        "Now we can start training the model ! We use the fit_offline algorithm, which does many passes through the collection, one pass through the single document (optional), only one update of the PHI matrix on one collection pass (at the end of the pass)."
      ],
      "metadata": {
        "id": "CjDy80ifs5sm"
      }
    },
    {
      "cell_type": "code",
      "source": [
        "N_FIRST_PASSES = 13\n",
        "model.fit_offline(batch_vectorizer=batch_vectorizer, num_collection_passes=N_FIRST_PASSES)"
      ],
      "metadata": {
        "id": "8it1l5sasDQH"
      },
      "execution_count": 10,
      "outputs": []
    },
    {
      "cell_type": "markdown",
      "source": [
        "Let us look at our scores throughout the different iterations"
      ],
      "metadata": {
        "id": "Gkdfaay4K0et"
      }
    },
    {
      "cell_type": "code",
      "source": [
        "def plot_scores(score_tracker):\n",
        "  to_plot = [k for k in score_tracker.keys() if k != \"top_tokens_score\"]\n",
        "  n_scores = len(to_plot)\n",
        "  columns = 2\n",
        "  lines = math.ceil(n_scores/2)\n",
        "  fig, axs = plt.subplots(lines, columns, figsize=(8*lines, 8))\n",
        "  for i, score in enumerate(to_plot):\n",
        "    axs[math.ceil(i/2) - 1][i%2].plot(range(len(model.score_tracker[score].value)), model.score_tracker[score].value)\n",
        "    axs[math.ceil(i/2) - 1][i%2].title.set_text(score)\n",
        "  fig.suptitle('Different scores of the model through iterations')"
      ],
      "metadata": {
        "id": "lEDE5LfGD3Qn"
      },
      "execution_count": 11,
      "outputs": []
    },
    {
      "cell_type": "code",
      "source": [
        "def print_topics():\n",
        "  saved_top_tokens = model.score_tracker['top_tokens_score'].last_tokens\n",
        "\n",
        "  for topic_name in model.topic_names:\n",
        "    print(saved_top_tokens[topic_name])"
      ],
      "metadata": {
        "id": "7wFbZhXFNHCJ"
      },
      "execution_count": 12,
      "outputs": []
    },
    {
      "cell_type": "code",
      "source": [
        "plot_scores(model.score_tracker)"
      ],
      "metadata": {
        "colab": {
          "base_uri": "https://localhost:8080/",
          "height": 540
        },
        "id": "yQrUtRj1CLK5",
        "outputId": "38e510f1-801a-4ac1-ae0c-b9aed3384d63"
      },
      "execution_count": 13,
      "outputs": [
        {
          "output_type": "display_data",
          "data": {
            "text/plain": [
              "<Figure size 1152x576 with 4 Axes>"
            ],
            "image/png": "[encoded data removed]"
          },
          "metadata": {
            "needs_background": "light"
          }
        }
      ]
    },
    {
      "cell_type": "code",
      "source": [
        "print_topics()"
      ],
      "metadata": {
        "colab": {
          "base_uri": "https://localhost:8080/"
        },
        "id": "NOIthzRYNUgZ",
        "outputId": "aa4b84b0-6168-42db-a2e4-6af808f236cd"
      },
      "execution_count": 14,
      "outputs": [
        {
          "output_type": "stream",
          "name": "stdout",
          "text": [
            "['art', b'\\xe9t\\xe9', 'exposition', 'paris', 'bien', 'temps', 'grand', 'arts', 'esprit', 'mieux']\n",
            "['busch', 'bien', 'art', 'vie', 'artistes', 'grand', 'faire', b'\\xe9t\\xe9', 'dessin', 'petit']\n",
            "['art', 'exposition', 'peinture', 'bien', b'th\\xe9\\xe2tre', 'portrait', 'grand', b'mus\\xe9e', b'si\\xe8cle', 'paris']\n",
            "['art', 'fut', b'mus\\xe9e', 'suisse', 'lenbach', b'mar\\xe9es', 'peintre', 'peinture', 'bien', b'\\xe9t\\xe9']\n",
            "['durer', 'art', b'mus\\xe9e', 'peinture', b'si\\xe8cle', 'vie', 'artistes', 'artiste', 'saint', b'ma\\xeetre']\n",
            "['exposition', 'art', 'artistes', 'venise', 'bien', 'grand', 'oeuvres', 'galerie', 'peintres', 'kandinsky']\n",
            "['art', 'exposition', b'\\x9cuvres', 'faire', 'bien', 'fig', b'\\x9cuvre', 'paris', 'grand', 'galerie']\n",
            "['holbein', 'art', b'mus\\xe9e', 'portrait', 'durer', 'portraits', 'artiste', 'dessins', 'oeuvre', 'grand']\n",
            "['dada', 'bien', 'maison', 'air', 'gropius', 'temps', 'contre', 'vie', 'france', 'salle']\n",
            "['art', 'bien', 'artistes', b'\\x9cuvre', 'grand', b'\\xe9t\\xe9', 'arts', 'hoffmann', 'moderne', 'fut']\n",
            "['dada', 'arp', 'art', 'esprit', 'peintre', 'bien', 'paris', 'peinture', b'\\x9cuvre', 'tzara']\n",
            "['art', 'ernst', 'bien', b'\\xe9t\\xe9', 'max', b'\\x9cuvre', b'mus\\xe9e', 'peinture', 'temps', 'non']\n",
            "['art', 'klee', 'bien', 'kandinsky', 'monde', 'peinture', 'paul', b'\\x9cuvre', 'artiste', 'temps']\n",
            "['galerie', b'mus\\xe9e', 'collection', 'art', b'fran\\xe7ais', 'portrait', 'peintres', 'tableaux', 'toiles', 'hambourg']\n",
            "['saint', 'art', b'si\\xe8cle', 'bien', 'exposition', 'paris', 'marks', 'fut', b'\\x9cuvre', 'grand']\n",
            "['bien', 'art', 'vie', 'exposition', 'meubles', 'ici', 'ensemble', 'salle', 'artistes', 'peinture']\n",
            "['bien', 'portrait', 'stuttgart', b'\\xe9t\\xe9', 'maison', 'art', 'exposition', 'tableau', 'non', 'francs']\n",
            "['art', 'grand', 'vie', 'paris', 'bien', 'temps', 'tableau', 'faire', 'homme', 'bourdelle']\n",
            "['galerie', 'art', 'bois', 'bien', 'section', b'arm\\xe9e', 'photographique', 'aujourd', 'grand', 'saint']\n",
            "['art', 'grand', 'fut', 'artistes', b'mus\\xe9e', 'peinture', b'\\xe9t\\xe9', 'monet', 'esprit', 'arts']\n"
          ]
        }
      ]
    },
    {
      "cell_type": "markdown",
      "source": [
        "After a few passes, we see that the different scores have all converged.However, we could get even better topics by adding more regulizers. Again, more information about them can be found in the [documentation](https://bigartm.readthedocs.io/en/stable/tutorials/regularizers_descr.html).\n",
        "- Smooth Sparse Phi : simply smooth or sparse all values in the Phi matrix\n",
        "- Smooth Sparse Theta : simply smooth or sparse all values in the Theta matrix"
      ],
      "metadata": {
        "id": "YN35IdQujNLQ"
      }
    },
    {
      "cell_type": "code",
      "source": [
        "model.regularizers.add(artm.SmoothSparsePhiRegularizer(name='sparse_phi_regularizer'))\n",
        "model.regularizers.add(artm.SmoothSparseThetaRegularizer(name='sparse_theta_regularizer'))\n",
        "\n",
        "model.regularizers['sparse_phi_regularizer'].tau = TAU_PHI\n",
        "model.regularizers['sparse_theta_regularizer'].tau = TAU_THETA"
      ],
      "metadata": {
        "id": "DBZlo1k8jQ6Q"
      },
      "execution_count": 15,
      "outputs": []
    },
    {
      "cell_type": "markdown",
      "source": [
        "And we fit for 13 more passes the model, with the new regularizers."
      ],
      "metadata": {
        "id": "kTgmcArXNssX"
      }
    },
    {
      "cell_type": "code",
      "source": [
        "N_SECOND_PASSES = 13\n",
        "model.fit_offline(batch_vectorizer=batch_vectorizer, num_collection_passes=N_SECOND_PASSES)"
      ],
      "metadata": {
        "id": "qHTiIrUnmR-6"
      },
      "execution_count": 16,
      "outputs": []
    },
    {
      "cell_type": "markdown",
      "source": [
        "And again look at the scores and topics found"
      ],
      "metadata": {
        "id": "Ag98xm3VOPMf"
      }
    },
    {
      "cell_type": "code",
      "source": [
        "plot_scores(model.score_tracker)"
      ],
      "metadata": {
        "colab": {
          "base_uri": "https://localhost:8080/",
          "height": 540
        },
        "id": "hLOzHR37OU2f",
        "outputId": "2fafb736-6507-4cd2-d21a-40bebc10d259"
      },
      "execution_count": 17,
      "outputs": [
        {
          "output_type": "display_data",
          "data": {
            "text/plain": [
              "<Figure size 1152x576 with 4 Axes>"
            ],
            "image/png": "[encoded data removed]"
          },
          "metadata": {
            "needs_background": "light"
          }
        }
      ]
    },
    {
      "cell_type": "code",
      "source": [
        "print_topics()"
      ],
      "metadata": {
        "colab": {
          "base_uri": "https://localhost:8080/"
        },
        "id": "0mATNxf_OUzq",
        "outputId": "02a34fa9-cb82-4fad-c85f-98f7851e2912"
      },
      "execution_count": 18,
      "outputs": [
        {
          "output_type": "stream",
          "name": "stdout",
          "text": [
            "['art', 'exposition', b'\\xe9t\\xe9', 'paris', 'arts', 'bien', 'grand', 'temps', 'mieux', 'donner']\n",
            "['busch', 'bien', 'art', 'vie', 'grand', 'petit', 'dessin', 'faire', 'artistes', 'femmes']\n",
            "['art', 'portrait', 'courbet', 'exposition', 'bien', 'peinture', b'th\\xe9\\xe2tre', 'paris', 'leibl', b'si\\xe8cle']\n",
            "[b'mus\\xe9e', 'art', 'fut', 'suisse', 'lenbach', b'mar\\xe9es', 'peintre', b'\\xe9t\\xe9', 'munich', 'ville']\n",
            "['art', 'durer', 'peinture', 'vie', b'mus\\xe9e', 'artistes', b'si\\xe8cle', b'ma\\xeetre', 'allemagne', 'artiste']\n",
            "['art', 'exposition', 'artistes', 'venise', 'oeuvres', 'grand', 'peintres', 'talent', 'bien', 'artiste']\n",
            "['art', 'galerie', 'exposition', b'\\x9cuvres', b'\\x9cuvre', 'faire', 'peinture', 'paris', 'peintre', 'rue']\n",
            "['holbein', 'art', 'portrait', b'mus\\xe9e', 'dessins', 'portraits', 'artiste', 'oeuvre', 'dessin', 'durer']\n",
            "['maison', 'gropius', 'air', 'bien', 'temps', 'vue', 'contre', 'salle', 'architecture', 'construction']\n",
            "['art', 'bien', b'\\x9cuvre', 'moderne', 'arts', 'artistes', 'hoffmann', 'russe', 'grand', 'fut']\n",
            "['dada', 'arp', 'art', 'esprit', 'peintre', 'peinture', 'tzara', 'paris', b'\\x9cuvre', 'bien']\n",
            "['art', 'ernst', b'\\xe9t\\xe9', 'bien', b'mus\\xe9e', 'max', b'\\x9cuvre', 'peinture', 'non', 'temps']\n",
            "['art', 'klee', 'kandinsky', b'\\x9cuvre', 'peinture', 'paul', 'bien', 'monde', b'\\x9cuvres', 'forme']\n",
            "['galerie', b'mus\\xe9e', 'collection', 'art', b'fran\\xe7ais', 'portrait', 'toiles', 'peintres', 'tableaux', 'renoir']\n",
            "['saint', b'si\\xe8cle', 'art', 'marks', b'cath\\xe9drale', 'exposition', 'bien', b'\\xe9glise', 'paris', 'reims']\n",
            "['art', 'bien', 'vie', 'exposition', 'meubles', 'salle', 'ensemble', 'ici', 'salon', 'artistes']\n",
            "['porcelaine', 'stuttgart', 'tableau', 'portrait', 'bien', 'manufacture', 'fond', 'architecture', 'maison', 'grande']\n",
            "['grand', 'art', 'vie', 'paris', 'temps', 'homme', 'bourdelle', 'bien', 'tableau', 'faut']\n",
            "['galerie', 'art', 'aujourd', 'bois', 'bien', b'\\xe9tudiants', 'section', 'temps', 'saint', 'rue']\n",
            "['art', 'grand', 'fut', b'mus\\xe9e', 'ecole', 'monet', 'prix', 'georges', 'artistes', b'\\xe9t\\xe9']\n"
          ]
        }
      ]
    },
    {
      "cell_type": "markdown",
      "source": [
        "We see that the scores and the topics definitely improved with the second passes ! \n",
        "\n",
        "Now, we will want to find the parameter that lead to optimal topics, regarding to the scores we have and to the topics themselves. To do that, we create a function that will help us compare different combinations of parameters and how well they scored, saving the results in a txt file."
      ],
      "metadata": {
        "id": "Iieozg4rRnQB"
      }
    },
    {
      "cell_type": "code",
      "source": [
        "def save_results():\n",
        "  # To save the results and parameters of the model in a .txt file\n",
        "  # NUM_TOPICS \n",
        "  # NUM_TOKENS\n",
        "  # TAU_DECORRELATOR\n",
        "  # TAU_PHI\n",
        "  # TAU_THETA\n",
        "  # Number of passes 1st step\n",
        "  # Number of passes 2nd step\n",
        "  # scores\n",
        "  # topics\n",
        "  name = \"FR_\" + str(NUM_TOPICS) + \"_\" + str(NUM_TOKENS) + \"_\" + str(TAU_DECORRELATOR) + \"_\" + str(TAU_PHI) + \"_\" + str(TAU_THETA)  + \"_\" + str(N_FIRST_PASSES) + \"_\" + str(N_SECOND_PASSES) + \".txt\"\n",
        "  with open(\"output/\" + name, \"a\") as f:\n",
        "    f.truncate(0)\n",
        "    f.writelines(\"NUM_TOPICS \" + str(NUM_TOPICS) + \"\\n\")\n",
        "    f.writelines(\"NUM_TOKENS \" + str(NUM_TOKENS) + \"\\n\")\n",
        "    f.writelines(\"TAU_DECORRELATOR \" + str(TAU_DECORRELATOR) + \"\\n\")\n",
        "    f.writelines(\"TAU_PHI \" + str(TAU_PHI) + \"\\n\")\n",
        "    f.writelines(\"TAU_THETA \" + str(TAU_THETA) + \"\\n\")\n",
        "    f.writelines(\"N_FIRST_PASSES \" + str(N_FIRST_PASSES) + \"\\n\")\n",
        "    f.writelines(\"N_SECOND_PASSES \" + str(N_SECOND_PASSES) + \"\\n\")\n",
        "\n",
        "    for score in model.score_tracker.keys():\n",
        "      if score != \"top_tokens_score\":\n",
        "        f.writelines(score + \" \" + str(model.score_tracker[score].last_value) + \"\\n\")\n",
        "    \n",
        "    f.writelines(\"====TOPICS====\\n\")\n",
        "    saved_top_tokens = model.score_tracker['top_tokens_score'].last_tokens\n",
        "\n",
        "    for topic_name in model.topic_names:\n",
        "      to_join = [str(w) for w in saved_top_tokens[topic_name]]\n",
        "      f.writelines(' '.join(to_join) + \"\\n\")\n"
      ],
      "metadata": {
        "id": "2cYZ4fbLl1-e"
      },
      "execution_count": 20,
      "outputs": []
    },
    {
      "cell_type": "code",
      "source": [
        "save_results()"
      ],
      "metadata": {
        "id": "q33ktvOetwbj"
      },
      "execution_count": 219,
      "outputs": []
    },
    {
      "cell_type": "markdown",
      "source": [
        "Then, let's play with the parameters to try to find optimal topics. "
      ],
      "metadata": {
        "id": "RTcd6t0mbS3-"
      }
    },
    {
      "cell_type": "code",
      "source": [
        "# Create function that does all the work in one go\n",
        "def train(idx_n_topics, idx_tau_dec, idx_tau_phi, idx_tau_theta):\n",
        "  print(f\"Training for {num_topics[idx_n_topics]} topics, with coefficients {taus_decorrelator[idx_tau_dec]}, {taus_phi[idx_tau_phi]} and {taus_theta[idx_tau_theta]}.\")\n",
        "  random.seed(0)\n",
        "  # ARTM model\n",
        "  # We choose here the number of topics that we want in our texts\n",
        "  model = artm.ARTM(num_topics=num_topics[idx_n_topics], dictionary=dictionary, cache_theta=False)\n",
        "  # Adding scores\n",
        "  model.scores.add(artm.PerplexityScore(name='perplexity_score', dictionary=dictionary))\n",
        "  model.scores.add(artm.SparsityPhiScore(name='sparsity_phi_score'))\n",
        "  model.scores.add(artm.SparsityThetaScore(name='sparsity_theta_score'))\n",
        "  # Adding regulaizers\n",
        "  model.regularizers.add(artm.DecorrelatorPhiRegularizer(name='decorrelator_phi_regularizer'))\n",
        "  model.regularizers['decorrelator_phi_regularizer'].tau = taus_decorrelator[idx_tau_dec]\n",
        "\n",
        "  # First passes\n",
        "  model.fit_offline(batch_vectorizer=batch_vectorizer, num_collection_passes=N_FIRST_PASSES)\n",
        "\n",
        "  # More regulaziers\n",
        "  model.regularizers.add(artm.SmoothSparsePhiRegularizer(name='sparse_phi_regularizer'))\n",
        "  model.regularizers.add(artm.SmoothSparseThetaRegularizer(name='sparse_theta_regularizer'))\n",
        "  model.regularizers['sparse_phi_regularizer'].tau = taus_phi[idx_tau_phi]\n",
        "  model.regularizers['sparse_theta_regularizer'].tau = taus_theta[idx_tau_theta]\n",
        "\n",
        "  # Last passes\n",
        "  model.fit_offline(batch_vectorizer=batch_vectorizer, num_collection_passes=N_SECOND_PASSES)\n",
        "\n",
        "  # Save scores\n",
        "  perplexs[idx_n_topics][idx_tau_dec][idx_tau_phi][idx_tau_theta] = model.score_tracker[\"perplexity_score\"].last_value\n",
        "  spars_phi[idx_n_topics][idx_tau_dec][idx_tau_phi][idx_tau_theta] = model.score_tracker[\"sparsity_phi_score\"].last_value\n",
        "  spars_theta[idx_n_topics][idx_tau_dec][idx_tau_phi][idx_tau_theta] = model.score_tracker[\"sparsity_theta_score\"].last_value"
      ],
      "metadata": {
        "id": "4gOF7Rv6i4Sb"
      },
      "execution_count": 10,
      "outputs": []
    },
    {
      "cell_type": "code",
      "source": [
        "# We will test 18, 20 and 22 topics\n",
        "num_topics = [18, 20, 22]\n",
        "# 4 different values for the tau decorrelator\n",
        "taus_decorrelator = [70000, 100000, 130000, 160000]\n",
        "# 4 different values for the tau phi\n",
        "taus_phi = [-0.85, -0.80, -0.75, -0.70]\n",
        "# 5 different values for the tau theta\n",
        "taus_theta = [-1.2, -1.1, -1, -0.9, -0.8]\n",
        "\n",
        "# Store results in arrays, all values initialized with -1\n",
        "perplexs = np.full((len(num_topics), len(taus_decorrelator), len(taus_phi), len(taus_theta)), -1.)\n",
        "spars_theta = np.full((len(num_topics), len(taus_decorrelator), len(taus_phi), len(taus_theta)), -1.)\n",
        "spars_phi = np.full((len(num_topics), len(taus_decorrelator), len(taus_phi), len(taus_theta)), -1.)"
      ],
      "metadata": {
        "id": "YO5zZ0pkySkb"
      },
      "execution_count": 17,
      "outputs": []
    },
    {
      "cell_type": "code",
      "source": [
        "for n_topics in range(len(num_topics)):\n",
        "  for tau_dec in range(len(taus_decorrelator)):\n",
        "    for tau_phi in range(len(taus_phi)):\n",
        "      for tau_theta in range(len(taus_theta)):\n",
        "         train(n_topics, tau_dec, tau_phi, tau_theta)"
      ],
      "metadata": {
        "colab": {
          "base_uri": "https://localhost:8080/"
        },
        "id": "13C_AI8LcyH6",
        "outputId": "60d67991-6dcf-429b-c296-6af2b180b4c1"
      },
      "execution_count": 18,
      "outputs": [
        {
          "output_type": "stream",
          "name": "stdout",
          "text": [
            "Training for 18 topics, with coefficients 70000, -0.85 and -1.2.\n",
            "Training for 18 topics, with coefficients 70000, -0.85 and -1.1.\n",
            "Training for 18 topics, with coefficients 70000, -0.85 and -1.\n",
            "Training for 18 topics, with coefficients 70000, -0.85 and -0.9.\n",
            "Training for 18 topics, with coefficients 70000, -0.85 and -0.8.\n",
            "Training for 18 topics, with coefficients 70000, -0.8 and -1.2.\n",
            "Training for 18 topics, with coefficients 70000, -0.8 and -1.1.\n",
            "Training for 18 topics, with coefficients 70000, -0.8 and -1.\n",
            "Training for 18 topics, with coefficients 70000, -0.8 and -0.9.\n",
            "Training for 18 topics, with coefficients 70000, -0.8 and -0.8.\n",
            "Training for 18 topics, with coefficients 70000, -0.75 and -1.2.\n",
            "Training for 18 topics, with coefficients 70000, -0.75 and -1.1.\n",
            "Training for 18 topics, with coefficients 70000, -0.75 and -1.\n",
            "Training for 18 topics, with coefficients 70000, -0.75 and -0.9.\n",
            "Training for 18 topics, with coefficients 70000, -0.75 and -0.8.\n",
            "Training for 18 topics, with coefficients 70000, -0.7 and -1.2.\n",
            "Training for 18 topics, with coefficients 70000, -0.7 and -1.1.\n",
            "Training for 18 topics, with coefficients 70000, -0.7 and -1.\n",
            "Training for 18 topics, with coefficients 70000, -0.7 and -0.9.\n",
            "Training for 18 topics, with coefficients 70000, -0.7 and -0.8.\n",
            "Training for 18 topics, with coefficients 100000, -0.85 and -1.2.\n",
            "Training for 18 topics, with coefficients 100000, -0.85 and -1.1.\n",
            "Training for 18 topics, with coefficients 100000, -0.85 and -1.\n",
            "Training for 18 topics, with coefficients 100000, -0.85 and -0.9.\n",
            "Training for 18 topics, with coefficients 100000, -0.85 and -0.8.\n",
            "Training for 18 topics, with coefficients 100000, -0.8 and -1.2.\n",
            "Training for 18 topics, with coefficients 100000, -0.8 and -1.1.\n",
            "Training for 18 topics, with coefficients 100000, -0.8 and -1.\n",
            "Training for 18 topics, with coefficients 100000, -0.8 and -0.9.\n",
            "Training for 18 topics, with coefficients 100000, -0.8 and -0.8.\n",
            "Training for 18 topics, with coefficients 100000, -0.75 and -1.2.\n",
            "Training for 18 topics, with coefficients 100000, -0.75 and -1.1.\n",
            "Training for 18 topics, with coefficients 100000, -0.75 and -1.\n",
            "Training for 18 topics, with coefficients 100000, -0.75 and -0.9.\n",
            "Training for 18 topics, with coefficients 100000, -0.75 and -0.8.\n",
            "Training for 18 topics, with coefficients 100000, -0.7 and -1.2.\n",
            "Training for 18 topics, with coefficients 100000, -0.7 and -1.1.\n",
            "Training for 18 topics, with coefficients 100000, -0.7 and -1.\n",
            "Training for 18 topics, with coefficients 100000, -0.7 and -0.9.\n",
            "Training for 18 topics, with coefficients 100000, -0.7 and -0.8.\n",
            "Training for 18 topics, with coefficients 130000, -0.85 and -1.2.\n",
            "Training for 18 topics, with coefficients 130000, -0.85 and -1.1.\n",
            "Training for 18 topics, with coefficients 130000, -0.85 and -1.\n",
            "Training for 18 topics, with coefficients 130000, -0.85 and -0.9.\n",
            "Training for 18 topics, with coefficients 130000, -0.85 and -0.8.\n",
            "Training for 18 topics, with coefficients 130000, -0.8 and -1.2.\n",
            "Training for 18 topics, with coefficients 130000, -0.8 and -1.1.\n",
            "Training for 18 topics, with coefficients 130000, -0.8 and -1.\n",
            "Training for 18 topics, with coefficients 130000, -0.8 and -0.9.\n",
            "Training for 18 topics, with coefficients 130000, -0.8 and -0.8.\n",
            "Training for 18 topics, with coefficients 130000, -0.75 and -1.2.\n",
            "Training for 18 topics, with coefficients 130000, -0.75 and -1.1.\n",
            "Training for 18 topics, with coefficients 130000, -0.75 and -1.\n",
            "Training for 18 topics, with coefficients 130000, -0.75 and -0.9.\n",
            "Training for 18 topics, with coefficients 130000, -0.75 and -0.8.\n",
            "Training for 18 topics, with coefficients 130000, -0.7 and -1.2.\n",
            "Training for 18 topics, with coefficients 130000, -0.7 and -1.1.\n",
            "Training for 18 topics, with coefficients 130000, -0.7 and -1.\n",
            "Training for 18 topics, with coefficients 130000, -0.7 and -0.9.\n",
            "Training for 18 topics, with coefficients 130000, -0.7 and -0.8.\n",
            "Training for 18 topics, with coefficients 160000, -0.85 and -1.2.\n",
            "Training for 18 topics, with coefficients 160000, -0.85 and -1.1.\n",
            "Training for 18 topics, with coefficients 160000, -0.85 and -1.\n",
            "Training for 18 topics, with coefficients 160000, -0.85 and -0.9.\n",
            "Training for 18 topics, with coefficients 160000, -0.85 and -0.8.\n",
            "Training for 18 topics, with coefficients 160000, -0.8 and -1.2.\n",
            "Training for 18 topics, with coefficients 160000, -0.8 and -1.1.\n",
            "Training for 18 topics, with coefficients 160000, -0.8 and -1.\n",
            "Training for 18 topics, with coefficients 160000, -0.8 and -0.9.\n",
            "Training for 18 topics, with coefficients 160000, -0.8 and -0.8.\n",
            "Training for 18 topics, with coefficients 160000, -0.75 and -1.2.\n",
            "Training for 18 topics, with coefficients 160000, -0.75 and -1.1.\n",
            "Training for 18 topics, with coefficients 160000, -0.75 and -1.\n",
            "Training for 18 topics, with coefficients 160000, -0.75 and -0.9.\n",
            "Training for 18 topics, with coefficients 160000, -0.75 and -0.8.\n",
            "Training for 18 topics, with coefficients 160000, -0.7 and -1.2.\n",
            "Training for 18 topics, with coefficients 160000, -0.7 and -1.1.\n",
            "Training for 18 topics, with coefficients 160000, -0.7 and -1.\n",
            "Training for 18 topics, with coefficients 160000, -0.7 and -0.9.\n",
            "Training for 18 topics, with coefficients 160000, -0.7 and -0.8.\n",
            "Training for 20 topics, with coefficients 70000, -0.85 and -1.2.\n",
            "Training for 20 topics, with coefficients 70000, -0.85 and -1.1.\n",
            "Training for 20 topics, with coefficients 70000, -0.85 and -1.\n",
            "Training for 20 topics, with coefficients 70000, -0.85 and -0.9.\n",
            "Training for 20 topics, with coefficients 70000, -0.85 and -0.8.\n",
            "Training for 20 topics, with coefficients 70000, -0.8 and -1.2.\n",
            "Training for 20 topics, with coefficients 70000, -0.8 and -1.1.\n",
            "Training for 20 topics, with coefficients 70000, -0.8 and -1.\n",
            "Training for 20 topics, with coefficients 70000, -0.8 and -0.9.\n",
            "Training for 20 topics, with coefficients 70000, -0.8 and -0.8.\n",
            "Training for 20 topics, with coefficients 70000, -0.75 and -1.2.\n",
            "Training for 20 topics, with coefficients 70000, -0.75 and -1.1.\n",
            "Training for 20 topics, with coefficients 70000, -0.75 and -1.\n",
            "Training for 20 topics, with coefficients 70000, -0.75 and -0.9.\n",
            "Training for 20 topics, with coefficients 70000, -0.75 and -0.8.\n",
            "Training for 20 topics, with coefficients 70000, -0.7 and -1.2.\n",
            "Training for 20 topics, with coefficients 70000, -0.7 and -1.1.\n",
            "Training for 20 topics, with coefficients 70000, -0.7 and -1.\n",
            "Training for 20 topics, with coefficients 70000, -0.7 and -0.9.\n",
            "Training for 20 topics, with coefficients 70000, -0.7 and -0.8.\n",
            "Training for 20 topics, with coefficients 100000, -0.85 and -1.2.\n",
            "Training for 20 topics, with coefficients 100000, -0.85 and -1.1.\n",
            "Training for 20 topics, with coefficients 100000, -0.85 and -1.\n",
            "Training for 20 topics, with coefficients 100000, -0.85 and -0.9.\n",
            "Training for 20 topics, with coefficients 100000, -0.85 and -0.8.\n",
            "Training for 20 topics, with coefficients 100000, -0.8 and -1.2.\n",
            "Training for 20 topics, with coefficients 100000, -0.8 and -1.1.\n",
            "Training for 20 topics, with coefficients 100000, -0.8 and -1.\n",
            "Training for 20 topics, with coefficients 100000, -0.8 and -0.9.\n",
            "Training for 20 topics, with coefficients 100000, -0.8 and -0.8.\n",
            "Training for 20 topics, with coefficients 100000, -0.75 and -1.2.\n",
            "Training for 20 topics, with coefficients 100000, -0.75 and -1.1.\n",
            "Training for 20 topics, with coefficients 100000, -0.75 and -1.\n",
            "Training for 20 topics, with coefficients 100000, -0.75 and -0.9.\n",
            "Training for 20 topics, with coefficients 100000, -0.75 and -0.8.\n",
            "Training for 20 topics, with coefficients 100000, -0.7 and -1.2.\n",
            "Training for 20 topics, with coefficients 100000, -0.7 and -1.1.\n",
            "Training for 20 topics, with coefficients 100000, -0.7 and -1.\n",
            "Training for 20 topics, with coefficients 100000, -0.7 and -0.9.\n",
            "Training for 20 topics, with coefficients 100000, -0.7 and -0.8.\n",
            "Training for 20 topics, with coefficients 130000, -0.85 and -1.2.\n",
            "Training for 20 topics, with coefficients 130000, -0.85 and -1.1.\n",
            "Training for 20 topics, with coefficients 130000, -0.85 and -1.\n",
            "Training for 20 topics, with coefficients 130000, -0.85 and -0.9.\n",
            "Training for 20 topics, with coefficients 130000, -0.85 and -0.8.\n",
            "Training for 20 topics, with coefficients 130000, -0.8 and -1.2.\n",
            "Training for 20 topics, with coefficients 130000, -0.8 and -1.1.\n",
            "Training for 20 topics, with coefficients 130000, -0.8 and -1.\n",
            "Training for 20 topics, with coefficients 130000, -0.8 and -0.9.\n",
            "Training for 20 topics, with coefficients 130000, -0.8 and -0.8.\n",
            "Training for 20 topics, with coefficients 130000, -0.75 and -1.2.\n",
            "Training for 20 topics, with coefficients 130000, -0.75 and -1.1.\n",
            "Training for 20 topics, with coefficients 130000, -0.75 and -1.\n",
            "Training for 20 topics, with coefficients 130000, -0.75 and -0.9.\n",
            "Training for 20 topics, with coefficients 130000, -0.75 and -0.8.\n",
            "Training for 20 topics, with coefficients 130000, -0.7 and -1.2.\n",
            "Training for 20 topics, with coefficients 130000, -0.7 and -1.1.\n",
            "Training for 20 topics, with coefficients 130000, -0.7 and -1.\n",
            "Training for 20 topics, with coefficients 130000, -0.7 and -0.9.\n",
            "Training for 20 topics, with coefficients 130000, -0.7 and -0.8.\n",
            "Training for 20 topics, with coefficients 160000, -0.85 and -1.2.\n",
            "Training for 20 topics, with coefficients 160000, -0.85 and -1.1.\n",
            "Training for 20 topics, with coefficients 160000, -0.85 and -1.\n",
            "Training for 20 topics, with coefficients 160000, -0.85 and -0.9.\n",
            "Training for 20 topics, with coefficients 160000, -0.85 and -0.8.\n",
            "Training for 20 topics, with coefficients 160000, -0.8 and -1.2.\n",
            "Training for 20 topics, with coefficients 160000, -0.8 and -1.1.\n",
            "Training for 20 topics, with coefficients 160000, -0.8 and -1.\n",
            "Training for 20 topics, with coefficients 160000, -0.8 and -0.9.\n",
            "Training for 20 topics, with coefficients 160000, -0.8 and -0.8.\n",
            "Training for 20 topics, with coefficients 160000, -0.75 and -1.2.\n",
            "Training for 20 topics, with coefficients 160000, -0.75 and -1.1.\n",
            "Training for 20 topics, with coefficients 160000, -0.75 and -1.\n",
            "Training for 20 topics, with coefficients 160000, -0.75 and -0.9.\n",
            "Training for 20 topics, with coefficients 160000, -0.75 and -0.8.\n",
            "Training for 20 topics, with coefficients 160000, -0.7 and -1.2.\n",
            "Training for 20 topics, with coefficients 160000, -0.7 and -1.1.\n",
            "Training for 20 topics, with coefficients 160000, -0.7 and -1.\n",
            "Training for 20 topics, with coefficients 160000, -0.7 and -0.9.\n",
            "Training for 20 topics, with coefficients 160000, -0.7 and -0.8.\n",
            "Training for 22 topics, with coefficients 70000, -0.85 and -1.2.\n",
            "Training for 22 topics, with coefficients 70000, -0.85 and -1.1.\n",
            "Training for 22 topics, with coefficients 70000, -0.85 and -1.\n",
            "Training for 22 topics, with coefficients 70000, -0.85 and -0.9.\n",
            "Training for 22 topics, with coefficients 70000, -0.85 and -0.8.\n",
            "Training for 22 topics, with coefficients 70000, -0.8 and -1.2.\n",
            "Training for 22 topics, with coefficients 70000, -0.8 and -1.1.\n",
            "Training for 22 topics, with coefficients 70000, -0.8 and -1.\n",
            "Training for 22 topics, with coefficients 70000, -0.8 and -0.9.\n",
            "Training for 22 topics, with coefficients 70000, -0.8 and -0.8.\n",
            "Training for 22 topics, with coefficients 70000, -0.75 and -1.2.\n",
            "Training for 22 topics, with coefficients 70000, -0.75 and -1.1.\n",
            "Training for 22 topics, with coefficients 70000, -0.75 and -1.\n",
            "Training for 22 topics, with coefficients 70000, -0.75 and -0.9.\n",
            "Training for 22 topics, with coefficients 70000, -0.75 and -0.8.\n",
            "Training for 22 topics, with coefficients 70000, -0.7 and -1.2.\n",
            "Training for 22 topics, with coefficients 70000, -0.7 and -1.1.\n",
            "Training for 22 topics, with coefficients 70000, -0.7 and -1.\n",
            "Training for 22 topics, with coefficients 70000, -0.7 and -0.9.\n",
            "Training for 22 topics, with coefficients 70000, -0.7 and -0.8.\n",
            "Training for 22 topics, with coefficients 100000, -0.85 and -1.2.\n",
            "Training for 22 topics, with coefficients 100000, -0.85 and -1.1.\n",
            "Training for 22 topics, with coefficients 100000, -0.85 and -1.\n",
            "Training for 22 topics, with coefficients 100000, -0.85 and -0.9.\n",
            "Training for 22 topics, with coefficients 100000, -0.85 and -0.8.\n",
            "Training for 22 topics, with coefficients 100000, -0.8 and -1.2.\n",
            "Training for 22 topics, with coefficients 100000, -0.8 and -1.1.\n",
            "Training for 22 topics, with coefficients 100000, -0.8 and -1.\n",
            "Training for 22 topics, with coefficients 100000, -0.8 and -0.9.\n",
            "Training for 22 topics, with coefficients 100000, -0.8 and -0.8.\n",
            "Training for 22 topics, with coefficients 100000, -0.75 and -1.2.\n",
            "Training for 22 topics, with coefficients 100000, -0.75 and -1.1.\n",
            "Training for 22 topics, with coefficients 100000, -0.75 and -1.\n",
            "Training for 22 topics, with coefficients 100000, -0.75 and -0.9.\n",
            "Training for 22 topics, with coefficients 100000, -0.75 and -0.8.\n",
            "Training for 22 topics, with coefficients 100000, -0.7 and -1.2.\n",
            "Training for 22 topics, with coefficients 100000, -0.7 and -1.1.\n",
            "Training for 22 topics, with coefficients 100000, -0.7 and -1.\n",
            "Training for 22 topics, with coefficients 100000, -0.7 and -0.9.\n",
            "Training for 22 topics, with coefficients 100000, -0.7 and -0.8.\n",
            "Training for 22 topics, with coefficients 130000, -0.85 and -1.2.\n",
            "Training for 22 topics, with coefficients 130000, -0.85 and -1.1.\n",
            "Training for 22 topics, with coefficients 130000, -0.85 and -1.\n",
            "Training for 22 topics, with coefficients 130000, -0.85 and -0.9.\n",
            "Training for 22 topics, with coefficients 130000, -0.85 and -0.8.\n",
            "Training for 22 topics, with coefficients 130000, -0.8 and -1.2.\n",
            "Training for 22 topics, with coefficients 130000, -0.8 and -1.1.\n",
            "Training for 22 topics, with coefficients 130000, -0.8 and -1.\n",
            "Training for 22 topics, with coefficients 130000, -0.8 and -0.9.\n",
            "Training for 22 topics, with coefficients 130000, -0.8 and -0.8.\n",
            "Training for 22 topics, with coefficients 130000, -0.75 and -1.2.\n",
            "Training for 22 topics, with coefficients 130000, -0.75 and -1.1.\n",
            "Training for 22 topics, with coefficients 130000, -0.75 and -1.\n",
            "Training for 22 topics, with coefficients 130000, -0.75 and -0.9.\n",
            "Training for 22 topics, with coefficients 130000, -0.75 and -0.8.\n",
            "Training for 22 topics, with coefficients 130000, -0.7 and -1.2.\n",
            "Training for 22 topics, with coefficients 130000, -0.7 and -1.1.\n",
            "Training for 22 topics, with coefficients 130000, -0.7 and -1.\n",
            "Training for 22 topics, with coefficients 130000, -0.7 and -0.9.\n",
            "Training for 22 topics, with coefficients 130000, -0.7 and -0.8.\n",
            "Training for 22 topics, with coefficients 160000, -0.85 and -1.2.\n",
            "Training for 22 topics, with coefficients 160000, -0.85 and -1.1.\n",
            "Training for 22 topics, with coefficients 160000, -0.85 and -1.\n",
            "Training for 22 topics, with coefficients 160000, -0.85 and -0.9.\n",
            "Training for 22 topics, with coefficients 160000, -0.85 and -0.8.\n",
            "Training for 22 topics, with coefficients 160000, -0.8 and -1.2.\n",
            "Training for 22 topics, with coefficients 160000, -0.8 and -1.1.\n",
            "Training for 22 topics, with coefficients 160000, -0.8 and -1.\n",
            "Training for 22 topics, with coefficients 160000, -0.8 and -0.9.\n",
            "Training for 22 topics, with coefficients 160000, -0.8 and -0.8.\n",
            "Training for 22 topics, with coefficients 160000, -0.75 and -1.2.\n",
            "Training for 22 topics, with coefficients 160000, -0.75 and -1.1.\n",
            "Training for 22 topics, with coefficients 160000, -0.75 and -1.\n",
            "Training for 22 topics, with coefficients 160000, -0.75 and -0.9.\n",
            "Training for 22 topics, with coefficients 160000, -0.75 and -0.8.\n",
            "Training for 22 topics, with coefficients 160000, -0.7 and -1.2.\n",
            "Training for 22 topics, with coefficients 160000, -0.7 and -1.1.\n",
            "Training for 22 topics, with coefficients 160000, -0.7 and -1.\n",
            "Training for 22 topics, with coefficients 160000, -0.7 and -0.9.\n",
            "Training for 22 topics, with coefficients 160000, -0.7 and -0.8.\n"
          ]
        }
      ]
    },
    {
      "cell_type": "code",
      "source": [
        "# We save all the scores\n",
        "with open('scores_perplexs_2.npy', 'wb') as f:\n",
        "    np.save(f, perplexs)\n",
        "with open('scores_spars_phi_2.npy', 'wb') as f:\n",
        "    np.save(f, spars_phi)\n",
        "with open('scores_spars_theta_2.npy', 'wb') as f:\n",
        "    np.save(f, spars_theta)"
      ],
      "metadata": {
        "id": "MH4vtdByeRHz"
      },
      "execution_count": 19,
      "outputs": []
    },
    {
      "cell_type": "markdown",
      "source": [
        "And now we look at the 100 best parameters combinations for each of the scores, and look at the intersection of these sets."
      ],
      "metadata": {
        "id": "iV6OrS4hUAfq"
      }
    },
    {
      "cell_type": "code",
      "source": [
        "# We will test 18, 20 and 22 topics (2)\n",
        "num_topics = [18, 20, 22] # 3 : 22, 24, 26\n",
        "# 4 different values for the tau decorrelator\n",
        "taus_decorrelator = [70000, 100000, 130000, 160000] # 3 : 120000, 130000, 140000\n",
        "# 4 different values for the tau phi\n",
        "taus_phi = [-0.85, -0.80, -0.75, -0.70] # 3 : -0.75, -0.775, -0.8\n",
        "# 5 different values for the tau theta\n",
        "taus_theta = [-1.2, -1.1, -1, -0.9, -0.8] # 3 : -0.9, -1, -1.1, -1.2\n",
        "\n",
        "import numpy as np\n",
        "perplexs = np.load('scores_perplexs_2.npy')\n",
        "spars_phi = np.load('scores_spars_phi_2.npy')\n",
        "spars_theta = np.load('scores_spars_theta_2.npy')"
      ],
      "metadata": {
        "id": "VIottC8CUdcL"
      },
      "execution_count": 92,
      "outputs": []
    },
    {
      "cell_type": "code",
      "source": [
        "best_75_perp = np.argsort(perplexs.flatten())[:75] # du plus petit au plus grand -> good\n",
        "best_75_spars_phi = np.argsort(spars_phi.flatten())[-75:]\n",
        "best_75_spars_theta = np.argsort(spars_theta.flatten())[-75:]\n",
        "\n",
        "from functools import reduce\n",
        "best_candidates = reduce(np.intersect1d, (best_75_perp, best_75_spars_phi, best_75_spars_theta))\n",
        "\n",
        "for idx in best_candidates:\n",
        "  un_idx = np.unravel_index(idx, perplexs.shape)\n",
        "  print(f\"Number of topics : {num_topics[un_idx[0]]}, Decorrelator : {taus_decorrelator[un_idx[1]]}, Tau Phi : {taus_phi[un_idx[2]]}, Tau Theta : {taus_theta[un_idx[3]]}\")"
      ],
      "metadata": {
        "colab": {
          "base_uri": "https://localhost:8080/"
        },
        "id": "jTNSl_dielu2",
        "outputId": "101d3ecb-e265-4496-c47a-0f6ad40d7861"
      },
      "execution_count": 95,
      "outputs": [
        {
          "output_type": "stream",
          "name": "stdout",
          "text": [
            "Number of topics : 22, Decorrelator : 70000, Tau Phi : -0.8, Tau Theta : -1.2\n",
            "Number of topics : 22, Decorrelator : 100000, Tau Phi : -0.8, Tau Theta : -1.2\n",
            "Number of topics : 22, Decorrelator : 100000, Tau Phi : -0.8, Tau Theta : -1.1\n",
            "Number of topics : 22, Decorrelator : 130000, Tau Phi : -0.75, Tau Theta : -1\n",
            "Number of topics : 22, Decorrelator : 160000, Tau Phi : -0.8, Tau Theta : -1.2\n",
            "Number of topics : 22, Decorrelator : 160000, Tau Phi : -0.75, Tau Theta : -1.1\n",
            "Number of topics : 22, Decorrelator : 160000, Tau Phi : -0.75, Tau Theta : -1\n",
            "Number of topics : 22, Decorrelator : 160000, Tau Phi : -0.75, Tau Theta : -0.9\n"
          ]
        }
      ]
    },
    {
      "cell_type": "markdown",
      "source": [
        "We choose one of these combinations to test on the dataset, and re-train the model with these parameters."
      ],
      "metadata": {
        "id": "43MhJce_lKiL"
      }
    },
    {
      "cell_type": "code",
      "source": [
        "random.seed(0)\n",
        "\n",
        "N_FIRST_PASSES = 13\n",
        "N_SECOND_PASSES = 13\n",
        "\n",
        "  # ARTM model\n",
        "  # We choose here the number of topics that we want in our texts\n",
        "model = artm.ARTM(num_topics=22, dictionary=dictionary, cache_theta=False)\n",
        "  # Adding scores\n",
        "model.scores.add(artm.PerplexityScore(name='perplexity_score', dictionary=dictionary))\n",
        "model.scores.add(artm.SparsityPhiScore(name='sparsity_phi_score'))\n",
        "model.scores.add(artm.SparsityThetaScore(name='sparsity_theta_score'))\n",
        "model.scores.add(artm.TopTokensScore(name='top_tokens_score'))\n",
        "  # Adding regulaizers\n",
        "model.regularizers.add(artm.DecorrelatorPhiRegularizer(name='decorrelator_phi_regularizer'))\n",
        "model.regularizers['decorrelator_phi_regularizer'].tau = 100000\n",
        "model.num_tokens = 12\n",
        "\n",
        "  # First passes\n",
        "model.fit_offline(batch_vectorizer=batch_vectorizer, num_collection_passes=N_FIRST_PASSES)\n",
        "\n",
        "  # More regulaziers\n",
        "model.regularizers.add(artm.SmoothSparsePhiRegularizer(name='sparse_phi_regularizer'))\n",
        "model.regularizers.add(artm.SmoothSparseThetaRegularizer(name='sparse_theta_regularizer'))\n",
        "model.regularizers['sparse_phi_regularizer'].tau = -0.8\n",
        "model.regularizers['sparse_theta_regularizer'].tau = -1.2\n",
        "\n",
        "  # Last passes\n",
        "model.fit_offline(batch_vectorizer=batch_vectorizer, num_collection_passes=N_SECOND_PASSES)"
      ],
      "metadata": {
        "id": "2jbPW56ypt1N"
      },
      "execution_count": 99,
      "outputs": []
    },
    {
      "cell_type": "code",
      "source": [
        "plot_scores(model.score_tracker)"
      ],
      "metadata": {
        "colab": {
          "base_uri": "https://localhost:8080/",
          "height": 540
        },
        "id": "KYUltmwXAwvf",
        "outputId": "8aa32e70-5694-4943-ffcd-eff1e880bc5e"
      },
      "execution_count": 100,
      "outputs": [
        {
          "output_type": "display_data",
          "data": {
            "text/plain": [
              "<Figure size 1152x576 with 4 Axes>"
            ],
            "image/png": "[encoded data removed]"
          },
          "metadata": {
            "needs_background": "light"
          }
        }
      ]
    },
    {
      "cell_type": "code",
      "source": [
        "print_topics()"
      ],
      "metadata": {
        "colab": {
          "base_uri": "https://localhost:8080/"
        },
        "id": "sHLlYaCPA7DL",
        "outputId": "0ac29386-231f-4d13-907e-3cc3c834341d"
      },
      "execution_count": 101,
      "outputs": [
        {
          "output_type": "stream",
          "name": "stdout",
          "text": [
            "[b'po\\xe8tes', b'fran\\xe7ais', 'france', 'voltaire', b'fran\\xe7aise', b'com\\xe9die', 'mois', b'pi\\xe8ce', 'industrie', 'mieux']\n",
            "['busch', b'th\\xe9\\xe2tre', 'faire', 'liebermann', 'lettre', 'soir', 'petit', 'coup', 'dessin', 'thiers']\n",
            "['courbet', 'collection', 'manet', 'tableau', 'portrait', 'leibl', b'\\x9cuvres', 'paysage', b'th\\xe9\\xe2tre', 'paris']\n",
            "[b'mus\\xe9e', b'mar\\xe9es', 'fut', 'hans', 'arts', b'mus\\xe9es', 'guerre', 'erler', 'bulletin', b'd\\xe9p\\xf4t']\n",
            "['peinture', 'artistes', 'durer', b'si\\xe8cle', 'oeuvre', 'vie', b'ma\\xeetre', b'mus\\xe9e', 'allemagne', 'saint']\n",
            "['peinture', 'exposition', 'galerie', 'artistes', 'peintre', 'peintres', b'\\x9cuvre', b'\\x9cuvres', 'paris', b'\\xe9t\\xe9']\n",
            "['paris', 'faire', 'juin', 'monde', b'\\x9cuvres', 'aujourd', b'fran\\xe7ais', 'ans', 'france', 'exposition']\n",
            "['holbein', 'dessins', b'mus\\xe9e', 'durer', 'portrait', 'portraits', 'dessin', 'oeuvre', b'g\\xe9nie', 'vischer']\n",
            "['maison', 'gropius', 'air', 'architecture', 'salle', b'fa\\xe7ade', 'vue', 'architecte', 'construction', 'maisons']\n",
            "['hoffmann', b'\\x9cuvre', 'russe', 'joseph', b'r\\xe9volution', 'goethe', 'moderne', 'sattler', 'nouvelle', 'formes']\n",
            "['dada', 'arp', 'esprit', 'ernst', 'tzara', 'peintre', b'po\\xe9sie', b'\\x9cuvre', b'po\\xe9tique', 'huelsenbeck']\n",
            "['ernst', 'max', 'rue', b'\\x9cuvre', b'mus\\xe9e', 'mme', 'homme', b'fran\\xe7ais', 'non', 'paris']\n",
            "['klee', 'kandinsky', 'monde', b'\\x9cuvre', 'paul', 'esprit', 'formes', 'peinture', 'forme', 'nature']\n",
            "[b'mus\\xe9e', 'galerie', b'fran\\xe7ais', 'portrait', 'collection', b'mus\\xe9es', 'tableaux', 'toiles', 'renoir', 'peintres']\n",
            "['saint', 'marks', 'reims', b'cath\\xe9drale', b'\\xe9glise', b'd\\xe9truit', 'vierge', 'martin', 'jawlensky', 'schongauer']\n",
            "['bien', 'grand', 'vie', b'\\xe9t\\xe9', 'temps', 'fut', 'exposition', 'ici', 'artistes', 'salle']\n",
            "['porcelaine', 'manufacture', 'stuttgart', 'photographie', 'pages', 'robe', b'fr\\xe9d\\xe9ric', 'texte', 'droite', 'mer']\n",
            "['paris', 'bourdelle', 'gimmi', 'homme', 'faut', 'faire', 'werner', 'hommes', 'tableau', 'amour']\n",
            "['galerie', 'saint', 'aujourd', 'section', 'bois', b'arm\\xe9e', 'lorraine', 'photographique', b'ch\\xe9ri', 'bibi']\n",
            "['ecole', 'monet', 'musset', 'conseil', 'dill', 'faut', 'ami', b'bougl\\xe9', 'normale', 'gustave']\n",
            "['lenbach', 'peintre', 'toile', 'couleur', 'homme', 'salon', 'toiles', 'fois', 'aujourd', 'jeune']\n",
            "['exposition', b'mus\\xe9e', b'si\\xe8cle', 'allemagne', 'grand', 'arts', 'artistes', b'\\xe9t\\xe9', 'fig', 'temps']\n"
          ]
        }
      ]
    },
    {
      "cell_type": "code",
      "source": [
        "save_results()"
      ],
      "metadata": {
        "id": "tNQQMv0BBHZS"
      },
      "execution_count": 86,
      "outputs": []
    },
    {
      "cell_type": "markdown",
      "source": [
        "Now, let's see how the topics are distributed and which documents belong to whcih topic, in order to do quick sanity checks."
      ],
      "metadata": {
        "id": "T5TAjybBn0Ac"
      }
    },
    {
      "cell_type": "code",
      "source": [
        "p_cd_test = model.transform(batch_vectorizer=batch_vectorizer)"
      ],
      "metadata": {
        "id": "bYAWa7icvjm-"
      },
      "execution_count": 102,
      "outputs": []
    },
    {
      "cell_type": "code",
      "source": [
        "p_cd_test"
      ],
      "metadata": {
        "colab": {
          "base_uri": "https://localhost:8080/",
          "height": 768
        },
        "id": "6dTY8gVg3brx",
        "outputId": "8ac53adb-9137-4fc4-871f-3e467a5ff95a"
      },
      "execution_count": 103,
      "outputs": [
        {
          "output_type": "execute_result",
          "data": {
            "text/plain": [
              "          14252     14253     14254     14256     14257     14258     14265  \\\n",
              "topic_0     0.0  0.000000  0.000000  0.000000  0.000000  0.000000  0.000000   \n",
              "topic_1     0.0  0.000000  0.645571  0.000000  0.000000  0.000000  0.000000   \n",
              "topic_2     0.0  0.000000  0.000000  0.000000  0.000000  0.000000  0.000000   \n",
              "topic_3     0.0  0.000000  0.000000  0.000000  0.000000  0.000000  0.566443   \n",
              "topic_4     0.0  0.000000  0.000000  0.106057  0.000000  0.000000  0.000000   \n",
              "topic_5     0.0  0.000000  0.000000  0.130646  0.066180  0.167459  0.000000   \n",
              "topic_6     0.0  0.000000  0.000000  0.000000  0.000000  0.000000  0.000000   \n",
              "topic_7     0.0  0.000000  0.000000  0.000000  0.000000  0.000000  0.000000   \n",
              "topic_8     0.0  0.000000  0.000000  0.000000  0.000000  0.000000  0.248624   \n",
              "topic_9     0.0  0.000000  0.000000  0.000000  0.000000  0.000000  0.000000   \n",
              "topic_10    0.0  0.076243  0.000000  0.201094  0.000000  0.000000  0.000000   \n",
              "topic_11    0.0  0.647805  0.000000  0.000000  0.793985  0.000000  0.000000   \n",
              "topic_12    0.0  0.239315  0.245394  0.201539  0.139834  0.000000  0.184933   \n",
              "topic_13    1.0  0.000000  0.000000  0.000000  0.000000  0.000000  0.000000   \n",
              "topic_14    0.0  0.000000  0.000000  0.321449  0.000000  0.000000  0.000000   \n",
              "topic_15    0.0  0.036637  0.040383  0.000000  0.000000  0.000000  0.000000   \n",
              "topic_16    0.0  0.000000  0.000000  0.000000  0.000000  0.000000  0.000000   \n",
              "topic_17    0.0  0.000000  0.068652  0.039215  0.000000  0.000000  0.000000   \n",
              "topic_18    0.0  0.000000  0.000000  0.000000  0.000000  0.000000  0.000000   \n",
              "topic_19    0.0  0.000000  0.000000  0.000000  0.000000  0.000000  0.000000   \n",
              "topic_20    0.0  0.000000  0.000000  0.000000  0.000000  0.832541  0.000000   \n",
              "topic_21    0.0  0.000000  0.000000  0.000000  0.000000  0.000000  0.000000   \n",
              "\n",
              "             14266  14267     14268  ...     16383     16384     16385  \\\n",
              "topic_0   0.000000    0.0  0.000000  ...  0.000000  0.000000  0.000000   \n",
              "topic_1   0.288750    0.0  0.000000  ...  0.000000  0.051404  0.000000   \n",
              "topic_2   0.000000    0.0  0.583223  ...  0.000000  0.000000  0.000000   \n",
              "topic_3   0.451396    0.0  0.018792  ...  0.000000  0.000000  0.000000   \n",
              "topic_4   0.000000    0.0  0.183963  ...  0.000000  0.000000  0.000000   \n",
              "topic_5   0.028429    0.0  0.056118  ...  0.017248  0.094605  0.680841   \n",
              "topic_6   0.000000    0.0  0.000000  ...  0.000000  0.000000  0.000000   \n",
              "topic_7   0.112363    0.0  0.000374  ...  0.000000  0.000000  0.000000   \n",
              "topic_8   0.000000    0.0  0.000000  ...  0.000000  0.000000  0.000000   \n",
              "topic_9   0.000000    0.0  0.000000  ...  0.000000  0.000000  0.000000   \n",
              "topic_10  0.000000    0.0  0.000000  ...  0.000000  0.021647  0.000000   \n",
              "topic_11  0.000000    0.0  0.000000  ...  0.000000  0.076095  0.000000   \n",
              "topic_12  0.000000    1.0  0.004798  ...  0.000000  0.094213  0.000000   \n",
              "topic_13  0.119061    0.0  0.089521  ...  0.000000  0.014270  0.000000   \n",
              "topic_14  0.000000    0.0  0.000000  ...  0.000000  0.000000  0.000000   \n",
              "topic_15  0.000000    0.0  0.024032  ...  0.000000  0.474945  0.319159   \n",
              "topic_16  0.000000    0.0  0.000000  ...  0.000000  0.000000  0.000000   \n",
              "topic_17  0.000000    0.0  0.000000  ...  0.000000  0.045231  0.000000   \n",
              "topic_18  0.000000    0.0  0.000000  ...  0.982752  0.117676  0.000000   \n",
              "topic_19  0.000000    0.0  0.000000  ...  0.000000  0.000000  0.000000   \n",
              "topic_20  0.000000    0.0  0.000000  ...  0.000000  0.009913  0.000000   \n",
              "topic_21  0.000000    0.0  0.039180  ...  0.000000  0.000000  0.000000   \n",
              "\n",
              "             16402     16429     16431     16432     16434     16435     16436  \n",
              "topic_0   0.052742  0.019248  0.000000  0.000000  0.000000  0.000000  0.000000  \n",
              "topic_1   0.025716  0.034363  0.000000  0.000000  0.000000  0.000000  0.000000  \n",
              "topic_2   0.000670  0.000000  0.000000  0.000000  0.000000  0.000000  0.000000  \n",
              "topic_3   0.002645  0.000000  0.000000  0.000000  0.000000  0.000000  0.000000  \n",
              "topic_4   0.021191  0.000000  0.000000  0.000000  0.052467  0.000000  0.000000  \n",
              "topic_5   0.065694  0.043993  0.234140  0.946622  0.015857  0.000245  0.271429  \n",
              "topic_6   0.022247  0.003250  0.047032  0.000000  0.000000  0.925438  0.000000  \n",
              "topic_7   0.001296  0.000000  0.000000  0.000000  0.000000  0.000000  0.000000  \n",
              "topic_8   0.016404  0.599941  0.000000  0.000000  0.000000  0.000000  0.000000  \n",
              "topic_9   0.000000  0.000000  0.408036  0.000000  0.000000  0.000000  0.000000  \n",
              "topic_10  0.008444  0.000000  0.022816  0.000000  0.000000  0.000000  0.000000  \n",
              "topic_11  0.044935  0.062272  0.057468  0.000000  0.767412  0.000000  0.580939  \n",
              "topic_12  0.067854  0.068048  0.021520  0.000546  0.030115  0.000000  0.046203  \n",
              "topic_13  0.463589  0.000000  0.015482  0.000000  0.000000  0.000000  0.026207  \n",
              "topic_14  0.000000  0.000000  0.000000  0.000000  0.000000  0.000000  0.000000  \n",
              "topic_15  0.067493  0.042873  0.020280  0.000000  0.058013  0.074318  0.075221  \n",
              "topic_16  0.000000  0.000000  0.000000  0.000000  0.000000  0.000000  0.000000  \n",
              "topic_17  0.036972  0.000000  0.000000  0.000000  0.000000  0.000000  0.000000  \n",
              "topic_18  0.038590  0.126012  0.160430  0.000000  0.076136  0.000000  0.000000  \n",
              "topic_19  0.000000  0.000000  0.000000  0.052832  0.000000  0.000000  0.000000  \n",
              "topic_20  0.063407  0.000000  0.000000  0.000000  0.000000  0.000000  0.000000  \n",
              "topic_21  0.000110  0.000000  0.012796  0.000000  0.000000  0.000000  0.000000  \n",
              "\n",
              "[22 rows x 394 columns]"
            ],
            "text/html": [
              "\n",
              "  <div id=\"df-93ef9b02-18cd-4457-8647-a8a1b9a38805\">\n",
              "    <div class=\"colab-df-container\">\n",
              "      <div>\n",
              "<style scoped>\n",
              "    .dataframe tbody tr th:only-of-type {\n",
              "        vertical-align: middle;\n",
              "    }\n",
              "\n",
              "    .dataframe tbody tr th {\n",
              "        vertical-align: top;\n",
              "    }\n",
              "\n",
              "    .dataframe thead th {\n",
              "        text-align: right;\n",
              "    }\n",
              "</style>\n",
              "<table border=\"1\" class=\"dataframe\">\n",
              "  <thead>\n",
              "    <tr style=\"text-align: right;\">\n",
              "      <th></th>\n",
              "      <th>14252</th>\n",
              "      <th>14253</th>\n",
              "      <th>14254</th>\n",
              "      <th>14256</th>\n",
              "      <th>14257</th>\n",
              "      <th>14258</th>\n",
              "      <th>14265</th>\n",
              "      <th>14266</th>\n",
              "      <th>14267</th>\n",
              "      <th>14268</th>\n",
              "      <th>...</th>\n",
              "      <th>16383</th>\n",
              "      <th>16384</th>\n",
              "      <th>16385</th>\n",
              "      <th>16402</th>\n",
              "      <th>16429</th>\n",
              "      <th>16431</th>\n",
              "      <th>16432</th>\n",
              "      <th>16434</th>\n",
              "      <th>16435</th>\n",
              "      <th>16436</th>\n",
              "    </tr>\n",
              "  </thead>\n",
              "  <tbody>\n",
              "    <tr>\n",
              "      <th>topic_0</th>\n",
              "      <td>0.0</td>\n",
              "      <td>0.000000</td>\n",
              "      <td>0.000000</td>\n",
              "      <td>0.000000</td>\n",
              "      <td>0.000000</td>\n",
              "      <td>0.000000</td>\n",
              "      <td>0.000000</td>\n",
              "      <td>0.000000</td>\n",
              "      <td>0.0</td>\n",
              "      <td>0.000000</td>\n",
              "      <td>...</td>\n",
              "      <td>0.000000</td>\n",
              "      <td>0.000000</td>\n",
              "      <td>0.000000</td>\n",
              "      <td>0.052742</td>\n",
              "      <td>0.019248</td>\n",
              "      <td>0.000000</td>\n",
              "      <td>0.000000</td>\n",
              "      <td>0.000000</td>\n",
              "      <td>0.000000</td>\n",
              "      <td>0.000000</td>\n",
              "    </tr>\n",
              "    <tr>\n",
              "      <th>topic_1</th>\n",
              "      <td>0.0</td>\n",
              "      <td>0.000000</td>\n",
              "      <td>0.645571</td>\n",
              "      <td>0.000000</td>\n",
              "      <td>0.000000</td>\n",
              "      <td>0.000000</td>\n",
              "      <td>0.000000</td>\n",
              "      <td>0.288750</td>\n",
              "      <td>0.0</td>\n",
              "      <td>0.000000</td>\n",
              "      <td>...</td>\n",
              "      <td>0.000000</td>\n",
              "      <td>0.051404</td>\n",
              "      <td>0.000000</td>\n",
              "      <td>0.025716</td>\n",
              "      <td>0.034363</td>\n",
              "      <td>0.000000</td>\n",
              "      <td>0.000000</td>\n",
              "      <td>0.000000</td>\n",
              "      <td>0.000000</td>\n",
              "      <td>0.000000</td>\n",
              "    </tr>\n",
              "    <tr>\n",
              "      <th>topic_2</th>\n",
              "      <td>0.0</td>\n",
              "      <td>0.000000</td>\n",
              "      <td>0.000000</td>\n",
              "      <td>0.000000</td>\n",
              "      <td>0.000000</td>\n",
              "      <td>0.000000</td>\n",
              "      <td>0.000000</td>\n",
              "      <td>0.000000</td>\n",
              "      <td>0.0</td>\n",
              "      <td>0.583223</td>\n",
              "      <td>...</td>\n",
              "      <td>0.000000</td>\n",
              "      <td>0.000000</td>\n",
              "      <td>0.000000</td>\n",
              "      <td>0.000670</td>\n",
              "      <td>0.000000</td>\n",
              "      <td>0.000000</td>\n",
              "      <td>0.000000</td>\n",
              "      <td>0.000000</td>\n",
              "      <td>0.000000</td>\n",
              "      <td>0.000000</td>\n",
              "    </tr>\n",
              "    <tr>\n",
              "      <th>topic_3</th>\n",
              "      <td>0.0</td>\n",
              "      <td>0.000000</td>\n",
              "      <td>0.000000</td>\n",
              "      <td>0.000000</td>\n",
              "      <td>0.000000</td>\n",
              "      <td>0.000000</td>\n",
              "      <td>0.566443</td>\n",
              "      <td>0.451396</td>\n",
              "      <td>0.0</td>\n",
              "      <td>0.018792</td>\n",
              "      <td>...</td>\n",
              "      <td>0.000000</td>\n",
              "      <td>0.000000</td>\n",
              "      <td>0.000000</td>\n",
              "      <td>0.002645</td>\n",
              "      <td>0.000000</td>\n",
              "      <td>0.000000</td>\n",
              "      <td>0.000000</td>\n",
              "      <td>0.000000</td>\n",
              "      <td>0.000000</td>\n",
              "      <td>0.000000</td>\n",
              "    </tr>\n",
              "    <tr>\n",
              "      <th>topic_4</th>\n",
              "      <td>0.0</td>\n",
              "      <td>0.000000</td>\n",
              "      <td>0.000000</td>\n",
              "      <td>0.106057</td>\n",
              "      <td>0.000000</td>\n",
              "      <td>0.000000</td>\n",
              "      <td>0.000000</td>\n",
              "      <td>0.000000</td>\n",
              "      <td>0.0</td>\n",
              "      <td>0.183963</td>\n",
              "      <td>...</td>\n",
              "      <td>0.000000</td>\n",
              "      <td>0.000000</td>\n",
              "      <td>0.000000</td>\n",
              "      <td>0.021191</td>\n",
              "      <td>0.000000</td>\n",
              "      <td>0.000000</td>\n",
              "      <td>0.000000</td>\n",
              "      <td>0.052467</td>\n",
              "      <td>0.000000</td>\n",
              "      <td>0.000000</td>\n",
              "    </tr>\n",
              "    <tr>\n",
              "      <th>topic_5</th>\n",
              "      <td>0.0</td>\n",
              "      <td>0.000000</td>\n",
              "      <td>0.000000</td>\n",
              "      <td>0.130646</td>\n",
              "      <td>0.066180</td>\n",
              "      <td>0.167459</td>\n",
              "      <td>0.000000</td>\n",
              "      <td>0.028429</td>\n",
              "      <td>0.0</td>\n",
              "      <td>0.056118</td>\n",
              "      <td>...</td>\n",
              "      <td>0.017248</td>\n",
              "      <td>0.094605</td>\n",
              "      <td>0.680841</td>\n",
              "      <td>0.065694</td>\n",
              "      <td>0.043993</td>\n",
              "      <td>0.234140</td>\n",
              "      <td>0.946622</td>\n",
              "      <td>0.015857</td>\n",
              "      <td>0.000245</td>\n",
              "      <td>0.271429</td>\n",
              "    </tr>\n",
              "    <tr>\n",
              "      <th>topic_6</th>\n",
              "      <td>0.0</td>\n",
              "      <td>0.000000</td>\n",
              "      <td>0.000000</td>\n",
              "      <td>0.000000</td>\n",
              "      <td>0.000000</td>\n",
              "      <td>0.000000</td>\n",
              "      <td>0.000000</td>\n",
              "      <td>0.000000</td>\n",
              "      <td>0.0</td>\n",
              "      <td>0.000000</td>\n",
              "      <td>...</td>\n",
              "      <td>0.000000</td>\n",
              "      <td>0.000000</td>\n",
              "      <td>0.000000</td>\n",
              "      <td>0.022247</td>\n",
              "      <td>0.003250</td>\n",
              "      <td>0.047032</td>\n",
              "      <td>0.000000</td>\n",
              "      <td>0.000000</td>\n",
              "      <td>0.925438</td>\n",
              "      <td>0.000000</td>\n",
              "    </tr>\n",
              "    <tr>\n",
              "      <th>topic_7</th>\n",
              "      <td>0.0</td>\n",
              "      <td>0.000000</td>\n",
              "      <td>0.000000</td>\n",
              "      <td>0.000000</td>\n",
              "      <td>0.000000</td>\n",
              "      <td>0.000000</td>\n",
              "      <td>0.000000</td>\n",
              "      <td>0.112363</td>\n",
              "      <td>0.0</td>\n",
              "      <td>0.000374</td>\n",
              "      <td>...</td>\n",
              "      <td>0.000000</td>\n",
              "      <td>0.000000</td>\n",
              "      <td>0.000000</td>\n",
              "      <td>0.001296</td>\n",
              "      <td>0.000000</td>\n",
              "      <td>0.000000</td>\n",
              "      <td>0.000000</td>\n",
              "      <td>0.000000</td>\n",
              "      <td>0.000000</td>\n",
              "      <td>0.000000</td>\n",
              "    </tr>\n",
              "    <tr>\n",
              "      <th>topic_8</th>\n",
              "      <td>0.0</td>\n",
              "      <td>0.000000</td>\n",
              "      <td>0.000000</td>\n",
              "      <td>0.000000</td>\n",
              "      <td>0.000000</td>\n",
              "      <td>0.000000</td>\n",
              "      <td>0.248624</td>\n",
              "      <td>0.000000</td>\n",
              "      <td>0.0</td>\n",
              "      <td>0.000000</td>\n",
              "      <td>...</td>\n",
              "      <td>0.000000</td>\n",
              "      <td>0.000000</td>\n",
              "      <td>0.000000</td>\n",
              "      <td>0.016404</td>\n",
              "      <td>0.599941</td>\n",
              "      <td>0.000000</td>\n",
              "      <td>0.000000</td>\n",
              "      <td>0.000000</td>\n",
              "      <td>0.000000</td>\n",
              "      <td>0.000000</td>\n",
              "    </tr>\n",
              "    <tr>\n",
              "      <th>topic_9</th>\n",
              "      <td>0.0</td>\n",
              "      <td>0.000000</td>\n",
              "      <td>0.000000</td>\n",
              "      <td>0.000000</td>\n",
              "      <td>0.000000</td>\n",
              "      <td>0.000000</td>\n",
              "      <td>0.000000</td>\n",
              "      <td>0.000000</td>\n",
              "      <td>0.0</td>\n",
              "      <td>0.000000</td>\n",
              "      <td>...</td>\n",
              "      <td>0.000000</td>\n",
              "      <td>0.000000</td>\n",
              "      <td>0.000000</td>\n",
              "      <td>0.000000</td>\n",
              "      <td>0.000000</td>\n",
              "      <td>0.408036</td>\n",
              "      <td>0.000000</td>\n",
              "      <td>0.000000</td>\n",
              "      <td>0.000000</td>\n",
              "      <td>0.000000</td>\n",
              "    </tr>\n",
              "    <tr>\n",
              "      <th>topic_10</th>\n",
              "      <td>0.0</td>\n",
              "      <td>0.076243</td>\n",
              "      <td>0.000000</td>\n",
              "      <td>0.201094</td>\n",
              "      <td>0.000000</td>\n",
              "      <td>0.000000</td>\n",
              "      <td>0.000000</td>\n",
              "      <td>0.000000</td>\n",
              "      <td>0.0</td>\n",
              "      <td>0.000000</td>\n",
              "      <td>...</td>\n",
              "      <td>0.000000</td>\n",
              "      <td>0.021647</td>\n",
              "      <td>0.000000</td>\n",
              "      <td>0.008444</td>\n",
              "      <td>0.000000</td>\n",
              "      <td>0.022816</td>\n",
              "      <td>0.000000</td>\n",
              "      <td>0.000000</td>\n",
              "      <td>0.000000</td>\n",
              "      <td>0.000000</td>\n",
              "    </tr>\n",
              "    <tr>\n",
              "      <th>topic_11</th>\n",
              "      <td>0.0</td>\n",
              "      <td>0.647805</td>\n",
              "      <td>0.000000</td>\n",
              "      <td>0.000000</td>\n",
              "      <td>0.793985</td>\n",
              "      <td>0.000000</td>\n",
              "      <td>0.000000</td>\n",
              "      <td>0.000000</td>\n",
              "      <td>0.0</td>\n",
              "      <td>0.000000</td>\n",
              "      <td>...</td>\n",
              "      <td>0.000000</td>\n",
              "      <td>0.076095</td>\n",
              "      <td>0.000000</td>\n",
              "      <td>0.044935</td>\n",
              "      <td>0.062272</td>\n",
              "      <td>0.057468</td>\n",
              "      <td>0.000000</td>\n",
              "      <td>0.767412</td>\n",
              "      <td>0.000000</td>\n",
              "      <td>0.580939</td>\n",
              "    </tr>\n",
              "    <tr>\n",
              "      <th>topic_12</th>\n",
              "      <td>0.0</td>\n",
              "      <td>0.239315</td>\n",
              "      <td>0.245394</td>\n",
              "      <td>0.201539</td>\n",
              "      <td>0.139834</td>\n",
              "      <td>0.000000</td>\n",
              "      <td>0.184933</td>\n",
              "      <td>0.000000</td>\n",
              "      <td>1.0</td>\n",
              "      <td>0.004798</td>\n",
              "      <td>...</td>\n",
              "      <td>0.000000</td>\n",
              "      <td>0.094213</td>\n",
              "      <td>0.000000</td>\n",
              "      <td>0.067854</td>\n",
              "      <td>0.068048</td>\n",
              "      <td>0.021520</td>\n",
              "      <td>0.000546</td>\n",
              "      <td>0.030115</td>\n",
              "      <td>0.000000</td>\n",
              "      <td>0.046203</td>\n",
              "    </tr>\n",
              "    <tr>\n",
              "      <th>topic_13</th>\n",
              "      <td>1.0</td>\n",
              "      <td>0.000000</td>\n",
              "      <td>0.000000</td>\n",
              "      <td>0.000000</td>\n",
              "      <td>0.000000</td>\n",
              "      <td>0.000000</td>\n",
              "      <td>0.000000</td>\n",
              "      <td>0.119061</td>\n",
              "      <td>0.0</td>\n",
              "      <td>0.089521</td>\n",
              "      <td>...</td>\n",
              "      <td>0.000000</td>\n",
              "      <td>0.014270</td>\n",
              "      <td>0.000000</td>\n",
              "      <td>0.463589</td>\n",
              "      <td>0.000000</td>\n",
              "      <td>0.015482</td>\n",
              "      <td>0.000000</td>\n",
              "      <td>0.000000</td>\n",
              "      <td>0.000000</td>\n",
              "      <td>0.026207</td>\n",
              "    </tr>\n",
              "    <tr>\n",
              "      <th>topic_14</th>\n",
              "      <td>0.0</td>\n",
              "      <td>0.000000</td>\n",
              "      <td>0.000000</td>\n",
              "      <td>0.321449</td>\n",
              "      <td>0.000000</td>\n",
              "      <td>0.000000</td>\n",
              "      <td>0.000000</td>\n",
              "      <td>0.000000</td>\n",
              "      <td>0.0</td>\n",
              "      <td>0.000000</td>\n",
              "      <td>...</td>\n",
              "      <td>0.000000</td>\n",
              "      <td>0.000000</td>\n",
              "      <td>0.000000</td>\n",
              "      <td>0.000000</td>\n",
              "      <td>0.000000</td>\n",
              "      <td>0.000000</td>\n",
              "      <td>0.000000</td>\n",
              "      <td>0.000000</td>\n",
              "      <td>0.000000</td>\n",
              "      <td>0.000000</td>\n",
              "    </tr>\n",
              "    <tr>\n",
              "      <th>topic_15</th>\n",
              "      <td>0.0</td>\n",
              "      <td>0.036637</td>\n",
              "      <td>0.040383</td>\n",
              "      <td>0.000000</td>\n",
              "      <td>0.000000</td>\n",
              "      <td>0.000000</td>\n",
              "      <td>0.000000</td>\n",
              "      <td>0.000000</td>\n",
              "      <td>0.0</td>\n",
              "      <td>0.024032</td>\n",
              "      <td>...</td>\n",
              "      <td>0.000000</td>\n",
              "      <td>0.474945</td>\n",
              "      <td>0.319159</td>\n",
              "      <td>0.067493</td>\n",
              "      <td>0.042873</td>\n",
              "      <td>0.020280</td>\n",
              "      <td>0.000000</td>\n",
              "      <td>0.058013</td>\n",
              "      <td>0.074318</td>\n",
              "      <td>0.075221</td>\n",
              "    </tr>\n",
              "    <tr>\n",
              "      <th>topic_16</th>\n",
              "      <td>0.0</td>\n",
              "      <td>0.000000</td>\n",
              "      <td>0.000000</td>\n",
              "      <td>0.000000</td>\n",
              "      <td>0.000000</td>\n",
              "      <td>0.000000</td>\n",
              "      <td>0.000000</td>\n",
              "      <td>0.000000</td>\n",
              "      <td>0.0</td>\n",
              "      <td>0.000000</td>\n",
              "      <td>...</td>\n",
              "      <td>0.000000</td>\n",
              "      <td>0.000000</td>\n",
              "      <td>0.000000</td>\n",
              "      <td>0.000000</td>\n",
              "      <td>0.000000</td>\n",
              "      <td>0.000000</td>\n",
              "      <td>0.000000</td>\n",
              "      <td>0.000000</td>\n",
              "      <td>0.000000</td>\n",
              "      <td>0.000000</td>\n",
              "    </tr>\n",
              "    <tr>\n",
              "      <th>topic_17</th>\n",
              "      <td>0.0</td>\n",
              "      <td>0.000000</td>\n",
              "      <td>0.068652</td>\n",
              "      <td>0.039215</td>\n",
              "      <td>0.000000</td>\n",
              "      <td>0.000000</td>\n",
              "      <td>0.000000</td>\n",
              "      <td>0.000000</td>\n",
              "      <td>0.0</td>\n",
              "      <td>0.000000</td>\n",
              "      <td>...</td>\n",
              "      <td>0.000000</td>\n",
              "      <td>0.045231</td>\n",
              "      <td>0.000000</td>\n",
              "      <td>0.036972</td>\n",
              "      <td>0.000000</td>\n",
              "      <td>0.000000</td>\n",
              "      <td>0.000000</td>\n",
              "      <td>0.000000</td>\n",
              "      <td>0.000000</td>\n",
              "      <td>0.000000</td>\n",
              "    </tr>\n",
              "    <tr>\n",
              "      <th>topic_18</th>\n",
              "      <td>0.0</td>\n",
              "      <td>0.000000</td>\n",
              "      <td>0.000000</td>\n",
              "      <td>0.000000</td>\n",
              "      <td>0.000000</td>\n",
              "      <td>0.000000</td>\n",
              "      <td>0.000000</td>\n",
              "      <td>0.000000</td>\n",
              "      <td>0.0</td>\n",
              "      <td>0.000000</td>\n",
              "      <td>...</td>\n",
              "      <td>0.982752</td>\n",
              "      <td>0.117676</td>\n",
              "      <td>0.000000</td>\n",
              "      <td>0.038590</td>\n",
              "      <td>0.126012</td>\n",
              "      <td>0.160430</td>\n",
              "      <td>0.000000</td>\n",
              "      <td>0.076136</td>\n",
              "      <td>0.000000</td>\n",
              "      <td>0.000000</td>\n",
              "    </tr>\n",
              "    <tr>\n",
              "      <th>topic_19</th>\n",
              "      <td>0.0</td>\n",
              "      <td>0.000000</td>\n",
              "      <td>0.000000</td>\n",
              "      <td>0.000000</td>\n",
              "      <td>0.000000</td>\n",
              "      <td>0.000000</td>\n",
              "      <td>0.000000</td>\n",
              "      <td>0.000000</td>\n",
              "      <td>0.0</td>\n",
              "      <td>0.000000</td>\n",
              "      <td>...</td>\n",
              "      <td>0.000000</td>\n",
              "      <td>0.000000</td>\n",
              "      <td>0.000000</td>\n",
              "      <td>0.000000</td>\n",
              "      <td>0.000000</td>\n",
              "      <td>0.000000</td>\n",
              "      <td>0.052832</td>\n",
              "      <td>0.000000</td>\n",
              "      <td>0.000000</td>\n",
              "      <td>0.000000</td>\n",
              "    </tr>\n",
              "    <tr>\n",
              "      <th>topic_20</th>\n",
              "      <td>0.0</td>\n",
              "      <td>0.000000</td>\n",
              "      <td>0.000000</td>\n",
              "      <td>0.000000</td>\n",
              "      <td>0.000000</td>\n",
              "      <td>0.832541</td>\n",
              "      <td>0.000000</td>\n",
              "      <td>0.000000</td>\n",
              "      <td>0.0</td>\n",
              "      <td>0.000000</td>\n",
              "      <td>...</td>\n",
              "      <td>0.000000</td>\n",
              "      <td>0.009913</td>\n",
              "      <td>0.000000</td>\n",
              "      <td>0.063407</td>\n",
              "      <td>0.000000</td>\n",
              "      <td>0.000000</td>\n",
              "      <td>0.000000</td>\n",
              "      <td>0.000000</td>\n",
              "      <td>0.000000</td>\n",
              "      <td>0.000000</td>\n",
              "    </tr>\n",
              "    <tr>\n",
              "      <th>topic_21</th>\n",
              "      <td>0.0</td>\n",
              "      <td>0.000000</td>\n",
              "      <td>0.000000</td>\n",
              "      <td>0.000000</td>\n",
              "      <td>0.000000</td>\n",
              "      <td>0.000000</td>\n",
              "      <td>0.000000</td>\n",
              "      <td>0.000000</td>\n",
              "      <td>0.0</td>\n",
              "      <td>0.039180</td>\n",
              "      <td>...</td>\n",
              "      <td>0.000000</td>\n",
              "      <td>0.000000</td>\n",
              "      <td>0.000000</td>\n",
              "      <td>0.000110</td>\n",
              "      <td>0.000000</td>\n",
              "      <td>0.012796</td>\n",
              "      <td>0.000000</td>\n",
              "      <td>0.000000</td>\n",
              "      <td>0.000000</td>\n",
              "      <td>0.000000</td>\n",
              "    </tr>\n",
              "  </tbody>\n",
              "</table>\n",
              "<p>22 rows × 394 columns</p>\n",
              "</div>\n",
              "      <button class=\"colab-df-convert\" onclick=\"convertToInteractive('df-93ef9b02-18cd-4457-8647-a8a1b9a38805')\"\n",
              "              title=\"Convert this dataframe to an interactive table.\"\n",
              "              style=\"display:none;\">\n",
              "        \n",
              "  <svg xmlns=\"http://www.w3.org/2000/svg\" height=\"24px\"viewBox=\"0 0 24 24\"\n",
              "       width=\"24px\">\n",
              "    <path d=\"M0 0h24v24H0V0z\" fill=\"none\"/>\n",
              "    <path d=\"M18.56 5.44l.94 2.06.94-2.06 2.06-.94-2.06-.94-.94-2.06-.94 2.06-2.06.94zm-11 1L8.5 8.5l.94-2.06 2.06-.94-2.06-.94L8.5 2.5l-.94 2.06-2.06.94zm10 10l.94 2.06.94-2.06 2.06-.94-2.06-.94-.94-2.06-.94 2.06-2.06.94z\"/><path d=\"M17.41 7.96l-1.37-1.37c-.4-.4-.92-.59-1.43-.59-.52 0-1.04.2-1.43.59L10.3 9.45l-7.72 7.72c-.78.78-.78 2.05 0 2.83L4 21.41c.39.39.9.59 1.41.59.51 0 1.02-.2 1.41-.59l7.78-7.78 2.81-2.81c.8-.78.8-2.07 0-2.86zM5.41 20L4 18.59l7.72-7.72 1.47 1.35L5.41 20z\"/>\n",
              "  </svg>\n",
              "      </button>\n",
              "      \n",
              "  <style>\n",
              "    .colab-df-container {\n",
              "      display:flex;\n",
              "      flex-wrap:wrap;\n",
              "      gap: 12px;\n",
              "    }\n",
              "\n",
              "    .colab-df-convert {\n",
              "      background-color: #E8F0FE;\n",
              "      border: none;\n",
              "      border-radius: 50%;\n",
              "      cursor: pointer;\n",
              "      display: none;\n",
              "      fill: #1967D2;\n",
              "      height: 32px;\n",
              "      padding: 0 0 0 0;\n",
              "      width: 32px;\n",
              "    }\n",
              "\n",
              "    .colab-df-convert:hover {\n",
              "      background-color: #E2EBFA;\n",
              "      box-shadow: 0px 1px 2px rgba(60, 64, 67, 0.3), 0px 1px 3px 1px rgba(60, 64, 67, 0.15);\n",
              "      fill: #174EA6;\n",
              "    }\n",
              "\n",
              "    [theme=dark] .colab-df-convert {\n",
              "      background-color: #3B4455;\n",
              "      fill: #D2E3FC;\n",
              "    }\n",
              "\n",
              "    [theme=dark] .colab-df-convert:hover {\n",
              "      background-color: #434B5C;\n",
              "      box-shadow: 0px 1px 3px 1px rgba(0, 0, 0, 0.15);\n",
              "      filter: drop-shadow(0px 1px 2px rgba(0, 0, 0, 0.3));\n",
              "      fill: #FFFFFF;\n",
              "    }\n",
              "  </style>\n",
              "\n",
              "      <script>\n",
              "        const buttonEl =\n",
              "          document.querySelector('#df-93ef9b02-18cd-4457-8647-a8a1b9a38805 button.colab-df-convert');\n",
              "        buttonEl.style.display =\n",
              "          google.colab.kernel.accessAllowed ? 'block' : 'none';\n",
              "\n",
              "        async function convertToInteractive(key) {\n",
              "          const element = document.querySelector('#df-93ef9b02-18cd-4457-8647-a8a1b9a38805');\n",
              "          const dataTable =\n",
              "            await google.colab.kernel.invokeFunction('convertToInteractive',\n",
              "                                                     [key], {});\n",
              "          if (!dataTable) return;\n",
              "\n",
              "          const docLinkHtml = 'Like what you see? Visit the ' +\n",
              "            '<a target=\"_blank\" href=https://colab.research.google.com/notebooks/data_table.ipynb>data table notebook</a>'\n",
              "            + ' to learn more about interactive tables.';\n",
              "          element.innerHTML = '';\n",
              "          dataTable['output_type'] = 'display_data';\n",
              "          await google.colab.output.renderOutput(dataTable, element);\n",
              "          const docLink = document.createElement('div');\n",
              "          docLink.innerHTML = docLinkHtml;\n",
              "          element.appendChild(docLink);\n",
              "        }\n",
              "      </script>\n",
              "    </div>\n",
              "  </div>\n",
              "  "
            ]
          },
          "metadata": {},
          "execution_count": 103
        }
      ]
    },
    {
      "cell_type": "markdown",
      "source": [
        "We print the number of document per topics"
      ],
      "metadata": {
        "id": "B60i198uoL1M"
      }
    },
    {
      "cell_type": "code",
      "source": [
        "pd.DataFrame(p_cd_test.idxmax(axis=0)).rename(columns={0: \"topic\"}).value_counts()"
      ],
      "metadata": {
        "colab": {
          "base_uri": "https://localhost:8080/"
        },
        "id": "1IxQX-Z943ND",
        "outputId": "d331568d-14bb-4693-9097-23620c4dd329"
      },
      "execution_count": 48,
      "outputs": [
        {
          "output_type": "execute_result",
          "data": {
            "text/plain": [
              "topic   \n",
              "topic_5     33\n",
              "topic_12    27\n",
              "topic_21    27\n",
              "topic_2     24\n",
              "topic_13    22\n",
              "topic_3     19\n",
              "topic_9     18\n",
              "topic_6     18\n",
              "topic_8     17\n",
              "topic_11    17\n",
              "topic_7     17\n",
              "topic_20    17\n",
              "topic_19    16\n",
              "topic_17    16\n",
              "topic_10    16\n",
              "topic_18    15\n",
              "topic_14    14\n",
              "topic_4     13\n",
              "topic_1     12\n",
              "topic_16    12\n",
              "topic_15    12\n",
              "topic_0     12\n",
              "dtype: int64"
            ]
          },
          "metadata": {},
          "execution_count": 48
        }
      ]
    },
    {
      "cell_type": "code",
      "source": [
        "# To decode a word with special caracters like accents\n",
        "#(b'mar\\xe9es').decode(\"latin-1\") "
      ],
      "metadata": {
        "id": "IWTQLvNgNpZa"
      },
      "execution_count": 104,
      "outputs": []
    },
    {
      "cell_type": "markdown",
      "source": [
        "And we try to come up with names for the topics"
      ],
      "metadata": {
        "id": "uYUPjvkSoWxE"
      }
    },
    {
      "cell_type": "code",
      "source": [
        "topic_names = {\n",
        "    \"topic_0\" : \"french theater/poetry\",\n",
        "    \"topic_1\" : \"various topics\",\n",
        "    \"topic_2\" : \"XIX french painters\",\n",
        "    \"topic_3\" : \"art guerre/femmes somehow\",\n",
        "    \"topic_4\" : \"impressionisme?\",\n",
        "    \"topic_5\" : \"french exhibitions\",\n",
        "    \"topic_6\" : \"french exhibitions\",\n",
        "    \"topic_7\" : \"german painters/engravers\",\n",
        "    \"topic_8\" : \"building architecture\",\n",
        "    \"topic_9\" : \"russia TODO\",\n",
        "    \"topic_10\" : \"dada\",\n",
        "    \"topic_11\" : \"TODO\",\n",
        "    \"topic_12\" : \"abstract art\",\n",
        "    \"topic_13\" : \"TODO\",\n",
        "    \"topic_14\" : \"religion/cathedrals\",\n",
        "    \"topic_15\" : \"TODO\",\n",
        "    \"topic_16\" : \"handicraft\",\n",
        "    \"topic_17\" : \"TODO\",\n",
        "    \"topic_18\" : \"TODO\",\n",
        "    \"topic_19\" : \"TODO\",\n",
        "    \"topic_20\" : \"XIX german painter ?\",\n",
        "    \"topic_21\" : \"TODO\"\n",
        "}"
      ],
      "metadata": {
        "id": "k1ZDHygZ9Rpf"
      },
      "execution_count": 162,
      "outputs": []
    },
    {
      "cell_type": "markdown",
      "source": [
        "Let's look at which documents have the 4th topic as prevalent"
      ],
      "metadata": {
        "id": "DySI8wmQockY"
      }
    },
    {
      "cell_type": "code",
      "source": [
        "prohiminent_topics = pd.DataFrame(p_cd_test.idxmax(axis=0)).rename(columns={0: \"topic\"})\n",
        "prohiminent_topics[prohiminent_topics[\"topic\"]==\"topic_4\"]"
      ],
      "metadata": {
        "colab": {
          "base_uri": "https://localhost:8080/",
          "height": 457
        },
        "id": "_U3M1dNhWLY2",
        "outputId": "dfdc1a76-9d64-4878-97d3-ae1b1e33c87e"
      },
      "execution_count": 179,
      "outputs": [
        {
          "output_type": "execute_result",
          "data": {
            "text/plain": [
              "         topic\n",
              "14361  topic_4\n",
              "14975  topic_4\n",
              "14977  topic_4\n",
              "15024  topic_4\n",
              "15343  topic_4\n",
              "15650  topic_4\n",
              "15678  topic_4\n",
              "15687  topic_4\n",
              "15696  topic_4\n",
              "15722  topic_4\n",
              "15820  topic_4\n",
              "15898  topic_4\n",
              "16009  topic_4"
            ],
            "text/html": [
              "\n",
              "  <div id=\"df-8053d0b7-0ad0-41cf-81c3-7b04ee6da1ba\">\n",
              "    <div class=\"colab-df-container\">\n",
              "      <div>\n",
              "<style scoped>\n",
              "    .dataframe tbody tr th:only-of-type {\n",
              "        vertical-align: middle;\n",
              "    }\n",
              "\n",
              "    .dataframe tbody tr th {\n",
              "        vertical-align: top;\n",
              "    }\n",
              "\n",
              "    .dataframe thead th {\n",
              "        text-align: right;\n",
              "    }\n",
              "</style>\n",
              "<table border=\"1\" class=\"dataframe\">\n",
              "  <thead>\n",
              "    <tr style=\"text-align: right;\">\n",
              "      <th></th>\n",
              "      <th>topic</th>\n",
              "    </tr>\n",
              "  </thead>\n",
              "  <tbody>\n",
              "    <tr>\n",
              "      <th>14361</th>\n",
              "      <td>topic_4</td>\n",
              "    </tr>\n",
              "    <tr>\n",
              "      <th>14975</th>\n",
              "      <td>topic_4</td>\n",
              "    </tr>\n",
              "    <tr>\n",
              "      <th>14977</th>\n",
              "      <td>topic_4</td>\n",
              "    </tr>\n",
              "    <tr>\n",
              "      <th>15024</th>\n",
              "      <td>topic_4</td>\n",
              "    </tr>\n",
              "    <tr>\n",
              "      <th>15343</th>\n",
              "      <td>topic_4</td>\n",
              "    </tr>\n",
              "    <tr>\n",
              "      <th>15650</th>\n",
              "      <td>topic_4</td>\n",
              "    </tr>\n",
              "    <tr>\n",
              "      <th>15678</th>\n",
              "      <td>topic_4</td>\n",
              "    </tr>\n",
              "    <tr>\n",
              "      <th>15687</th>\n",
              "      <td>topic_4</td>\n",
              "    </tr>\n",
              "    <tr>\n",
              "      <th>15696</th>\n",
              "      <td>topic_4</td>\n",
              "    </tr>\n",
              "    <tr>\n",
              "      <th>15722</th>\n",
              "      <td>topic_4</td>\n",
              "    </tr>\n",
              "    <tr>\n",
              "      <th>15820</th>\n",
              "      <td>topic_4</td>\n",
              "    </tr>\n",
              "    <tr>\n",
              "      <th>15898</th>\n",
              "      <td>topic_4</td>\n",
              "    </tr>\n",
              "    <tr>\n",
              "      <th>16009</th>\n",
              "      <td>topic_4</td>\n",
              "    </tr>\n",
              "  </tbody>\n",
              "</table>\n",
              "</div>\n",
              "      <button class=\"colab-df-convert\" onclick=\"convertToInteractive('df-8053d0b7-0ad0-41cf-81c3-7b04ee6da1ba')\"\n",
              "              title=\"Convert this dataframe to an interactive table.\"\n",
              "              style=\"display:none;\">\n",
              "        \n",
              "  <svg xmlns=\"http://www.w3.org/2000/svg\" height=\"24px\"viewBox=\"0 0 24 24\"\n",
              "       width=\"24px\">\n",
              "    <path d=\"M0 0h24v24H0V0z\" fill=\"none\"/>\n",
              "    <path d=\"M18.56 5.44l.94 2.06.94-2.06 2.06-.94-2.06-.94-.94-2.06-.94 2.06-2.06.94zm-11 1L8.5 8.5l.94-2.06 2.06-.94-2.06-.94L8.5 2.5l-.94 2.06-2.06.94zm10 10l.94 2.06.94-2.06 2.06-.94-2.06-.94-.94-2.06-.94 2.06-2.06.94z\"/><path d=\"M17.41 7.96l-1.37-1.37c-.4-.4-.92-.59-1.43-.59-.52 0-1.04.2-1.43.59L10.3 9.45l-7.72 7.72c-.78.78-.78 2.05 0 2.83L4 21.41c.39.39.9.59 1.41.59.51 0 1.02-.2 1.41-.59l7.78-7.78 2.81-2.81c.8-.78.8-2.07 0-2.86zM5.41 20L4 18.59l7.72-7.72 1.47 1.35L5.41 20z\"/>\n",
              "  </svg>\n",
              "      </button>\n",
              "      \n",
              "  <style>\n",
              "    .colab-df-container {\n",
              "      display:flex;\n",
              "      flex-wrap:wrap;\n",
              "      gap: 12px;\n",
              "    }\n",
              "\n",
              "    .colab-df-convert {\n",
              "      background-color: #E8F0FE;\n",
              "      border: none;\n",
              "      border-radius: 50%;\n",
              "      cursor: pointer;\n",
              "      display: none;\n",
              "      fill: #1967D2;\n",
              "      height: 32px;\n",
              "      padding: 0 0 0 0;\n",
              "      width: 32px;\n",
              "    }\n",
              "\n",
              "    .colab-df-convert:hover {\n",
              "      background-color: #E2EBFA;\n",
              "      box-shadow: 0px 1px 2px rgba(60, 64, 67, 0.3), 0px 1px 3px 1px rgba(60, 64, 67, 0.15);\n",
              "      fill: #174EA6;\n",
              "    }\n",
              "\n",
              "    [theme=dark] .colab-df-convert {\n",
              "      background-color: #3B4455;\n",
              "      fill: #D2E3FC;\n",
              "    }\n",
              "\n",
              "    [theme=dark] .colab-df-convert:hover {\n",
              "      background-color: #434B5C;\n",
              "      box-shadow: 0px 1px 3px 1px rgba(0, 0, 0, 0.15);\n",
              "      filter: drop-shadow(0px 1px 2px rgba(0, 0, 0, 0.3));\n",
              "      fill: #FFFFFF;\n",
              "    }\n",
              "  </style>\n",
              "\n",
              "      <script>\n",
              "        const buttonEl =\n",
              "          document.querySelector('#df-8053d0b7-0ad0-41cf-81c3-7b04ee6da1ba button.colab-df-convert');\n",
              "        buttonEl.style.display =\n",
              "          google.colab.kernel.accessAllowed ? 'block' : 'none';\n",
              "\n",
              "        async function convertToInteractive(key) {\n",
              "          const element = document.querySelector('#df-8053d0b7-0ad0-41cf-81c3-7b04ee6da1ba');\n",
              "          const dataTable =\n",
              "            await google.colab.kernel.invokeFunction('convertToInteractive',\n",
              "                                                     [key], {});\n",
              "          if (!dataTable) return;\n",
              "\n",
              "          const docLinkHtml = 'Like what you see? Visit the ' +\n",
              "            '<a target=\"_blank\" href=https://colab.research.google.com/notebooks/data_table.ipynb>data table notebook</a>'\n",
              "            + ' to learn more about interactive tables.';\n",
              "          element.innerHTML = '';\n",
              "          dataTable['output_type'] = 'display_data';\n",
              "          await google.colab.output.renderOutput(dataTable, element);\n",
              "          const docLink = document.createElement('div');\n",
              "          docLink.innerHTML = docLinkHtml;\n",
              "          element.appendChild(docLink);\n",
              "        }\n",
              "      </script>\n",
              "    </div>\n",
              "  </div>\n",
              "  "
            ]
          },
          "metadata": {},
          "execution_count": 179
        }
      ]
    },
    {
      "cell_type": "markdown",
      "source": [
        "And we look in more details in the distribution of topic of one specific document."
      ],
      "metadata": {
        "id": "yBqxZRvJol8h"
      }
    },
    {
      "cell_type": "code",
      "source": [
        "p_cd_test[16009]"
      ],
      "metadata": {
        "colab": {
          "base_uri": "https://localhost:8080/"
        },
        "id": "xmuYmQe6YsVj",
        "outputId": "ab86349c-561d-4f6a-b76f-a02285beea5d"
      },
      "execution_count": 186,
      "outputs": [
        {
          "output_type": "execute_result",
          "data": {
            "text/plain": [
              "topic_0     0.000000\n",
              "topic_1     0.111045\n",
              "topic_2     0.000000\n",
              "topic_3     0.000000\n",
              "topic_4     0.888955\n",
              "topic_5     0.000000\n",
              "topic_6     0.000000\n",
              "topic_7     0.000000\n",
              "topic_8     0.000000\n",
              "topic_9     0.000000\n",
              "topic_10    0.000000\n",
              "topic_11    0.000000\n",
              "topic_12    0.000000\n",
              "topic_13    0.000000\n",
              "topic_14    0.000000\n",
              "topic_15    0.000000\n",
              "topic_16    0.000000\n",
              "topic_17    0.000000\n",
              "topic_18    0.000000\n",
              "topic_19    0.000000\n",
              "topic_20    0.000000\n",
              "topic_21    0.000000\n",
              "Name: 16009, dtype: float32"
            ]
          },
          "metadata": {},
          "execution_count": 186
        }
      ]
    }
  ]
}